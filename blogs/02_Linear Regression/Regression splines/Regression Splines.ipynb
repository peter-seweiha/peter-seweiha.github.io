{
 "cells": [
  {
   "cell_type": "markdown",
   "metadata": {},
   "source": [
    "## intro to Regression Splines\n",
    "\n",
    "There are other issues with polynomial regression. For example, it is inherently non-local, i.e., changing the value of Y at one point in the training set can affect the fit of the polynomial for data points that are very far away. Hence, to avoid the use of high degree polynomial on the whole dataset, we can substitute it with many different small degree polynomial functions."
   ]
  },
  {
   "cell_type": "code",
   "execution_count": 1,
   "metadata": {},
   "outputs": [],
   "source": [
    "# import modules\n",
    "import pandas as pd\n",
    "import numpy as np\n",
    "import matplotlib.pyplot as plt \n",
    "%matplotlib inline\n"
   ]
  },
  {
   "cell_type": "markdown",
   "metadata": {},
   "source": [
    "### Intro to patsy liberary\n",
    "Patsy is a great place to transform variables for modelling, specially for linear models.  \n",
    "\n",
    "[Spline Regression in patsy](https://patsy.readthedocs.io/en/latest/spline-regression.html)\n",
    "\n",
    "I'll explain the components of the materix used in this example:  \n",
    "cr() : Natural cubic regression splines (the selected one)  \n",
    "cc() : cyclic cubic regression splines  \n",
    "bs() : General B-splines  \n",
    "\n",
    "-1   : remove the intercept column  \n",
    "\n",
    "build_design_matrices() : will use the info. then make predictions on a new set of data  (to view full data, use np.asarray(this_obj))\n"
   ]
  },
  {
   "cell_type": "code",
   "execution_count": 2,
   "metadata": {},
   "outputs": [],
   "source": [
    "from patsy import dmatrix\n",
    "from patsy import build_design_matrices"
   ]
  },
  {
   "cell_type": "code",
   "execution_count": 3,
   "metadata": {},
   "outputs": [],
   "source": [
    "# create initial data to start with\n",
    "X_train = {\"x\": np.linspace(0., 1., 100)}\n",
    "X_test = {\"x\": [0.1, 0.2, 0.25, 0.5, 0.7, 0.9]}"
   ]
  },
  {
   "cell_type": "code",
   "execution_count": 4,
   "metadata": {},
   "outputs": [],
   "source": [
    "# Generating natural cubic spline for feature \"x\" in train data\n",
    "design_matrix_train = dmatrix(\"cr(x, df=4)-1\", X_train, return_type='dataframe')\n",
    "\n",
    "# Transform Test Data \n",
    "design_matrix_test = pd.DataFrame(np.asarray(build_design_matrices([design_matrix_train.design_info], X_test)[0]))"
   ]
  },
  {
   "cell_type": "code",
   "execution_count": 5,
   "metadata": {},
   "outputs": [
    {
     "data": {
      "text/html": [
       "<div>\n",
       "<style scoped>\n",
       "    .dataframe tbody tr th:only-of-type {\n",
       "        vertical-align: middle;\n",
       "    }\n",
       "\n",
       "    .dataframe tbody tr th {\n",
       "        vertical-align: top;\n",
       "    }\n",
       "\n",
       "    .dataframe thead th {\n",
       "        text-align: right;\n",
       "    }\n",
       "</style>\n",
       "<table border=\"1\" class=\"dataframe\">\n",
       "  <thead>\n",
       "    <tr style=\"text-align: right;\">\n",
       "      <th></th>\n",
       "      <th>cr(x, df=4)[0]</th>\n",
       "      <th>cr(x, df=4)[1]</th>\n",
       "      <th>cr(x, df=4)[2]</th>\n",
       "      <th>cr(x, df=4)[3]</th>\n",
       "    </tr>\n",
       "  </thead>\n",
       "  <tbody>\n",
       "    <tr>\n",
       "      <th>0</th>\n",
       "      <td>1.000000</td>\n",
       "      <td>0.000000</td>\n",
       "      <td>0.000000</td>\n",
       "      <td>0.000000</td>\n",
       "    </tr>\n",
       "    <tr>\n",
       "      <th>1</th>\n",
       "      <td>0.961624</td>\n",
       "      <td>0.048468</td>\n",
       "      <td>-0.012110</td>\n",
       "      <td>0.002018</td>\n",
       "    </tr>\n",
       "    <tr>\n",
       "      <th>2</th>\n",
       "      <td>0.923292</td>\n",
       "      <td>0.096836</td>\n",
       "      <td>-0.024153</td>\n",
       "      <td>0.004026</td>\n",
       "    </tr>\n",
       "    <tr>\n",
       "      <th>3</th>\n",
       "      <td>0.885049</td>\n",
       "      <td>0.145004</td>\n",
       "      <td>-0.036063</td>\n",
       "      <td>0.006011</td>\n",
       "    </tr>\n",
       "    <tr>\n",
       "      <th>4</th>\n",
       "      <td>0.846940</td>\n",
       "      <td>0.192871</td>\n",
       "      <td>-0.047772</td>\n",
       "      <td>0.007962</td>\n",
       "    </tr>\n",
       "    <tr>\n",
       "      <th>...</th>\n",
       "      <td>...</td>\n",
       "      <td>...</td>\n",
       "      <td>...</td>\n",
       "      <td>...</td>\n",
       "    </tr>\n",
       "    <tr>\n",
       "      <th>95</th>\n",
       "      <td>0.007962</td>\n",
       "      <td>-0.047772</td>\n",
       "      <td>0.192871</td>\n",
       "      <td>0.846940</td>\n",
       "    </tr>\n",
       "    <tr>\n",
       "      <th>96</th>\n",
       "      <td>0.006011</td>\n",
       "      <td>-0.036063</td>\n",
       "      <td>0.145004</td>\n",
       "      <td>0.885049</td>\n",
       "    </tr>\n",
       "    <tr>\n",
       "      <th>97</th>\n",
       "      <td>0.004026</td>\n",
       "      <td>-0.024153</td>\n",
       "      <td>0.096836</td>\n",
       "      <td>0.923292</td>\n",
       "    </tr>\n",
       "    <tr>\n",
       "      <th>98</th>\n",
       "      <td>0.002018</td>\n",
       "      <td>-0.012110</td>\n",
       "      <td>0.048468</td>\n",
       "      <td>0.961624</td>\n",
       "    </tr>\n",
       "    <tr>\n",
       "      <th>99</th>\n",
       "      <td>0.000000</td>\n",
       "      <td>0.000000</td>\n",
       "      <td>0.000000</td>\n",
       "      <td>1.000000</td>\n",
       "    </tr>\n",
       "  </tbody>\n",
       "</table>\n",
       "<p>100 rows × 4 columns</p>\n",
       "</div>"
      ],
      "text/plain": [
       "    cr(x, df=4)[0]  cr(x, df=4)[1]  cr(x, df=4)[2]  cr(x, df=4)[3]\n",
       "0         1.000000        0.000000        0.000000        0.000000\n",
       "1         0.961624        0.048468       -0.012110        0.002018\n",
       "2         0.923292        0.096836       -0.024153        0.004026\n",
       "3         0.885049        0.145004       -0.036063        0.006011\n",
       "4         0.846940        0.192871       -0.047772        0.007962\n",
       "..             ...             ...             ...             ...\n",
       "95        0.007962       -0.047772        0.192871        0.846940\n",
       "96        0.006011       -0.036063        0.145004        0.885049\n",
       "97        0.004026       -0.024153        0.096836        0.923292\n",
       "98        0.002018       -0.012110        0.048468        0.961624\n",
       "99        0.000000        0.000000        0.000000        1.000000\n",
       "\n",
       "[100 rows x 4 columns]"
      ]
     },
     "execution_count": 5,
     "metadata": {},
     "output_type": "execute_result"
    }
   ],
   "source": [
    "design_matrix_train"
   ]
  },
  {
   "cell_type": "code",
   "execution_count": 6,
   "metadata": {},
   "outputs": [
    {
     "data": {
      "text/html": [
       "<div>\n",
       "<style scoped>\n",
       "    .dataframe tbody tr th:only-of-type {\n",
       "        vertical-align: middle;\n",
       "    }\n",
       "\n",
       "    .dataframe tbody tr th {\n",
       "        vertical-align: top;\n",
       "    }\n",
       "\n",
       "    .dataframe thead th {\n",
       "        text-align: right;\n",
       "    }\n",
       "</style>\n",
       "<table border=\"1\" class=\"dataframe\">\n",
       "  <thead>\n",
       "    <tr style=\"text-align: right;\">\n",
       "      <th></th>\n",
       "      <th>0</th>\n",
       "      <th>1</th>\n",
       "      <th>2</th>\n",
       "      <th>3</th>\n",
       "    </tr>\n",
       "  </thead>\n",
       "  <tbody>\n",
       "    <tr>\n",
       "      <th>0</th>\n",
       "      <td>0.6272</td>\n",
       "      <td>0.463800</td>\n",
       "      <td>-0.10920</td>\n",
       "      <td>0.018200</td>\n",
       "    </tr>\n",
       "    <tr>\n",
       "      <th>1</th>\n",
       "      <td>0.2976</td>\n",
       "      <td>0.830400</td>\n",
       "      <td>-0.15360</td>\n",
       "      <td>0.025600</td>\n",
       "    </tr>\n",
       "    <tr>\n",
       "      <th>2</th>\n",
       "      <td>0.1625</td>\n",
       "      <td>0.946875</td>\n",
       "      <td>-0.13125</td>\n",
       "      <td>0.021875</td>\n",
       "    </tr>\n",
       "    <tr>\n",
       "      <th>3</th>\n",
       "      <td>-0.0750</td>\n",
       "      <td>0.575000</td>\n",
       "      <td>0.57500</td>\n",
       "      <td>-0.075000</td>\n",
       "    </tr>\n",
       "    <tr>\n",
       "      <th>4</th>\n",
       "      <td>0.0114</td>\n",
       "      <td>-0.068400</td>\n",
       "      <td>1.00260</td>\n",
       "      <td>0.054400</td>\n",
       "    </tr>\n",
       "    <tr>\n",
       "      <th>5</th>\n",
       "      <td>0.0182</td>\n",
       "      <td>-0.109200</td>\n",
       "      <td>0.46380</td>\n",
       "      <td>0.627200</td>\n",
       "    </tr>\n",
       "  </tbody>\n",
       "</table>\n",
       "</div>"
      ],
      "text/plain": [
       "        0         1        2         3\n",
       "0  0.6272  0.463800 -0.10920  0.018200\n",
       "1  0.2976  0.830400 -0.15360  0.025600\n",
       "2  0.1625  0.946875 -0.13125  0.021875\n",
       "3 -0.0750  0.575000  0.57500 -0.075000\n",
       "4  0.0114 -0.068400  1.00260  0.054400\n",
       "5  0.0182 -0.109200  0.46380  0.627200"
      ]
     },
     "execution_count": 6,
     "metadata": {},
     "output_type": "execute_result"
    }
   ],
   "source": [
    "design_matrix_test"
   ]
  },
  {
   "cell_type": "code",
   "execution_count": 8,
   "metadata": {},
   "outputs": [
    {
     "data": {
      "image/png": "[encoded data removed]",
      "text/plain": [
       "<Figure size 1080x648 with 1 Axes>"
      ]
     },
     "metadata": {
      "needs_background": "light"
     },
     "output_type": "display_data"
    }
   ],
   "source": [
    "design_matrix_train.plot(figsize=(15,9))\n",
    "plt.show()"
   ]
  },
  {
   "cell_type": "code",
   "execution_count": null,
   "metadata": {},
   "outputs": [],
   "source": []
  },
  {
   "cell_type": "code",
   "execution_count": null,
   "metadata": {},
   "outputs": [],
   "source": []
  },
  {
   "cell_type": "code",
   "execution_count": null,
   "metadata": {},
   "outputs": [],
   "source": []
  },
  {
   "cell_type": "code",
   "execution_count": null,
   "metadata": {},
   "outputs": [],
   "source": []
  },
  {
   "cell_type": "code",
   "execution_count": null,
   "metadata": {},
   "outputs": [],
   "source": []
  },
  {
   "cell_type": "code",
   "execution_count": null,
   "metadata": {},
   "outputs": [],
   "source": []
  },
  {
   "cell_type": "code",
   "execution_count": null,
   "metadata": {},
   "outputs": [],
   "source": [
    "# Generating natural cubic spline\n",
    "transformed_x = dmatrix(\"cr(train,df = 5)-1\", {\"train\": data_x}, return_type='dataframe')"
   ]
  },
  {
   "cell_type": "code",
   "execution_count": null,
   "metadata": {},
   "outputs": [],
   "source": [
    "\n",
    "\n",
    "fit3 = sm.GLM(train_y, transformed_x3).fit()\n",
    "\n",
    "# Prediction on validation set\n",
    "pred3 = fit3.predict(dmatrix(\"cr(valid, df=3)\", {\"valid\": valid_x}, return_type='dataframe'))\n",
    "\n",
    "# We will plot the graph for 70 observations only\n",
    "xp = np.linspace(valid_x.min(),valid_x.max(),70)\n",
    "pred3 = fit3.predict(dmatrix(\"cr(xp, df=3)\", {\"xp\": xp}, return_type='dataframe'))\n",
    "\n",
    "# Plot the spline\n",
    "plt.scatter(data.age, data.wage, facecolor='None', edgecolor='k', alpha=0.1)\n",
    "plt.plot(xp, pred3,color='g', label='Natural spline')\n",
    "plt.legend()\n",
    "plt.xlim(15,85)\n",
    "plt.ylim(0,350)\n",
    "plt.xlabel('age')\n",
    "plt.ylabel('wage')\n",
    "plt.show()"
   ]
  },
  {
   "cell_type": "code",
   "execution_count": null,
   "metadata": {},
   "outputs": [],
   "source": [
    "transformed_x3"
   ]
  },
  {
   "cell_type": "code",
   "execution_count": null,
   "metadata": {},
   "outputs": [],
   "source": []
  },
  {
   "cell_type": "code",
   "execution_count": null,
   "metadata": {},
   "outputs": [],
   "source": []
  },
  {
   "cell_type": "code",
   "execution_count": null,
   "metadata": {},
   "outputs": [],
   "source": []
  },
  {
   "cell_type": "code",
   "execution_count": null,
   "metadata": {},
   "outputs": [],
   "source": []
  },
  {
   "cell_type": "code",
   "execution_count": null,
   "metadata": {},
   "outputs": [],
   "source": []
  },
  {
   "cell_type": "code",
   "execution_count": null,
   "metadata": {},
   "outputs": [],
   "source": []
  },
  {
   "cell_type": "code",
   "execution_count": null,
   "metadata": {},
   "outputs": [],
   "source": []
  }
 ],
 "metadata": {
  "kernelspec": {
   "display_name": "Python 3",
   "language": "python",
   "name": "python3"
  },
  "language_info": {
   "codemirror_mode": {
    "name": "ipython",
    "version": 3
   },
   "file_extension": ".py",
   "mimetype": "text/x-python",
   "name": "python",
   "nbconvert_exporter": "python",
   "pygments_lexer": "ipython3",
   "version": "3.7.6"
  }
 },
 "nbformat": 4,
 "nbformat_minor": 4
}
