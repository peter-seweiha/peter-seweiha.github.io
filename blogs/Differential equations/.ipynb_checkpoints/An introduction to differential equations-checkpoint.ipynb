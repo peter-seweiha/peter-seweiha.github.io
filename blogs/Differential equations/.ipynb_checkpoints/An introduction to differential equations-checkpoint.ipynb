{
 "cells": [
  {
   "cell_type": "markdown",
   "metadata": {},
   "source": [
    "# An introduction to differential equations"
   ]
  },
  {
   "cell_type": "markdown",
   "metadata": {},
   "source": [
    "Lets start by descriping a function e.g.  $ f(x) = mx + c$\n",
    "\n",
    "A function descripes the output $y$ or $f(x)$ for every given input $x$. \n",
    "\n",
    "**But what if we could't find a function to descripe $f(x)$?**\n",
    "\n",
    "In some cases we can't descripe the function but we can descripe a change in this function over time e.g. $\\Delta T$. the equation descriping that change is called a differential equation and it's written in the format $\\frac{dT}{dt}$. Knowing that we can try to find the function descriping \n",
    "$T$ by solving the differential equation. The pupose of solving the differential equation is to find the function that can help us find $f(x)$ at any point in time  :)"
   ]
  },
  {
   "cell_type": "markdown",
   "metadata": {},
   "source": [
    "![title](ODE_example.jpg)"
   ]
  },
  {
   "cell_type": "markdown",
   "metadata": {},
   "source": [
    "### Now, let's find a numerical solution to this example"
   ]
  },
  {
   "cell_type": "code",
   "execution_count": 1,
   "metadata": {},
   "outputs": [
    {
     "data": {
      "text/html": [
       "<div>\n",
       "<style scoped>\n",
       "    .dataframe tbody tr th:only-of-type {\n",
       "        vertical-align: middle;\n",
       "    }\n",
       "\n",
       "    .dataframe tbody tr th {\n",
       "        vertical-align: top;\n",
       "    }\n",
       "\n",
       "    .dataframe thead th {\n",
       "        text-align: right;\n",
       "    }\n",
       "</style>\n",
       "<table border=\"1\" class=\"dataframe\">\n",
       "  <thead>\n",
       "    <tr style=\"text-align: right;\">\n",
       "      <th></th>\n",
       "      <th>time</th>\n",
       "      <th>velocity</th>\n",
       "      <th>distance</th>\n",
       "    </tr>\n",
       "  </thead>\n",
       "  <tbody>\n",
       "    <tr>\n",
       "      <th>0</th>\n",
       "      <td>0.0000</td>\n",
       "      <td>1.0000</td>\n",
       "      <td>0.0000</td>\n",
       "    </tr>\n",
       "    <tr>\n",
       "      <th>1</th>\n",
       "      <td>0.0001</td>\n",
       "      <td>1.0002</td>\n",
       "      <td>0.0001</td>\n",
       "    </tr>\n",
       "    <tr>\n",
       "      <th>2</th>\n",
       "      <td>0.0002</td>\n",
       "      <td>1.0004</td>\n",
       "      <td>0.0002</td>\n",
       "    </tr>\n",
       "    <tr>\n",
       "      <th>3</th>\n",
       "      <td>0.0003</td>\n",
       "      <td>1.0006</td>\n",
       "      <td>0.0003</td>\n",
       "    </tr>\n",
       "    <tr>\n",
       "      <th>4</th>\n",
       "      <td>0.0004</td>\n",
       "      <td>1.0008</td>\n",
       "      <td>0.0004</td>\n",
       "    </tr>\n",
       "  </tbody>\n",
       "</table>\n",
       "</div>"
      ],
      "text/plain": [
       "     time  velocity  distance\n",
       "0  0.0000    1.0000    0.0000\n",
       "1  0.0001    1.0002    0.0001\n",
       "2  0.0002    1.0004    0.0002\n",
       "3  0.0003    1.0006    0.0003\n",
       "4  0.0004    1.0008    0.0004"
      ]
     },
     "execution_count": 1,
     "metadata": {},
     "output_type": "execute_result"
    }
   ],
   "source": [
    "import numpy as np\n",
    "import pandas as pd\n",
    "import matplotlib.pyplot as plt\n",
    "\n",
    "# Define Constants\n",
    "m = 10 # Kg\n",
    "F = 20 # N\n",
    "\n",
    "# define initial conditions\n",
    "distance_0 = 0       # initial position m\n",
    "distance_dot_0 = 1   # initial velocity m/s\n",
    "time_0 =0\n",
    "\n",
    "# define time span and time increments\n",
    "max_time = 10\n",
    "delta_t = 0.0001\n",
    "\n",
    "# Set the lists to capture data at each time increment\n",
    "distance = distance_0\n",
    "distance_dot_velocity = distance_dot_0  # also called distance prime\n",
    "\n",
    "distance_change = []\n",
    "velocity_change = []\n",
    "time_change = []\n",
    "\n",
    "distance_change.append(distance)\n",
    "velocity_change.append(distance_dot_velocity)\n",
    "time_change.append(time_0)\n",
    "\n",
    "# A loop to calculate distance & velocity after each time increment (delta_t)\n",
    "for time in np.arange(delta_t, max_time, delta_t):\n",
    "    \n",
    "    distance_double_dot_acceleration = F/m\n",
    "    distance_dot_velocity += distance_double_dot_acceleration *delta_t\n",
    "    distance += distance_dot_velocity * delta_t\n",
    "    \n",
    "    distance_change.append(distance)\n",
    "    velocity_change.append(distance_dot_velocity)\n",
    "    time_change.append(time)\n",
    "    \n",
    "# store the output in a data frame\n",
    "result = pd.DataFrame({'time': time_change, 'velocity':velocity_change, 'distance': distance_change})\n",
    "result.head(5)"
   ]
  },
  {
   "cell_type": "markdown",
   "metadata": {},
   "source": [
    "## Now let's compare the output from numerical solution to the one coming from mathematically solving the differential equation"
   ]
  },
  {
   "cell_type": "code",
   "execution_count": 2,
   "metadata": {},
   "outputs": [
    {
     "data": {
      "text/plain": [
       "90.0"
      ]
     },
     "execution_count": 2,
     "metadata": {},
     "output_type": "execute_result"
    }
   ],
   "source": [
    "# Output from solution coming by solving the differential equations\n",
    "t = 9\n",
    "ditance_at_t = (F * t**2 / (2*m)) + t\n",
    "ditance_at_t"
   ]
  },
  {
   "cell_type": "code",
   "execution_count": 3,
   "metadata": {},
   "outputs": [
    {
     "name": "stdout",
     "output_type": "stream",
     "text": [
      "[90.0009]\n"
     ]
    }
   ],
   "source": [
    "# Output from a numerical solution (basically calculating and adding all changes at tiny time increments)\n",
    "print(result[result['time']==t]['distance'].values)"
   ]
  },
  {
   "cell_type": "markdown",
   "metadata": {},
   "source": [
    "### Conclusion:\n",
    "Solving differential equation numerically using computer power can yield a very close results to the mathematical solution given the time increments(as in this example) are very small"
   ]
  },
  {
   "cell_type": "markdown",
   "metadata": {},
   "source": [
    "Useful resources:\n",
    "- https://www.youtube.com/watch?v=K80YEHQpx9g; \n",
    "- https://www.youtube.com/watch?v=p_di4Zn4wz4; \n",
    "- https://www.youtube.com/watch?v=3imItqcWsmw&t=607s (in Arabic)"
   ]
  }
 ],
 "metadata": {
  "kernelspec": {
   "display_name": "Python 3",
   "language": "python",
   "name": "python3"
  },
  "language_info": {
   "codemirror_mode": {
    "name": "ipython",
    "version": 3
   },
   "file_extension": ".py",
   "mimetype": "text/x-python",
   "name": "python",
   "nbconvert_exporter": "python",
   "pygments_lexer": "ipython3",
   "version": "3.7.6"
  }
 },
 "nbformat": 4,
 "nbformat_minor": 4
}
