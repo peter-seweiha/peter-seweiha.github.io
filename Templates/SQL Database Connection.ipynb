{
 "cells": [
  {
   "cell_type": "markdown",
   "metadata": {},
   "source": [
    "## A way to query data from Microsoft SQL Server\n"
   ]
  },
  {
   "cell_type": "code",
   "execution_count": 1,
   "metadata": {},
   "outputs": [],
   "source": [
    "import pandas as pd\n",
    "# A python module for Open DataBase Connectivity\n",
    "import pyodbc"
   ]
  },
  {
   "cell_type": "code",
   "execution_count": 2,
   "metadata": {},
   "outputs": [],
   "source": [
    "# Database details\n",
    "server = 'PETE\\SQLEXPRESS'\n",
    "db = 'AdventureWorks2017'\n",
    "\n",
    "# create the connection\n",
    "conn = pyodbc.connect('DRIVER={SQL Server}; SERVER=' + server + ';DATABASE=' + db + ';Trusted_Connection=yes')"
   ]
  },
  {
   "cell_type": "code",
   "execution_count": 3,
   "metadata": {},
   "outputs": [],
   "source": [
    "# Query db\n",
    "sql = '''\n",
    "SELECT\n",
    "  *\n",
    "FROM\n",
    "  INFORMATION_SCHEMA.TABLES;\n",
    "\n",
    "'''"
   ]
  },
  {
   "cell_type": "code",
   "execution_count": 4,
   "metadata": {},
   "outputs": [
    {
     "data": {
      "text/html": [
       "<div>\n",
       "<style scoped>\n",
       "    .dataframe tbody tr th:only-of-type {\n",
       "        vertical-align: middle;\n",
       "    }\n",
       "\n",
       "    .dataframe tbody tr th {\n",
       "        vertical-align: top;\n",
       "    }\n",
       "\n",
       "    .dataframe thead th {\n",
       "        text-align: right;\n",
       "    }\n",
       "</style>\n",
       "<table border=\"1\" class=\"dataframe\">\n",
       "  <thead>\n",
       "    <tr style=\"text-align: right;\">\n",
       "      <th></th>\n",
       "      <th>TABLE_CATALOG</th>\n",
       "      <th>TABLE_SCHEMA</th>\n",
       "      <th>TABLE_NAME</th>\n",
       "      <th>TABLE_TYPE</th>\n",
       "    </tr>\n",
       "  </thead>\n",
       "  <tbody>\n",
       "    <tr>\n",
       "      <th>0</th>\n",
       "      <td>AdventureWorks2017</td>\n",
       "      <td>HumanResources</td>\n",
       "      <td>EmployeePayHistory</td>\n",
       "      <td>BASE TABLE</td>\n",
       "    </tr>\n",
       "    <tr>\n",
       "      <th>1</th>\n",
       "      <td>AdventureWorks2017</td>\n",
       "      <td>Sales</td>\n",
       "      <td>SalesOrderHeaderSalesReason</td>\n",
       "      <td>BASE TABLE</td>\n",
       "    </tr>\n",
       "    <tr>\n",
       "      <th>2</th>\n",
       "      <td>AdventureWorks2017</td>\n",
       "      <td>Sales</td>\n",
       "      <td>SalesPerson</td>\n",
       "      <td>BASE TABLE</td>\n",
       "    </tr>\n",
       "    <tr>\n",
       "      <th>3</th>\n",
       "      <td>AdventureWorks2017</td>\n",
       "      <td>Production</td>\n",
       "      <td>Illustration</td>\n",
       "      <td>BASE TABLE</td>\n",
       "    </tr>\n",
       "    <tr>\n",
       "      <th>4</th>\n",
       "      <td>AdventureWorks2017</td>\n",
       "      <td>HumanResources</td>\n",
       "      <td>JobCandidate</td>\n",
       "      <td>BASE TABLE</td>\n",
       "    </tr>\n",
       "  </tbody>\n",
       "</table>\n",
       "</div>"
      ],
      "text/plain": [
       "        TABLE_CATALOG    TABLE_SCHEMA                   TABLE_NAME  TABLE_TYPE\n",
       "0  AdventureWorks2017  HumanResources           EmployeePayHistory  BASE TABLE\n",
       "1  AdventureWorks2017           Sales  SalesOrderHeaderSalesReason  BASE TABLE\n",
       "2  AdventureWorks2017           Sales                  SalesPerson  BASE TABLE\n",
       "3  AdventureWorks2017      Production                 Illustration  BASE TABLE\n",
       "4  AdventureWorks2017  HumanResources                 JobCandidate  BASE TABLE"
      ]
     },
     "execution_count": 4,
     "metadata": {},
     "output_type": "execute_result"
    }
   ],
   "source": [
    "data = pd.read_sql(sql, conn)\n",
    "data.head()"
   ]
  },
  {
   "cell_type": "code",
   "execution_count": 5,
   "metadata": {},
   "outputs": [
    {
     "data": {
      "text/html": [
       "<div>\n",
       "<style scoped>\n",
       "    .dataframe tbody tr th:only-of-type {\n",
       "        vertical-align: middle;\n",
       "    }\n",
       "\n",
       "    .dataframe tbody tr th {\n",
       "        vertical-align: top;\n",
       "    }\n",
       "\n",
       "    .dataframe thead th {\n",
       "        text-align: right;\n",
       "    }\n",
       "</style>\n",
       "<table border=\"1\" class=\"dataframe\">\n",
       "  <thead>\n",
       "    <tr style=\"text-align: right;\">\n",
       "      <th></th>\n",
       "      <th>ProductSubcategoryID</th>\n",
       "      <th>ProductCategoryID</th>\n",
       "      <th>Name</th>\n",
       "      <th>rowguid</th>\n",
       "      <th>ModifiedDate</th>\n",
       "    </tr>\n",
       "  </thead>\n",
       "  <tbody>\n",
       "    <tr>\n",
       "      <th>0</th>\n",
       "      <td>1</td>\n",
       "      <td>1</td>\n",
       "      <td>Mountain Bikes</td>\n",
       "      <td>2D364ADE-264A-433C-B092-4FCBF3804E01</td>\n",
       "      <td>2008-04-30</td>\n",
       "    </tr>\n",
       "    <tr>\n",
       "      <th>1</th>\n",
       "      <td>2</td>\n",
       "      <td>1</td>\n",
       "      <td>Road Bikes</td>\n",
       "      <td>000310C0-BCC8-42C4-B0C3-45AE611AF06B</td>\n",
       "      <td>2008-04-30</td>\n",
       "    </tr>\n",
       "    <tr>\n",
       "      <th>2</th>\n",
       "      <td>3</td>\n",
       "      <td>1</td>\n",
       "      <td>Touring Bikes</td>\n",
       "      <td>02C5061D-ECDC-4274-B5F1-E91D76BC3F37</td>\n",
       "      <td>2008-04-30</td>\n",
       "    </tr>\n",
       "    <tr>\n",
       "      <th>3</th>\n",
       "      <td>4</td>\n",
       "      <td>2</td>\n",
       "      <td>Handlebars</td>\n",
       "      <td>3EF2C725-7135-4C85-9AE6-AE9A3BDD9283</td>\n",
       "      <td>2008-04-30</td>\n",
       "    </tr>\n",
       "    <tr>\n",
       "      <th>4</th>\n",
       "      <td>5</td>\n",
       "      <td>2</td>\n",
       "      <td>Bottom Brackets</td>\n",
       "      <td>A9E54089-8A1E-4CF5-8646-E3801F685934</td>\n",
       "      <td>2008-04-30</td>\n",
       "    </tr>\n",
       "  </tbody>\n",
       "</table>\n",
       "</div>"
      ],
      "text/plain": [
       "   ProductSubcategoryID  ProductCategoryID             Name  \\\n",
       "0                     1                  1   Mountain Bikes   \n",
       "1                     2                  1       Road Bikes   \n",
       "2                     3                  1    Touring Bikes   \n",
       "3                     4                  2       Handlebars   \n",
       "4                     5                  2  Bottom Brackets   \n",
       "\n",
       "                                rowguid ModifiedDate  \n",
       "0  2D364ADE-264A-433C-B092-4FCBF3804E01   2008-04-30  \n",
       "1  000310C0-BCC8-42C4-B0C3-45AE611AF06B   2008-04-30  \n",
       "2  02C5061D-ECDC-4274-B5F1-E91D76BC3F37   2008-04-30  \n",
       "3  3EF2C725-7135-4C85-9AE6-AE9A3BDD9283   2008-04-30  \n",
       "4  A9E54089-8A1E-4CF5-8646-E3801F685934   2008-04-30  "
      ]
     },
     "execution_count": 5,
     "metadata": {},
     "output_type": "execute_result"
    }
   ],
   "source": [
    "# Query db\n",
    "sql = '''\n",
    "SELECT TOP 5 * FROM [Production].[ProductSubcategory]\n",
    "\n",
    "'''\n",
    "data = pd.read_sql(sql, conn)\n",
    "data"
   ]
  }
 ],
 "metadata": {
  "kernelspec": {
   "display_name": "Python 3",
   "language": "python",
   "name": "python3"
  },
  "language_info": {
   "codemirror_mode": {
    "name": "ipython",
    "version": 3
   },
   "file_extension": ".py",
   "mimetype": "text/x-python",
   "name": "python",
   "nbconvert_exporter": "python",
   "pygments_lexer": "ipython3",
   "version": "3.7.3"
  },
  "varInspector": {
   "cols": {
    "lenName": 16,
    "lenType": 16,
    "lenVar": 40
   },
   "kernels_config": {
    "python": {
     "delete_cmd_postfix": "",
     "delete_cmd_prefix": "del ",
     "library": "var_list.py",
     "varRefreshCmd": "print(var_dic_list())"
    },
    "r": {
     "delete_cmd_postfix": ") ",
     "delete_cmd_prefix": "rm(",
     "library": "var_list.r",
     "varRefreshCmd": "cat(var_dic_list()) "
    }
   },
   "types_to_exclude": [
    "module",
    "function",
    "builtin_function_or_method",
    "instance",
    "_Feature"
   ],
   "window_display": false
  }
 },
 "nbformat": 4,
 "nbformat_minor": 2
}
