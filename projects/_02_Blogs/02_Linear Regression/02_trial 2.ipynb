{
 "cells": [
  {
   "cell_type": "markdown",
   "metadata": {},
   "source": [
    "# 01. Full Linear Regression Example\n",
    "I'll walk through a simple Linear Regression example and present all performance metrics & key plots\n",
    "\n",
    "**Key Assumptions**  \n",
    "__________\n",
    "- Linear relationship (Linear Regression is quite sensitive to outliers)\n",
    "- Multivariate normality (check for residuals distribution, should be close to normal)\n",
    "- No or little multicollinearity (VIF > 10)\n",
    "- No auto-correlation (e.g.  y(x+1) is not independent from the value of y(x) in some specific cases\n",
    "- Homoscedasticity (residuals are equal across the regression line)"
   ]
  },
  {
   "cell_type": "code",
   "execution_count": 1,
   "metadata": {},
   "outputs": [],
   "source": [
    "# Import key liberaries\n",
    "import numpy as np\n",
    "import pandas as pd\n",
    "import matplotlib.pyplot as plt\n",
    "import seaborn as sns\n",
    "from matplotlib import cm  # color map \n",
    "\n",
    "from sklearn.datasets import load_boston\n",
    "from sklearn.model_selection import train_test_split\n",
    "from sklearn.linear_model import LinearRegression\n",
    "\n",
    "import statsmodels.api as sm\n",
    "from statsmodels.stats.outliers_influence import variance_inflation_factor\n",
    "\n",
    "%matplotlib inline"
   ]
  },
  {
   "cell_type": "code",
   "execution_count": 2,
   "metadata": {},
   "outputs": [],
   "source": [
    "from sklearn.preprocessing import PolynomialFeatures"
   ]
  },
  {
   "cell_type": "code",
   "execution_count": 3,
   "metadata": {},
   "outputs": [],
   "source": [
    "# Use Boston Housing dataset from Scikit-Learn\n",
    "#[Link](https://scikit-learn.org/stable/modules/generated/sklearn.datasets.load_boston.html)\n",
    "#create a dataframe with provided components\n",
    "\n",
    "b_data = load_boston()\n",
    "data = pd.DataFrame(data = b_data.data, columns= b_data.feature_names)\n",
    "data['PRICE'] = b_data.target\n",
    "\n",
    "# I'll pick a few features to simplify my example\n",
    "data = data[['CRIM','INDUS','RM','DIS','PRICE']]"
   ]
  },
  {
   "cell_type": "code",
   "execution_count": 4,
   "metadata": {},
   "outputs": [
    {
     "data": {
      "text/html": [
       "<div>\n",
       "<style scoped>\n",
       "    .dataframe tbody tr th:only-of-type {\n",
       "        vertical-align: middle;\n",
       "    }\n",
       "\n",
       "    .dataframe tbody tr th {\n",
       "        vertical-align: top;\n",
       "    }\n",
       "\n",
       "    .dataframe thead th {\n",
       "        text-align: right;\n",
       "    }\n",
       "</style>\n",
       "<table border=\"1\" class=\"dataframe\">\n",
       "  <thead>\n",
       "    <tr style=\"text-align: right;\">\n",
       "      <th></th>\n",
       "      <th>CRIM</th>\n",
       "      <th>INDUS</th>\n",
       "      <th>RM</th>\n",
       "      <th>DIS</th>\n",
       "      <th>PRICE</th>\n",
       "    </tr>\n",
       "  </thead>\n",
       "  <tbody>\n",
       "    <tr>\n",
       "      <th>0</th>\n",
       "      <td>0.00632</td>\n",
       "      <td>2.31</td>\n",
       "      <td>6.575</td>\n",
       "      <td>4.0900</td>\n",
       "      <td>24.0</td>\n",
       "    </tr>\n",
       "    <tr>\n",
       "      <th>1</th>\n",
       "      <td>0.02731</td>\n",
       "      <td>7.07</td>\n",
       "      <td>6.421</td>\n",
       "      <td>4.9671</td>\n",
       "      <td>21.6</td>\n",
       "    </tr>\n",
       "    <tr>\n",
       "      <th>2</th>\n",
       "      <td>0.02729</td>\n",
       "      <td>7.07</td>\n",
       "      <td>7.185</td>\n",
       "      <td>4.9671</td>\n",
       "      <td>34.7</td>\n",
       "    </tr>\n",
       "  </tbody>\n",
       "</table>\n",
       "</div>"
      ],
      "text/plain": [
       "      CRIM  INDUS     RM     DIS  PRICE\n",
       "0  0.00632   2.31  6.575  4.0900   24.0\n",
       "1  0.02731   7.07  6.421  4.9671   21.6\n",
       "2  0.02729   7.07  7.185  4.9671   34.7"
      ]
     },
     "execution_count": 4,
     "metadata": {},
     "output_type": "execute_result"
    }
   ],
   "source": [
    "data.head(3)"
   ]
  },
  {
   "cell_type": "code",
   "execution_count": 5,
   "metadata": {},
   "outputs": [],
   "source": [
    "# Data Split\n",
    "X = data.drop('PRICE', axis=1)\n",
    "y = data['PRICE']\n",
    "X_train, X_test, y_train, y_test = train_test_split(X, y, test_size=0.2, random_state=12)"
   ]
  },
  {
   "cell_type": "code",
   "execution_count": 6,
   "metadata": {},
   "outputs": [],
   "source": [
    "poly_features = PolynomialFeatures(degree=1)"
   ]
  },
  {
   "cell_type": "code",
   "execution_count": 7,
   "metadata": {},
   "outputs": [],
   "source": [
    "X_train_poly = poly_features.fit_transform(X_train)\n",
    "X_test_poly = poly_features.transform(X_test)"
   ]
  },
  {
   "cell_type": "code",
   "execution_count": 8,
   "metadata": {},
   "outputs": [
    {
     "data": {
      "text/html": [
       "<div>\n",
       "<style scoped>\n",
       "    .dataframe tbody tr th:only-of-type {\n",
       "        vertical-align: middle;\n",
       "    }\n",
       "\n",
       "    .dataframe tbody tr th {\n",
       "        vertical-align: top;\n",
       "    }\n",
       "\n",
       "    .dataframe thead th {\n",
       "        text-align: right;\n",
       "    }\n",
       "</style>\n",
       "<table border=\"1\" class=\"dataframe\">\n",
       "  <thead>\n",
       "    <tr style=\"text-align: right;\">\n",
       "      <th></th>\n",
       "      <th>1</th>\n",
       "      <th>x0</th>\n",
       "      <th>x1</th>\n",
       "      <th>x2</th>\n",
       "      <th>x3</th>\n",
       "    </tr>\n",
       "  </thead>\n",
       "  <tbody>\n",
       "    <tr>\n",
       "      <th>0</th>\n",
       "      <td>1.0</td>\n",
       "      <td>0.78570</td>\n",
       "      <td>3.97</td>\n",
       "      <td>7.014</td>\n",
       "      <td>2.1329</td>\n",
       "    </tr>\n",
       "    <tr>\n",
       "      <th>1</th>\n",
       "      <td>1.0</td>\n",
       "      <td>0.06263</td>\n",
       "      <td>11.93</td>\n",
       "      <td>6.593</td>\n",
       "      <td>2.4786</td>\n",
       "    </tr>\n",
       "    <tr>\n",
       "      <th>2</th>\n",
       "      <td>1.0</td>\n",
       "      <td>0.14103</td>\n",
       "      <td>13.92</td>\n",
       "      <td>5.790</td>\n",
       "      <td>6.3200</td>\n",
       "    </tr>\n",
       "  </tbody>\n",
       "</table>\n",
       "</div>"
      ],
      "text/plain": [
       "     1       x0     x1     x2      x3\n",
       "0  1.0  0.78570   3.97  7.014  2.1329\n",
       "1  1.0  0.06263  11.93  6.593  2.4786\n",
       "2  1.0  0.14103  13.92  5.790  6.3200"
      ]
     },
     "execution_count": 8,
     "metadata": {},
     "output_type": "execute_result"
    }
   ],
   "source": [
    "pd.DataFrame(X_train_poly, columns = poly_features.get_feature_names()).head(3)"
   ]
  },
  {
   "cell_type": "code",
   "execution_count": null,
   "metadata": {},
   "outputs": [],
   "source": []
  },
  {
   "cell_type": "code",
   "execution_count": 9,
   "metadata": {},
   "outputs": [
    {
     "name": "stdout",
     "output_type": "stream",
     "text": [
      "Training data r-squared: 0.568086134897176\n",
      "Test data r-squared: 0.598161932567424\n"
     ]
    }
   ],
   "source": [
    "# Model Training\n",
    "\n",
    "\n",
    "\n",
    "# Model Training - Find a way to use Stats models only! (results.rsquared)\n",
    "poly_model = LinearRegression()\n",
    "poly_model.fit(X_train_poly, y_train)\n",
    "\n",
    "print('Training data r-squared:', poly_model.score(X_train_poly, y_train))\n",
    "print('Test data r-squared:', poly_model.score(X_test_poly, y_test))\n",
    "\n",
    "# # Evaluating Model Performance\n",
    "# X_incl_constant = sm.add_constant(X_train)\n",
    "# model=sm.OLS(y_train, X_incl_constant)\n",
    "# results= model.fit()\n",
    "\n",
    "# pd.DataFrame({'coef': results.params, 'p-value':round(results.pvalues, 5)})"
   ]
  },
  {
   "cell_type": "code",
   "execution_count": 10,
   "metadata": {},
   "outputs": [
    {
     "data": {
      "text/plain": [
       "-18.758151146486473"
      ]
     },
     "execution_count": 10,
     "metadata": {},
     "output_type": "execute_result"
    }
   ],
   "source": [
    "poly_model.intercept_"
   ]
  },
  {
   "cell_type": "code",
   "execution_count": 11,
   "metadata": {},
   "outputs": [
    {
     "data": {
      "text/plain": [
       "array([ 0.        , -0.19836921, -0.35169681,  7.67096314, -0.61004115])"
      ]
     },
     "execution_count": 11,
     "metadata": {},
     "output_type": "execute_result"
    }
   ],
   "source": [
    "poly_model.coef_"
   ]
  },
  {
   "cell_type": "markdown",
   "metadata": {},
   "source": [
    "# Inspect model assumptions\n",
    "- Check for linearity & outliers\n",
    "- Check for multicolinearity and autocolinearity (if in doubt)\n",
    "- Check for Multivariate normality & Homoscedasticity"
   ]
  },
  {
   "cell_type": "code",
   "execution_count": null,
   "metadata": {},
   "outputs": [],
   "source": [
    "# Check visually for linearity & outliers\n",
    "g = sns.pairplot(data,y_vars=['PRICE'], x_vars=['CRIM','INDUS','RM','DIS'], kind='reg',\n",
    "                 height=4 , plot_kws={'line_kws':{'color':'red'}})\n",
    "g.set(ylim=(0, 55))\n",
    "plt.show()"
   ]
  },
  {
   "cell_type": "markdown",
   "metadata": {},
   "source": [
    "## Testing for Multicolinearity\n",
    "\n",
    "Variance Infilation Factor (VIF) is calculated for each feature as per this example:\n",
    "\n",
    "$$ CRIM = \\alpha _0 + \\alpha _1 RM + \\alpha _2 INDUS + ....+ \\alpha _{4}DIS $$\n",
    "$$ VIF _{CRIM} = \\frac {1}{(1 - R _{CRIM} ^2)} $$\n",
    "\n",
    "\n",
    "VIF > 5 there is an indication that multicollinearity may be presen  \n",
    "VIF > 10 there is certainly multicollinearity among the variables"
   ]
  },
  {
   "cell_type": "code",
   "execution_count": null,
   "metadata": {},
   "outputs": [],
   "source": [
    "# Pearson correlation coefficients(Assumption is we're using continuous data)\n",
    "def get_corr(data):\n",
    "    mask = np.zeros_like(data.corr())\n",
    "    triangle_indices = np.triu_indices_from(mask)\n",
    "    mask[triangle_indices]= True\n",
    "#     plt.figure(figsize= (6,5))\n",
    "    sns.heatmap(data.corr(), mask = mask, annot=True, annot_kws={\"size\":13})\n",
    "    sns.set_style('whitegrid')\n",
    "    plt.title('Pearson correlation coefficients')\n",
    "    plt.xticks(fontsize = 11)\n",
    "    plt.yticks(fontsize = 11)\n",
    "#     plt.show()\n",
    "\n",
    "    \n",
    "# Calculate the Variance Infilation Factor for all parameters\n",
    "def get_vif(X_incl_constant):\n",
    "    vif = []\n",
    "    for i in range(1, X_incl_constant.shape[1]):\n",
    "        vif.append(variance_inflation_factor(exog=X_incl_constant.values, exog_idx=i))\n",
    "    vif_data = pd.DataFrame({'coef_name': X_incl_constant.columns[1:X_incl_constant.shape[1]], 'VIF': np.around(vif, 2)})\n",
    "    \n",
    "    plt.bar(vif_data['coef_name'], height = vif_data['VIF'] )\n",
    "    plt.hlines(10, -0.5, X_incl_constant.shape[1]-1.5,  linestyles='--', colors='red', label='VIF threshold' )\n",
    "    plt.title('Variance Infilation Factor plot')\n",
    "    plt.ylabel('VIF')\n",
    "    plt.legend()\n",
    "    for i, v in enumerate(vif_data['VIF']):\n",
    "        plt.text(i-0.1  , v + 0.5  , str(v), color='black', fontweight='bold')\n",
    "#     plt.show()"
   ]
  },
  {
   "cell_type": "code",
   "execution_count": null,
   "metadata": {},
   "outputs": [],
   "source": [
    "plt.figure(figsize=(14,5))\n",
    "plt.subplot(121)\n",
    "get_corr(data)\n",
    "plt.subplot(122)\n",
    "get_vif(X_incl_constant)"
   ]
  },
  {
   "cell_type": "markdown",
   "metadata": {},
   "source": [
    "## Residuals analysis"
   ]
  },
  {
   "cell_type": "code",
   "execution_count": null,
   "metadata": {},
   "outputs": [],
   "source": [
    "# Residuals\n",
    "\n",
    "# residuals vs predicted values\n",
    "plt.figure(figsize=(15,6))\n",
    "plt.subplot(121)\n",
    "plt.scatter(x= results.fittedvalues, y= results.resid, c='blue', alpha=0.6)\n",
    "plt.axhline(0, 0, 1, color='black',ls = '--')\n",
    "plt.xlabel('Fitted Values', fontsize=None)\n",
    "plt.ylabel('Residuals', fontsize=None)\n",
    "plt.title('Residuals vs Fitted values')\n",
    "\n",
    "plt.subplot(122)\n",
    "# Distribution of Residuals (log prices) - checking for normality\n",
    "resid_mean = round(results.resid.mean(), 3)\n",
    "resid_skew= round(results.resid.skew(), 3)\n",
    "sns.distplot(results.resid, color='blue')\n",
    "plt.title(f'Distribution of Residuals: residuals Skew({resid_skew}) Mean({resid_mean})')\n",
    "plt.show()\n"
   ]
  },
  {
   "cell_type": "markdown",
   "metadata": {},
   "source": [
    "## Results Summary\n",
    "- Adj. R-squared: good measure to adjust for R2 increases due to added features\n",
    "- Baisian Information Criterion (BIC): to show the model complexity - compare the BIC between mutiple models and use the lower value"
   ]
  },
  {
   "cell_type": "code",
   "execution_count": null,
   "metadata": {
    "scrolled": false
   },
   "outputs": [],
   "source": [
    "print(results.summary())"
   ]
  }
 ],
 "metadata": {
  "kernelspec": {
   "display_name": "Python 3",
   "language": "python",
   "name": "python3"
  },
  "language_info": {
   "codemirror_mode": {
    "name": "ipython",
    "version": 3
   },
   "file_extension": ".py",
   "mimetype": "text/x-python",
   "name": "python",
   "nbconvert_exporter": "python",
   "pygments_lexer": "ipython3",
   "version": "3.7.6"
  },
  "varInspector": {
   "cols": {
    "lenName": 16,
    "lenType": 16,
    "lenVar": 40
   },
   "kernels_config": {
    "python": {
     "delete_cmd_postfix": "",
     "delete_cmd_prefix": "del ",
     "library": "var_list.py",
     "varRefreshCmd": "print(var_dic_list())"
    },
    "r": {
     "delete_cmd_postfix": ") ",
     "delete_cmd_prefix": "rm(",
     "library": "var_list.r",
     "varRefreshCmd": "cat(var_dic_list()) "
    }
   },
   "types_to_exclude": [
    "module",
    "function",
    "builtin_function_or_method",
    "instance",
    "_Feature"
   ],
   "window_display": false
  }
 },
 "nbformat": 4,
 "nbformat_minor": 4
}
