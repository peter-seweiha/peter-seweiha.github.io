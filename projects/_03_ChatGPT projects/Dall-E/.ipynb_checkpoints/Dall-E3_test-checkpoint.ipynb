{
 "cells": [
  {
   "cell_type": "code",
   "execution_count": 1,
   "id": "61b89f51",
   "metadata": {},
   "outputs": [],
   "source": [
    "import os\n",
    "import getpass\n",
    "\n",
    "import openai\n",
    "from openai import OpenAI"
   ]
  },
  {
   "cell_type": "code",
   "execution_count": 2,
   "id": "fda811c2",
   "metadata": {},
   "outputs": [
    {
     "name": "stdout",
     "output_type": "stream",
     "text": [
      "OpenAI API Key:········\n"
     ]
    }
   ],
   "source": [
    "# Paste OpenAI API key\n",
    "os.environ[\"OPENAI_API_KEY\"] = getpass.getpass(\"OpenAI API Key:\")"
   ]
  },
  {
   "cell_type": "code",
   "execution_count": 3,
   "id": "f711e159",
   "metadata": {},
   "outputs": [],
   "source": [
    "my_prompt = ''"
   ]
  },
  {
   "cell_type": "code",
   "execution_count": 4,
   "id": "03d08c84",
   "metadata": {},
   "outputs": [
    {
     "name": "stdout",
     "output_type": "stream",
     "text": [
      "https://oaidalleapiprodscus.blob.core.windows.net/private/org-wUgDGEoCbzDJLkPC0IGphrkW/user-Dwn7YTHJm2EU4bgrdFccyhTh/img-KqHOUQl7Gs82PpWAVMOJJX6m.png?st=2023-12-11T06%3A52%3A08Z&se=2023-12-11T08%3A52%3A08Z&sp=r&sv=2021-08-06&sr=b&rscd=inline&rsct=image/png&skoid=6aaadede-4fb3-4698-a8f6-684d7786b067&sktid=a48cca56-e6da-484e-a814-9c849652bcb3&skt=2023-12-10T23%3A14%3A29Z&ske=2023-12-11T23%3A14%3A29Z&sks=b&skv=2021-08-06&sig=JKIOiJVvUjwpNl6eSLxON1/fxtWJ443yB7eO2kq7GE4%3D\n"
     ]
    }
   ],
   "source": [
    "# running the call to ChatGPT\n",
    "client = OpenAI()\n",
    "\n",
    "response =  client.images.generate(\n",
    "    model ='dall-e-3',\n",
    "    prompt = my_prompt,\n",
    "    size = '1024x1024',\n",
    "    quality = 'standard',\n",
    "    n = 1\n",
    ")\n",
    "\n",
    "image_url = response.data[0].url\n",
    "print(image_url)"
   ]
  },
  {
   "cell_type": "code",
   "execution_count": null,
   "id": "779a7fc1",
   "metadata": {},
   "outputs": [],
   "source": []
  },
  {
   "cell_type": "code",
   "execution_count": null,
   "id": "36984bdc",
   "metadata": {},
   "outputs": [],
   "source": []
  },
  {
   "cell_type": "code",
   "execution_count": null,
   "id": "9ab1ad22",
   "metadata": {},
   "outputs": [],
   "source": []
  },
  {
   "cell_type": "code",
   "execution_count": null,
   "id": "762fd01e",
   "metadata": {},
   "outputs": [],
   "source": []
  },
  {
   "cell_type": "code",
   "execution_count": null,
   "id": "467e1d4c",
   "metadata": {},
   "outputs": [],
   "source": []
  }
 ],
 "metadata": {
  "kernelspec": {
   "display_name": "Python 3",
   "language": "python",
   "name": "python3"
  },
  "language_info": {
   "codemirror_mode": {
    "name": "ipython",
    "version": 3
   },
   "file_extension": ".py",
   "mimetype": "text/x-python",
   "name": "python",
   "nbconvert_exporter": "python",
   "pygments_lexer": "ipython3",
   "version": "3.8.8"
  }
 },
 "nbformat": 4,
 "nbformat_minor": 5
}
