{
 "cells": [
  {
   "cell_type": "code",
   "execution_count": 8,
   "id": "61b89f51",
   "metadata": {},
   "outputs": [],
   "source": [
    "import os\n",
    "import getpass\n",
    "\n",
    "from youtube_transcript_api import YouTubeTranscriptApi\n",
    "import openai\n",
    "from openai import OpenAI"
   ]
  },
  {
   "cell_type": "code",
   "execution_count": 2,
   "id": "fda811c2",
   "metadata": {},
   "outputs": [
    {
     "name": "stdout",
     "output_type": "stream",
     "text": [
      "OpenAI API Key:········\n"
     ]
    }
   ],
   "source": [
    "# Paste OpenAI API key\n",
    "os.environ[\"OPENAI_API_KEY\"] = getpass.getpass(\"OpenAI API Key:\")"
   ]
  },
  {
   "cell_type": "code",
   "execution_count": 3,
   "id": "c9a4f206",
   "metadata": {},
   "outputs": [],
   "source": [
    "# Add the video URL \n",
    "URL = 'https://www.youtube.com/watch?v=QpGpXTewCOE&t=277s'"
   ]
  },
  {
   "cell_type": "code",
   "execution_count": 4,
   "id": "38b5803d",
   "metadata": {},
   "outputs": [],
   "source": [
    "# Get videoID and get the transcript in json format (transcript include start time and duration of each sentence)\n",
    "video_id = URL.replace('https://www.youtube.com/watch?v=','')\n",
    "transcript = YouTubeTranscriptApi.get_transcript(video_id)"
   ]
  },
  {
   "cell_type": "code",
   "execution_count": 5,
   "id": "46c10259",
   "metadata": {},
   "outputs": [],
   "source": [
    "# Extract the text only from json transcript\n",
    "output = ''\n",
    "for x in transcript:\n",
    "    sentence = x ['text']\n",
    "    output += f' {sentence}\\n'"
   ]
  },
  {
   "cell_type": "code",
   "execution_count": 24,
   "id": "03d08c84",
   "metadata": {},
   "outputs": [
    {
     "name": "stdout",
     "output_type": "stream",
     "text": [
      "Based on the video transcript, the applications of AI advancements on process mining can be summarized as follows:\n",
      "\n",
      "1. Integration of AI with Process Mining: There is a growing interest in incorporating artificial intelligence (AI) into process mining. AI has the potential to enhance process discovery, conformance checking, and performance analysis, among other areas, with tools like Celonis providing AI-based features for efficient process analysis.\n",
      "\n",
      "2. Natural Language Processing: AI technologies, like the ChatGPT app, are making it possible to interact with process mining systems using natural language queries. This could potentially make process mining more accessible to a wider range of users, including senior leaders and non-technical staff.\n",
      "\n",
      "3. Automation and Optimization: AI is being used to automate the monitoring of process anomalies and outliers, and to suggest actions based on predefined rules and algorithms. This can help in making data-driven decisions and optimizing processes by surfacing actionable insights and recommendations.\n",
      "\n",
      "4. Multi-Perspective Process Mining: AI technologies are evolving to enable multi-perspective process mining, allowing the combination of event logs from multiple processes to provide a holistic view and analysis of interrelated processes.\n",
      "\n",
      "5. Data Privacy and Security: AI in process mining must address concerns related to data privacy and security, particularly in sensitive areas such as HR processes. Tools and algorithms need to be developed with an emphasis on protecting sensitive data and ensuring compliance with privacy regulations.\n",
      "\n",
      "In terms of preparing for the future of AI and process mining, it is important for process practitioners, business analysts, and professionals in this space to stay updated with the latest advancements in AI and its integration with process mining tools. This might involve learning how to effectively leverage AI capabilities in process mining tools, understanding the potential uses of AI for automation and optimization, and being mindful of ethical considerations, such as data privacy and bias, when utilizing AI technologies in the context of process analysis.\n",
      "\n",
      "Overall, the integration of AI advancements in process mining holds the potential to enhance process analysis, automate decision-making, and streamline process optimization, thereby enabling organizations to achieve greater operational efficiency and effectiveness.\n"
     ]
    }
   ],
   "source": [
    "# running the call to ChatGPT\n",
    "client = OpenAI()\n",
    "chat_completion =  client.chat.completions.create(\n",
    "\n",
    "\n",
    "model='gpt-3.5-turbo-1106',\n",
    "messages = [\n",
    "    {'role': 'system', 'content': 'You are a Process Management Consultant.'},\n",
    "    {'role': 'assistant', 'content': 'descripe in details the applications of AI advancements on process mining based only on this video transcript'},\n",
    "    {'role': 'user', 'content': output}\n",
    "\n",
    "])\n",
    "\n",
    "print(chat_completion.choices[0].message.content)"
   ]
  },
  {
   "cell_type": "code",
   "execution_count": null,
   "id": "779a7fc1",
   "metadata": {},
   "outputs": [],
   "source": []
  },
  {
   "cell_type": "code",
   "execution_count": null,
   "id": "36984bdc",
   "metadata": {},
   "outputs": [],
   "source": []
  },
  {
   "cell_type": "code",
   "execution_count": null,
   "id": "9ab1ad22",
   "metadata": {},
   "outputs": [],
   "source": []
  },
  {
   "cell_type": "code",
   "execution_count": null,
   "id": "762fd01e",
   "metadata": {},
   "outputs": [],
   "source": []
  },
  {
   "cell_type": "code",
   "execution_count": null,
   "id": "467e1d4c",
   "metadata": {},
   "outputs": [],
   "source": []
  }
 ],
 "metadata": {
  "kernelspec": {
   "display_name": "Python 3",
   "language": "python",
   "name": "python3"
  },
  "language_info": {
   "codemirror_mode": {
    "name": "ipython",
    "version": 3
   },
   "file_extension": ".py",
   "mimetype": "text/x-python",
   "name": "python",
   "nbconvert_exporter": "python",
   "pygments_lexer": "ipython3",
   "version": "3.8.8"
  }
 },
 "nbformat": 4,
 "nbformat_minor": 5
}
