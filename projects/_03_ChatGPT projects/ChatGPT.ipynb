{
 "cells": [
  {
   "cell_type": "code",
   "execution_count": 1,
   "id": "61b89f51",
   "metadata": {},
   "outputs": [],
   "source": [
    "import os\n",
    "import getpass\n",
    "\n",
    "import openai\n",
    "from openai import OpenAI"
   ]
  },
  {
   "cell_type": "code",
   "execution_count": 2,
   "id": "fda811c2",
   "metadata": {},
   "outputs": [
    {
     "name": "stdout",
     "output_type": "stream",
     "text": [
      "OpenAI API Key:········\n"
     ]
    }
   ],
   "source": [
    "# Paste OpenAI API key\n",
    "os.environ[\"OPENAI_API_KEY\"] = getpass.getpass(\"OpenAI API Key:\")"
   ]
  },
  {
   "cell_type": "markdown",
   "id": "c9c76cf5",
   "metadata": {},
   "source": [
    "OpenAi models: https://platform.openai.com/docs/models"
   ]
  },
  {
   "cell_type": "code",
   "execution_count": 6,
   "id": "da38f5a8",
   "metadata": {},
   "outputs": [],
   "source": []
  },
  {
   "cell_type": "code",
   "execution_count": 13,
   "id": "03d08c84",
   "metadata": {},
   "outputs": [
    {
     "name": "stdout",
     "output_type": "stream",
     "text": [
      "```xml\n",
      "<bpmn2:definitions id=\"Definitions_1\" targetNamespace=\"http://bpmn.io/schema/bpmn\">\n",
      "  <bpmn2:process id=\"Process_1\" isExecutable=\"false\">\n",
      "    <bpmn2:startEvent id=\"StartEvent_1\"/>\n",
      "    <bpmn2:task id=\"Task_1\" name=\"Process Application\"/>\n",
      "    <bpmn2:endEvent id=\"EndEvent_1\"/>\n",
      "    <bpmn2:sequenceFlow id=\"SequenceFlow_1\" sourceRef=\"StartEvent_1\" targetRef=\"Task_1\"/>\n",
      "    <bpmn2:sequenceFlow id=\"SequenceFlow_2\" sourceRef=\"Task_1\" targetRef=\"EndEvent_1\"/>\n",
      "  </bpmn2:process>\n",
      "</bpmn2:definitions>\n",
      "```\n"
     ]
    }
   ],
   "source": [
    "my_prompt = 'Can you write the BPMN2.0 XML code for a process that contain a start event and one task named \"Process Application\" and an End event? please write only the code without any other text'\n",
    "\n",
    "# running the call to ChatGPT\n",
    "client = OpenAI()\n",
    "chat_completion =  client.chat.completions.create(\n",
    "\n",
    "\n",
    "model='gpt-3.5-turbo-1106',\n",
    "messages = [\n",
    "    {'role': 'system', 'content': 'You are a software engineer with expertise in BPMN XML'},\n",
    "    {'role': 'assistant', 'content':my_prompt },\n",
    "#     {'role': 'user', 'content': output}\n",
    "\n",
    "])\n",
    "\n",
    "print(chat_completion.choices[0].message.content)"
   ]
  },
  {
   "cell_type": "code",
   "execution_count": 14,
   "id": "779a7fc1",
   "metadata": {},
   "outputs": [
    {
     "name": "stdout",
     "output_type": "stream",
     "text": [
      "ChatCompletion(id='chatcmpl-8UVeCPbHGaXuHZxDoKKm1Buyiehhh', choices=[Choice(finish_reason='stop', index=0, message=ChatCompletionMessage(content='```xml\\n<bpmn2:definitions id=\"Definitions_1\" targetNamespace=\"http://bpmn.io/schema/bpmn\">\\n  <bpmn2:process id=\"Process_1\" isExecutable=\"false\">\\n    <bpmn2:startEvent id=\"StartEvent_1\"/>\\n    <bpmn2:task id=\"Task_1\" name=\"Process Application\"/>\\n    <bpmn2:endEvent id=\"EndEvent_1\"/>\\n    <bpmn2:sequenceFlow id=\"SequenceFlow_1\" sourceRef=\"StartEvent_1\" targetRef=\"Task_1\"/>\\n    <bpmn2:sequenceFlow id=\"SequenceFlow_2\" sourceRef=\"Task_1\" targetRef=\"EndEvent_1\"/>\\n  </bpmn2:process>\\n</bpmn2:definitions>\\n```', role='assistant', function_call=None, tool_calls=None))], created=1702282184, model='gpt-3.5-turbo-1106', object='chat.completion', system_fingerprint='fp_eeff13170a', usage=CompletionUsage(completion_tokens=177, prompt_tokens=63, total_tokens=240))\n"
     ]
    }
   ],
   "source": [
    "print(chat_completion)"
   ]
  },
  {
   "cell_type": "code",
   "execution_count": null,
   "id": "36984bdc",
   "metadata": {},
   "outputs": [],
   "source": []
  },
  {
   "cell_type": "code",
   "execution_count": null,
   "id": "9ab1ad22",
   "metadata": {},
   "outputs": [],
   "source": []
  },
  {
   "cell_type": "code",
   "execution_count": null,
   "id": "467e1d4c",
   "metadata": {},
   "outputs": [],
   "source": []
  }
 ],
 "metadata": {
  "kernelspec": {
   "display_name": "Python 3",
   "language": "python",
   "name": "python3"
  },
  "language_info": {
   "codemirror_mode": {
    "name": "ipython",
    "version": 3
   },
   "file_extension": ".py",
   "mimetype": "text/x-python",
   "name": "python",
   "nbconvert_exporter": "python",
   "pygments_lexer": "ipython3",
   "version": "3.8.8"
  }
 },
 "nbformat": 4,
 "nbformat_minor": 5
}
