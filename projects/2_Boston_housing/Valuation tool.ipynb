{
 "cells": [
  {
   "cell_type": "code",
   "execution_count": 3,
   "metadata": {},
   "outputs": [],
   "source": [
    "from sklearn.datasets import load_boston\n",
    "from sklearn.linear_model import LinearRegression\n",
    "from sklearn.metrics import mean_squared_error\n",
    "\n",
    "import numpy as np\n",
    "import pandas as pd"
   ]
  },
  {
   "cell_type": "code",
   "execution_count": 20,
   "metadata": {},
   "outputs": [
    {
     "data": {
      "text/plain": [
       "(506, 1)"
      ]
     },
     "execution_count": 20,
     "metadata": {},
     "output_type": "execute_result"
    }
   ],
   "source": [
    "# Gather and prepare data\n",
    "boston_dataset = load_boston()\n",
    "data = pd.DataFrame(data= boston_dataset.data , columns= boston_dataset.feature_names)\n",
    "features = data.drop(['INDUS', 'AGE'], axis = 1)\n",
    "\n",
    "log_prices = np.log(boston_dataset.target)\n",
    "target= pd.DataFrame(data= log_prices, columns= ['PRICE'])\n"
   ]
  },
  {
   "cell_type": "code",
   "execution_count": 39,
   "metadata": {},
   "outputs": [
    {
     "data": {
      "text/plain": [
       "array([[3.61352356e+00, 1.13636364e+01, 6.91699605e-02, 5.54695059e-01,\n",
       "        6.28463439e+00, 3.79504269e+00, 9.54940711e+00, 4.08237154e+02,\n",
       "        1.84555336e+01, 3.56674032e+02, 1.26530632e+01]])"
      ]
     },
     "execution_count": 39,
     "metadata": {},
     "output_type": "execute_result"
    }
   ],
   "source": [
    "CRIME_IDX = 0\n",
    "ZN_IDX = 1\n",
    "CHAS_IDX = 2\n",
    "RM_IDX = 4\n",
    "PTRATIO_IDX = 8\n",
    "\n",
    "property_stats = features.mean().values.reshape(1, 11)"
   ]
  },
  {
   "cell_type": "code",
   "execution_count": 36,
   "metadata": {},
   "outputs": [
    {
     "name": "stdout",
     "output_type": "stream",
     "text": [
      "0.03516080084618688\n",
      "0.18751213519713034\n"
     ]
    }
   ],
   "source": [
    "# Create the Linear Regression model\n",
    "regr = LinearRegression().fit(features, target)\n",
    "fitted_vals = regr.predict(features)\n",
    "\n",
    "# Calculate MSE & RMSE\n",
    "MSE = mean_squared_error(target, fitted_vals)\n",
    "RMSE = np.sqrt(MSE)\n"
   ]
  },
  {
   "cell_type": "code",
   "execution_count": 124,
   "metadata": {},
   "outputs": [],
   "source": [
    "def get_log_estimate(nr_rooms,\n",
    "                    students_per_classroom,\n",
    "                    next_to_river = False,\n",
    "                    high_confidence = True):\n",
    "    \n",
    "    \"\"\" Estimate the price of a property in Boston\n",
    "    \n",
    "    Keyword arguments:\n",
    "    nr_rooms -- number of rooms in the property\n",
    "    students_per_classroom -- number of students per teacher in the class room for the school in the area\n",
    "    next_to_river -- True if the property is next to the river, False otherwise\n",
    "    high_confidence -- True for 95% prediction interval, False for a 68% interval\n",
    "    \n",
    "    \"\"\"\n",
    "    \n",
    "    # Error msgs\n",
    "    if nr_rooms < 1 or students_per_classroom < 1:\n",
    "        print('no of rooms and students_per_classroom should be more than zero. Please review your entries')\n",
    "        return\n",
    "    \n",
    "    \n",
    "    # Configure property\n",
    "    property_stats[0][RM_IDX] = nr_rooms\n",
    "    property_stats[0][PTRATIO_IDX] = students_per_classroom\n",
    "    \n",
    "    if next_to_river:\n",
    "        property_stats[0][CHAS_IDX] = 1\n",
    "    else:\n",
    "        property_stats[0][CHAS_IDX] = 0\n",
    "        \n",
    "    \n",
    "    # Make prediction\n",
    "    log_estimate = regr.predict(property_stats)[0][0]\n",
    "    \n",
    "    # Calc Range\n",
    "    if high_confidence:\n",
    "        upper_bound = log_estimate + 2* RMSE\n",
    "        lower_bound = log_estimate - 2* RMSE\n",
    "        interval = 95\n",
    "    else:\n",
    "        upper_bound = log_estimate + RMSE\n",
    "        lower_bound = log_estimate - RMSE\n",
    "        interval = 68\n",
    "        \n",
    "    # Converting to $ and adjusting for inflation and rounded to nearest thousand\n",
    "    def convert(log_value):\n",
    "        scale_factor = 27.514150943  # factor due to inflation from the 70s\n",
    "        return round((np.e **log_value )* 1000 *scale_factor, -3)\n",
    "    \n",
    "    \n",
    "    print (f'Estimated property value: $ {convert(log_estimate)}')\n",
    "    print (f'At {interval}% the valuation range: ${convert(lower_bound)} - {convert(upper_bound)}')\n"
   ]
  },
  {
   "cell_type": "code",
   "execution_count": 125,
   "metadata": {},
   "outputs": [
    {
     "name": "stdout",
     "output_type": "stream",
     "text": [
      "Estimated property value: $ 1182000.0\n",
      "At 95% the valuation range: $812000.0 - 1719000.0\n"
     ]
    }
   ],
   "source": [
    "get_log_estimate(6, 1, next_to_river=True, high_confidence = True)"
   ]
  },
  {
   "cell_type": "code",
   "execution_count": null,
   "metadata": {},
   "outputs": [],
   "source": []
  },
  {
   "cell_type": "code",
   "execution_count": null,
   "metadata": {},
   "outputs": [],
   "source": [
    "\n"
   ]
  },
  {
   "cell_type": "code",
   "execution_count": null,
   "metadata": {},
   "outputs": [],
   "source": []
  }
 ],
 "metadata": {
  "kernelspec": {
   "display_name": "Python 3",
   "language": "python",
   "name": "python3"
  },
  "language_info": {
   "codemirror_mode": {
    "name": "ipython",
    "version": 3
   },
   "file_extension": ".py",
   "mimetype": "text/x-python",
   "name": "python",
   "nbconvert_exporter": "python",
   "pygments_lexer": "ipython3",
   "version": "3.7.4"
  }
 },
 "nbformat": 4,
 "nbformat_minor": 4
}
