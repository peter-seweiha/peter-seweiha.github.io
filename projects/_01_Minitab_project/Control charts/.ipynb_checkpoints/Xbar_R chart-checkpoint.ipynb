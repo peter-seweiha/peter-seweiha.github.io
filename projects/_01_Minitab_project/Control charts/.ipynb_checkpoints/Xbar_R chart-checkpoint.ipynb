{
 "cells": [
  {
   "cell_type": "markdown",
   "metadata": {},
   "source": [
    "# Xbar_R chart\n",
    "\n",
    "The data should be organised in the following format\n",
    "\n",
    "- column 1: sample lables named \"Sample\"\n",
    "- column 2 to n: are the samples in one subgroup\n",
    "- no more columns should be present in the dataset"
   ]
  },
  {
   "cell_type": "code",
   "execution_count": 12,
   "metadata": {},
   "outputs": [],
   "source": [
    "import numpy as np\n",
    "import pandas as pd\n",
    "import matplotlib.pyplot as plt\n",
    "import seaborn as sns"
   ]
  },
  {
   "cell_type": "code",
   "execution_count": 13,
   "metadata": {},
   "outputs": [],
   "source": [
    "data = pd.read_csv('control_chart_data.csv')"
   ]
  },
  {
   "cell_type": "code",
   "execution_count": 4,
   "metadata": {},
   "outputs": [],
   "source": [
    "# Define key titles & lables\n",
    "x_chart_subtitle = 'Thickness'\n",
    "x_chart_ylabel = 'Thickness (mm)'\n",
    "x_chart_xlabel = 'Sample'"
   ]
  },
  {
   "cell_type": "code",
   "execution_count": 5,
   "metadata": {},
   "outputs": [],
   "source": [
    "# Define for the R chart the graph title and subtitle,\n",
    "# and the x and y axis labels.\n",
    "x_chart_title = 'Xbar Control Chart'\n",
    "r_chart_title = 'Range Control Chart'\n",
    "r_chart_subtitle = x_chart_subtitle + 'Range'\n",
    "r_chart_ylabel = x_chart_ylabel + 'Range'\n",
    "r_chart_xlabel = x_chart_xlabel"
   ]
  },
  {
   "cell_type": "code",
   "execution_count": 14,
   "metadata": {},
   "outputs": [],
   "source": [
    "data.index = data['Sample']\n",
    "data.drop('Sample', axis=1, inplace=True)\n",
    "subgroup_size = len(data.columns) "
   ]
  },
  {
   "cell_type": "code",
   "execution_count": 6,
   "metadata": {},
   "outputs": [],
   "source": [
    "control_chart_constants = pd.DataFrame({'n':[  2,   3,   4,   5,   6,   7,   8,   9,  10,  11,  12,  13,  14,\n",
    "                                             15,  16,  17,  18,  19,  20,  21,  22,  23,  24,  25,  30,  35, \n",
    "                                             40,  45,  50,  55,  60,  65,  70,  75,  80,  85,  90, 100],\n",
    "                                        'd2':[1.128, 1.693, 2.059, 2.326, 2.534, 2.704, 2.847, 2.97 , 3.078,\n",
    "                                              3.173, 3.258, 3.336, 3.407, 3.472, 3.532, 3.588, 3.64 , 3.689,\n",
    "                                              3.735, 3.778, 3.819, 3.858, 3.895, 3.931, 4.086, 4.213, 4.322,\n",
    "                                              4.415, 4.498, 4.572, 4.639, 4.699, 4.755, 4.806, 4.854, 4.898,\n",
    "                                              4.939, 5.015],\n",
    "                                       'd3':[0.8525, 0.8884, 0.8798, 0.8641, 0.848 , 0.8332, 0.8198, 0.8078,\n",
    "                                             0.7971, 0.7873, 0.7785, 0.7704, 0.763 , 0.7562, 0.7499, 0.7441,\n",
    "                                             0.7386, 0.7335, 0.7287, 0.7272, 0.7199, 0.7159, 0.7121, 0.7084,\n",
    "                                             0.6927, 0.6799, 0.6692, 0.6601, 0.6521, 0.6452, 0.6389, 0.6333,\n",
    "                                             0.6283, 0.6236, 0.6194, 0.6154, 0.6118, 0.6052] })"
   ]
  },
  {
   "cell_type": "code",
   "execution_count": 7,
   "metadata": {},
   "outputs": [],
   "source": [
    "d_two = control_chart_constants['d2'][control_chart_constants['n'] == subgroup_size].values[0]\n",
    "d_three = control_chart_constants['d3'][control_chart_constants['n'] == subgroup_size].values[0]"
   ]
  },
  {
   "cell_type": "code",
   "execution_count": 8,
   "metadata": {},
   "outputs": [],
   "source": [
    "# create columns for mean & range\n",
    "data['mean'] = data.mean(axis=1)\n",
    "data['range'] = data.max(axis=1) - data.min(axis=1)"
   ]
  },
  {
   "cell_type": "code",
   "execution_count": 9,
   "metadata": {},
   "outputs": [],
   "source": [
    "# R chart statistics\n",
    "\n",
    "# Calculate average range\n",
    "average_range = data['range'].mean()\n",
    "\n",
    "# Calculate the range chart upper control limit.\n",
    "range_chart_upper_control_limit = average_range + \\\n",
    "    3 * d_three * average_range / d_two\n",
    "# Calculate the range chart lower control limit.\n",
    "range_chart_lower_control_limit = average_range - \\\n",
    "    3 * d_three * average_range / d_two\n",
    "\n",
    "# Set the moving range lower control limit to 0 if it is < 0.\n",
    "if range_chart_lower_control_limit < 0:\n",
    "    range_chart_lower_control_limit = 0.0"
   ]
  },
  {
   "cell_type": "code",
   "execution_count": 10,
   "metadata": {},
   "outputs": [],
   "source": [
    "# Xbar chart statistics\n",
    "# Calculate average of averages.\n",
    "average_of_averages = data['mean'].mean()\n",
    "\n",
    "# Calculate the averages chart upper control limit.\n",
    "average_chart_upper_control_limit = average_of_averages + \\\n",
    "    3 * average_range / (d_two * np.sqrt(subgroup_size))\n",
    "# Calculate the averages chart lower control limit.\n",
    "average_chart_lower_control_limit = average_of_averages - \\\n",
    "    3 * average_range / (d_two * np.sqrt(subgroup_size))"
   ]
  },
  {
   "cell_type": "code",
   "execution_count": 11,
   "metadata": {},
   "outputs": [
    {
     "data": {
      "image/png": "[encoded data removed]",
      "text/plain": [
       "<Figure size 1008x288 with 1 Axes>"
      ]
     },
     "metadata": {
      "needs_background": "light"
     },
     "output_type": "display_data"
    },
    {
     "name": "stdout",
     "output_type": "stream",
     "text": [
      "Upper control limit = 115.26\n",
      "Average = 71.33\n",
      "Lower control limit = 27.4\n",
      "Sigma(Xbar) = 14.64\n"
     ]
    },
    {
     "data": {
      "image/png": "[encoded data removed]",
      "text/plain": [
       "<Figure size 1008x288 with 1 Axes>"
      ]
     },
     "metadata": {
      "needs_background": "light"
     },
     "output_type": "display_data"
    },
    {
     "name": "stdout",
     "output_type": "stream",
     "text": [
      "Upper control limit = 137.61\n",
      "Average moving range = 60.31\n",
      "Lower control limit = 0.0\n",
      "Sigma(R) = 25.77\n",
      "___________________________________________\n",
      "Number of out-of-control points on Xbar chart: 2\n",
      "If the data are correlated, you may see an increased number of false alarms.\n",
      " \n",
      "    Warning: You may not have enough data to estimate precise control limits.\n",
      "    At least 100 data points should be included in the calculations.\n",
      "    \n",
      "\n",
      "    Warning: Evaluate the % of out-of-control subgroups  \n",
      "    (0.17) subgroup is out of control on the Xbar chart\n",
      "    (You may see 0.7% out-of-control subgroups on the Xbar chart \n",
      "    and 0.3% out-of-control subgroups on the S chart by chance, \n",
      "    even when the process is stable)\n",
      "    \n"
     ]
    }
   ],
   "source": [
    "plt.figure(figsize = (14,4))\n",
    "# Create a graph of \"average values v. sample\".\n",
    "ax = data['mean'] .plot.line(legend=False,\n",
    "                                               marker='o',\n",
    "                                               markersize=5,\n",
    "                                               color='black')\n",
    "ax.axhline(y=average_of_averages, color='green')\n",
    "ax.axhline(y=average_chart_upper_control_limit, color='r')\n",
    "ax.axhline(y=average_chart_lower_control_limit, color='r')\n",
    "\n",
    "# Add the chart title and subtitle.\n",
    "ax.set_title(x_chart_title + '\\n' + x_chart_subtitle)\n",
    "# Add the Y axis label.\n",
    "ax.set_ylabel(x_chart_ylabel)\n",
    "# Add the X axis label.\n",
    "ax.set_xlabel(x_chart_xlabel)\n",
    "plt.show()\n",
    "\n",
    "\n",
    "# Average Control chart statistics\n",
    "print('Upper control limit',\n",
    "      np.round(average_chart_upper_control_limit, 2),\n",
    "      sep=' = ')\n",
    "print('Average',\n",
    "      np.round(average_of_averages, 2),\n",
    "      sep=' = ')\n",
    "print('Lower control limit',\n",
    "      np.round(average_chart_lower_control_limit, 2),\n",
    "      sep=' = ')\n",
    "print('Sigma(Xbar)',\n",
    "      np.round(average_range / d_two / np.sqrt(subgroup_size), 2),\n",
    "      sep=' = ')\n",
    "\n",
    "\n",
    "# Create a graph of \"range values v. sample\".\n",
    "plt.figure(figsize = (14,4))\n",
    "\n",
    "ax = data['range'].plot.line(legend=False,\n",
    "                                                marker='o',\n",
    "                                                markersize=5,\n",
    "                                                color='black')\n",
    "ax.axhline(y=average_range, color='green')\n",
    "ax.axhline(y=range_chart_upper_control_limit, color='r')\n",
    "ax.axhline(y=range_chart_lower_control_limit, color='r')\n",
    "\n",
    "# Add the chart title and subtitle.\n",
    "ax.set_title(r_chart_title + '\\n' + r_chart_subtitle)\n",
    "# Add the Y axis label.\n",
    "ax.set_ylabel(r_chart_ylabel)\n",
    "# Add the X axis label.\n",
    "ax.set_xlabel(r_chart_xlabel)\n",
    "plt.show()\n",
    "\n",
    "# Average range chart statistics\n",
    "print('Upper control limit',\n",
    "      range_chart_upper_control_limit.round(2),\n",
    "      sep=' = ')\n",
    "print('Average moving range',\n",
    "      np.round(average_range, 2),\n",
    "      sep=' = ')\n",
    "print('Lower control limit',\n",
    "      np.round(range_chart_lower_control_limit, 2),\n",
    "      sep=' = ')\n",
    "print('Sigma(R)',\n",
    "      np.round(average_range * d_three / d_two, 2),\n",
    "      sep=' = ')\n",
    "\n",
    "print('___________________________________________')\n",
    "\n",
    "# Warnings\n",
    "\n",
    "# Find points outside control limits\n",
    "points_over_ucl = data.loc[((data['mean']) > average_chart_upper_control_limit), :]\n",
    "points_under_lcl = data.loc[((data['mean']) < average_chart_lower_control_limit), :]\n",
    "out_of_control_points = len(points_over_ucl) + len(points_under_lcl)\n",
    "\n",
    "total_data_points = len(data)\n",
    "\n",
    "print( f'Number of out-of-control points on Xbar chart: {out_of_control_points}')\n",
    "print('If the data are correlated, you may see an increased number of false alarms.')\n",
    "\n",
    "if total_data_points <100:\n",
    "    print(\"\"\" \n",
    "    Warning: You may not have enough data to estimate precise control limits.\n",
    "    At least 100 data points should be included in the calculations.\n",
    "    \"\"\")\n",
    "\n",
    "if (out_of_control_points/total_data_points) > 0.05:\n",
    "    print(f\"\"\"\n",
    "    Warning: Evaluate the % of out-of-control subgroups  \n",
    "    ({np.round(out_of_control_points/total_data_points, 2)}) subgroup is out of control on the Xbar chart\n",
    "    (You may see 0.7% out-of-control subgroups on the Xbar chart \n",
    "    and 0.3% out-of-control subgroups on the S chart by chance, \n",
    "    even when the process is stable)\n",
    "    \"\"\")"
   ]
  },
  {
   "cell_type": "code",
   "execution_count": null,
   "metadata": {},
   "outputs": [],
   "source": []
  }
 ],
 "metadata": {
  "kernelspec": {
   "display_name": "Python 3",
   "language": "python",
   "name": "python3"
  },
  "language_info": {
   "codemirror_mode": {
    "name": "ipython",
    "version": 3
   },
   "file_extension": ".py",
   "mimetype": "text/x-python",
   "name": "python",
   "nbconvert_exporter": "python",
   "pygments_lexer": "ipython3",
   "version": "3.7.6"
  }
 },
 "nbformat": 4,
 "nbformat_minor": 4
}
