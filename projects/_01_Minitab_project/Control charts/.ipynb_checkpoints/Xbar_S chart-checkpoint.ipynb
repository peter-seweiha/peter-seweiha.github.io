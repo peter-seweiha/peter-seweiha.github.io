{
 "cells": [
  {
   "cell_type": "markdown",
   "metadata": {},
   "source": [
    "## Xbar_S chart"
   ]
  },
  {
   "cell_type": "code",
   "execution_count": 1,
   "metadata": {},
   "outputs": [],
   "source": [
    "import numpy as np\n",
    "import pandas as pd\n",
    "import matplotlib.pyplot as plt\n",
    "import seaborn as sns"
   ]
  },
  {
   "cell_type": "code",
   "execution_count": 2,
   "metadata": {},
   "outputs": [],
   "source": [
    "data = pd.read_csv('control_chart_data.csv')"
   ]
  },
  {
   "cell_type": "code",
   "execution_count": 4,
   "metadata": {},
   "outputs": [],
   "source": [
    "data.index = data['Sample']\n",
    "data.drop('Sample', axis=1, inplace=True)"
   ]
  },
  {
   "cell_type": "code",
   "execution_count": 5,
   "metadata": {},
   "outputs": [],
   "source": [
    "# Define for the Xbar chart the graph title and subtitle, and the x and y axis labels.\n",
    "x_chart_title = 'Average Control Chart'\n",
    "x_chart_subtitle = 'Thickness'\n",
    "x_chart_ylabel = 'Thickness (mm)'\n",
    "x_chart_xlabel = 'Sample'\n",
    "subgroup_size = 4"
   ]
  },
  {
   "cell_type": "code",
   "execution_count": 6,
   "metadata": {},
   "outputs": [],
   "source": [
    "# Define for the R chart the graph title and subtitle,\n",
    "# and the x and y axis labels.\n",
    "s_chart_title = 'Range Control Chart'\n",
    "s_chart_subtitle = 'Thickness Range'\n",
    "s_chart_ylabel = 'Thickness Range (mm)'\n",
    "s_chart_xlabel = 'Sample'"
   ]
  },
  {
   "cell_type": "code",
   "execution_count": 7,
   "metadata": {},
   "outputs": [],
   "source": [
    "control_chart_constants = pd.DataFrame({'n':[  2,   3,   4,   5,   6,   7,   8,   9,  10,  11,  12,  13,  14,\n",
    "                                             15,  16,  17,  18,  19,  20,  21,  22,  23,  24,  25,  30,  35, \n",
    "                                             40,  45,  50,  55,  60,  65,  70,  75,  80,  85,  90, 100],\n",
    "                                        'A3':[2.659, 1.954, 1.628, 1.427, 1.287, 1.182, 1.099, 1.032, 0.975,\n",
    "                                              0.927, 0.886, 0.85 , 0.817, 0.789, 0.763, 0.739, 0.718, 0.698,\n",
    "                                              0.68 , 0.663, 0.647, 0.633, 0.619, 0.606, np.nan, np.nan, np.nan,\n",
    "                                              np.nan, np.nan, np.nan, np.nan, np.nan, np.nan, np.nan, np.nan, np.nan,\n",
    "                                              np.nan, np.nan],\n",
    "                                       'B4':[3.267, 2.568, 2.266, 2.089, 1.97 , 1.882, 1.815, 1.761, 1.716,\n",
    "                                             1.679, 1.646, 1.618, 1.594, 1.572, 1.552, 1.534, 1.518, 1.503,\n",
    "                                             1.49 , 1.477, 1.466, 1.455, 1.445, 1.435, np.nan, np.nan, np.nan,\n",
    "                                             np.nan, np.nan, np.nan, np.nan, np.nan, np.nan, np.nan, np.nan, np.nan,\n",
    "                                             np.nan, np.nan],\n",
    "                                       'B3': [0.   , 0.   , 0.   , 0.   , 0.03 , 0.118, 0.185, 0.239, 0.284,\n",
    "                                              0.321, 0.354, 0.382, 0.406, 0.428, 0.448, 0.466, 0.482, 0.497,\n",
    "                                              0.51 , 0.523, 0.534, 0.545, 0.555, 0.565, np.nan, np.nan, np.nan,\n",
    "                                              np.nan, np.nan, np.nan, np.nan, np.nan, np.nan, np.nan, np.nan, np.nan,\n",
    "                                              np.nan, np.nan]})"
   ]
  },
  {
   "cell_type": "code",
   "execution_count": 8,
   "metadata": {},
   "outputs": [],
   "source": [
    "a_three = control_chart_constants['A3'][control_chart_constants['n'] == subgroup_size].values[0]\n",
    "b_four = control_chart_constants['B4'][control_chart_constants['n'] == subgroup_size].values[0]\n",
    "b_three = control_chart_constants['B3'][control_chart_constants['n'] == subgroup_size].values[0]"
   ]
  },
  {
   "cell_type": "code",
   "execution_count": 9,
   "metadata": {},
   "outputs": [],
   "source": [
    "# create columns for mean & range\n",
    "data['s'] = data.std(axis=1)\n",
    "data['mean'] = data.drop('s', axis=1).mean(axis=1)"
   ]
  },
  {
   "cell_type": "code",
   "execution_count": 11,
   "metadata": {},
   "outputs": [],
   "source": [
    "# S chart statistics\n",
    "\n",
    "# Calculate average range\n",
    "average_s = data['s'].mean()\n",
    "\n",
    "# Calculate the s chart upper control limit.\n",
    "s_chart_upper_control_limit = average_s * b_four\n",
    "\n",
    "# Calculate the range chart lower control limit.\n",
    "s_chart_lower_control_limit = average_s  * b_three\n",
    "\n",
    "# Set the moving range lower control limit to 0 if it is < 0.\n",
    "if s_chart_lower_control_limit < 0:\n",
    "    s_chart_lower_control_limit = 0.0"
   ]
  },
  {
   "cell_type": "code",
   "execution_count": 12,
   "metadata": {},
   "outputs": [],
   "source": [
    "# Xbar chart statistics\n",
    "# Calculate average of averages.\n",
    "average_of_averages = data['mean'].mean()\n",
    "\n",
    "# Calculate the averages chart upper control limit.\n",
    "average_chart_upper_control_limit = average_of_averages + (average_s * a_three)\n",
    "\n",
    "# Calculate the averages chart lower control limit.\n",
    "average_chart_lower_control_limit = average_of_averages - (average_s * a_three)"
   ]
  },
  {
   "cell_type": "code",
   "execution_count": 13,
   "metadata": {},
   "outputs": [
    {
     "data": {
      "image/png": "[encoded data removed]",
      "text/plain": [
       "<Figure size 1008x288 with 1 Axes>"
      ]
     },
     "metadata": {
      "needs_background": "light"
     },
     "output_type": "display_data"
    },
    {
     "name": "stdout",
     "output_type": "stream",
     "text": [
      "Upper control limit = 118.51\n",
      "Average = 71.33\n",
      "Lower control limit = 24.15\n"
     ]
    },
    {
     "data": {
      "image/png": "[encoded data removed]",
      "text/plain": [
       "<Figure size 1008x288 with 1 Axes>"
      ]
     },
     "metadata": {
      "needs_background": "light"
     },
     "output_type": "display_data"
    },
    {
     "name": "stdout",
     "output_type": "stream",
     "text": [
      "Upper control limit = 65.66\n",
      "Average standard deviation = 28.98\n",
      "Lower control limit = 0.0\n",
      "___________________________________________\n",
      "Number of out-of-control points on Xbar chart: 2\n",
      "If the data are correlated, you may see an increased number of false alarms.\n",
      " \n",
      "    Warning: You may not have enough data to estimate precise control limits.\n",
      "    At least 100 data points should be included in the calculations.\n",
      "    \n",
      "\n",
      "    Warning: Evaluate the % of out-of-control subgroups  \n",
      "    (0.17) subgroup is out of control on the Xbar chart\n",
      "    (You may see 0.7% out-of-control subgroups on the Xbar chart \n",
      "    and 0.3% out-of-control subgroups on the S chart by chance, \n",
      "    even when the process is stable)\n",
      "    \n"
     ]
    }
   ],
   "source": [
    "plt.figure(figsize = (14,4))\n",
    "# Create a graph of \"average values v. sample\".\n",
    "ax = data['mean'] .plot.line(legend=False,\n",
    "                                               marker='o',\n",
    "                                               markersize=5,\n",
    "                                               color='black')\n",
    "ax.axhline(y=average_of_averages, color='green')\n",
    "ax.axhline(y=average_chart_upper_control_limit, color='r')\n",
    "ax.axhline(y=average_chart_lower_control_limit, color='r')\n",
    "\n",
    "# Add the chart title and subtitle.\n",
    "ax.set_title(x_chart_title + '\\n' + x_chart_subtitle)\n",
    "# Add the Y axis label.\n",
    "ax.set_ylabel(x_chart_ylabel)\n",
    "# Add the X axis label.\n",
    "ax.set_xlabel(x_chart_xlabel)\n",
    "plt.show()\n",
    "\n",
    "\n",
    "# Average Control chart statistics\n",
    "print('Upper control limit',\n",
    "      np.round(average_chart_upper_control_limit, 2),\n",
    "      sep=' = ')\n",
    "print('Average',\n",
    "      np.round(average_of_averages, 2),\n",
    "      sep=' = ')\n",
    "print('Lower control limit',\n",
    "      np.round(average_chart_lower_control_limit, 2),\n",
    "      sep=' = ')\n",
    "\n",
    "\n",
    "# Create a graph of \"range values v. sample\".\n",
    "plt.figure(figsize = (14,4))\n",
    "\n",
    "ax = data['s'].plot.line(legend=False, marker='o', markersize=5, color='black')\n",
    "ax.axhline(y=average_s, color='green')\n",
    "ax.axhline(y=s_chart_upper_control_limit, color='r')\n",
    "ax.axhline(y=s_chart_lower_control_limit, color='r')\n",
    "\n",
    "# Add the chart title and subtitle.\n",
    "ax.set_title(s_chart_title + '\\n' + s_chart_subtitle)\n",
    "# Add the Y axis label.\n",
    "ax.set_ylabel(s_chart_ylabel)\n",
    "# Add the X axis label.\n",
    "ax.set_xlabel(s_chart_xlabel)\n",
    "plt.show()\n",
    "\n",
    "# Average range chart statistics\n",
    "print('Upper control limit',\n",
    "      s_chart_upper_control_limit.round(2),\n",
    "      sep=' = ')\n",
    "print('Average standard deviation',\n",
    "      np.round(average_s, 2),\n",
    "      sep=' = ')\n",
    "print('Lower control limit',\n",
    "      np.round(s_chart_lower_control_limit, 2),\n",
    "      sep=' = ')\n",
    "\n",
    "\n",
    "print('___________________________________________')\n",
    "\n",
    "# Warnings\n",
    "\n",
    "# Find points outside control limits\n",
    "points_over_ucl = data.loc[((data['mean']) > average_chart_upper_control_limit), :]\n",
    "points_under_lcl = data.loc[((data['mean']) < average_chart_lower_control_limit), :]\n",
    "out_of_control_points = len(points_over_ucl) + len(points_under_lcl)\n",
    "\n",
    "total_data_points = len(data)\n",
    "\n",
    "print( f'Number of out-of-control points on Xbar chart: {out_of_control_points}')\n",
    "print('If the data are correlated, you may see an increased number of false alarms.')\n",
    "\n",
    "if total_data_points <100:\n",
    "    print(\"\"\" \n",
    "    Warning: You may not have enough data to estimate precise control limits.\n",
    "    At least 100 data points should be included in the calculations.\n",
    "    \"\"\")\n",
    "\n",
    "if (out_of_control_points/total_data_points) > 0.05:\n",
    "    print(f\"\"\"\n",
    "    Warning: Evaluate the % of out-of-control subgroups  \n",
    "    ({np.round(out_of_control_points/total_data_points, 2)}) subgroup is out of control on the Xbar chart\n",
    "    (You may see 0.7% out-of-control subgroups on the Xbar chart \n",
    "    and 0.3% out-of-control subgroups on the S chart by chance, \n",
    "    even when the process is stable)\n",
    "    \"\"\")"
   ]
  },
  {
   "cell_type": "code",
   "execution_count": null,
   "metadata": {},
   "outputs": [],
   "source": []
  }
 ],
 "metadata": {
  "kernelspec": {
   "display_name": "Python 3",
   "language": "python",
   "name": "python3"
  },
  "language_info": {
   "codemirror_mode": {
    "name": "ipython",
    "version": 3
   },
   "file_extension": ".py",
   "mimetype": "text/x-python",
   "name": "python",
   "nbconvert_exporter": "python",
   "pygments_lexer": "ipython3",
   "version": "3.7.6"
  }
 },
 "nbformat": 4,
 "nbformat_minor": 4
}
