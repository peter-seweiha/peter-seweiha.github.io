{
 "cells": [
  {
   "cell_type": "markdown",
   "id": "3e87d7c6",
   "metadata": {},
   "source": [
    "## Comparing Multiple Histograms\n",
    "Data should be stored in a table with historgram lebels in column titles"
   ]
  },
  {
   "cell_type": "code",
   "execution_count": 1,
   "id": "d2044b05",
   "metadata": {},
   "outputs": [],
   "source": [
    "import random\n",
    "import numpy as np\n",
    "import pandas as pd\n",
    "from matplotlib import pyplot as plt"
   ]
  },
  {
   "cell_type": "code",
   "execution_count": 2,
   "id": "5fd86619",
   "metadata": {},
   "outputs": [],
   "source": [
    "data = pd.read_csv('test_data.csv')"
   ]
  },
  {
   "cell_type": "code",
   "execution_count": 3,
   "id": "63cd2dcf",
   "metadata": {},
   "outputs": [
    {
     "data": {
      "text/html": [
       "<div>\n",
       "<style scoped>\n",
       "    .dataframe tbody tr th:only-of-type {\n",
       "        vertical-align: middle;\n",
       "    }\n",
       "\n",
       "    .dataframe tbody tr th {\n",
       "        vertical-align: top;\n",
       "    }\n",
       "\n",
       "    .dataframe thead th {\n",
       "        text-align: right;\n",
       "    }\n",
       "</style>\n",
       "<table border=\"1\" class=\"dataframe\">\n",
       "  <thead>\n",
       "    <tr style=\"text-align: right;\">\n",
       "      <th></th>\n",
       "      <th>Unnamed: 0</th>\n",
       "      <th>sepal_length</th>\n",
       "      <th>sepal_width</th>\n",
       "      <th>petal_length</th>\n",
       "      <th>petal_width</th>\n",
       "      <th>category</th>\n",
       "    </tr>\n",
       "  </thead>\n",
       "  <tbody>\n",
       "    <tr>\n",
       "      <th>0</th>\n",
       "      <td>0</td>\n",
       "      <td>5.1</td>\n",
       "      <td>3.5</td>\n",
       "      <td>1.4</td>\n",
       "      <td>0.2</td>\n",
       "      <td>Setosa</td>\n",
       "    </tr>\n",
       "    <tr>\n",
       "      <th>1</th>\n",
       "      <td>1</td>\n",
       "      <td>4.9</td>\n",
       "      <td>3.0</td>\n",
       "      <td>1.4</td>\n",
       "      <td>0.2</td>\n",
       "      <td>Setosa</td>\n",
       "    </tr>\n",
       "    <tr>\n",
       "      <th>2</th>\n",
       "      <td>2</td>\n",
       "      <td>4.7</td>\n",
       "      <td>3.2</td>\n",
       "      <td>1.3</td>\n",
       "      <td>0.2</td>\n",
       "      <td>Setosa</td>\n",
       "    </tr>\n",
       "    <tr>\n",
       "      <th>3</th>\n",
       "      <td>3</td>\n",
       "      <td>4.6</td>\n",
       "      <td>3.1</td>\n",
       "      <td>1.5</td>\n",
       "      <td>0.2</td>\n",
       "      <td>Setosa</td>\n",
       "    </tr>\n",
       "    <tr>\n",
       "      <th>4</th>\n",
       "      <td>4</td>\n",
       "      <td>5.0</td>\n",
       "      <td>3.6</td>\n",
       "      <td>1.4</td>\n",
       "      <td>0.2</td>\n",
       "      <td>Setosa</td>\n",
       "    </tr>\n",
       "  </tbody>\n",
       "</table>\n",
       "</div>"
      ],
      "text/plain": [
       "   Unnamed: 0  sepal_length  sepal_width  petal_length  petal_width category\n",
       "0           0           5.1          3.5           1.4          0.2   Setosa\n",
       "1           1           4.9          3.0           1.4          0.2   Setosa\n",
       "2           2           4.7          3.2           1.3          0.2   Setosa\n",
       "3           3           4.6          3.1           1.5          0.2   Setosa\n",
       "4           4           5.0          3.6           1.4          0.2   Setosa"
      ]
     },
     "execution_count": 3,
     "metadata": {},
     "output_type": "execute_result"
    }
   ],
   "source": [
    "data.head()"
   ]
  },
  {
   "cell_type": "code",
   "execution_count": null,
   "id": "1f802840",
   "metadata": {},
   "outputs": [],
   "source": []
  },
  {
   "cell_type": "code",
   "execution_count": 4,
   "id": "075231ed",
   "metadata": {},
   "outputs": [],
   "source": [
    "## Define histogram data\n",
    "hist_1 = data['sepal_length']\n",
    "hist_2 = data['sepal_width']\n",
    "hist_3 = data['petal_length']\n",
    "hist_4 = data['petal_width']\n",
    "\n",
    "\n",
    "## Define bins \n",
    "bins = np.linspace(0, 8, 60)\n",
    "# bins = 40"
   ]
  },
  {
   "cell_type": "code",
   "execution_count": 5,
   "id": "b029c4c3",
   "metadata": {},
   "outputs": [
    {
     "data": {
      "image/png": "[encoded data removed]",
      "text/plain": [
       "<Figure size 864x576 with 1 Axes>"
      ]
     },
     "metadata": {
      "needs_background": "light"
     },
     "output_type": "display_data"
    }
   ],
   "source": [
    "\n",
    "plt.figure(figsize=(12, 8))\n",
    "plt.hist(hist_1,bins, alpha=0.5, label= hist_1.name, edgecolor='k')\n",
    "plt.hist(hist_2,bins, alpha=0.5, label= hist_2.name, edgecolor='k')\n",
    "plt.hist(hist_3,bins, alpha=0.5, label= hist_3.name, edgecolor='k')\n",
    "plt.hist(hist_4,bins, alpha=0.5, label= hist_4.name, edgecolor='k')\n",
    "plt.legend(loc='upper right')\n",
    "\n",
    "## Add axis labels\n",
    "plt.xlabel(\"xlabel\")\n",
    "plt.ylabel(\"xlabel\")\n",
    "plt.title(\"Hostogram title\")\n",
    "plt.show()\n",
    "    \n"
   ]
  },
  {
   "cell_type": "markdown",
   "id": "19339398",
   "metadata": {},
   "source": [
    "## Another approach to control graph parameters"
   ]
  },
  {
   "cell_type": "code",
   "execution_count": 6,
   "id": "3c58a87f",
   "metadata": {},
   "outputs": [
    {
     "data": {
      "image/png": "[encoded data removed]",
      "text/plain": [
       "<Figure size 864x576 with 1 Axes>"
      ]
     },
     "metadata": {
      "needs_background": "light"
     },
     "output_type": "display_data"
    }
   ],
   "source": [
    "## Another approach to control graph parameters\n",
    "\n",
    "plt.figure(figsize=(12, 8))\n",
    "plt.hist([hist_1, hist_2], bins, alpha=1, label=[hist_1.name, hist_2.name]\n",
    "        ,log=True)\n",
    "\n",
    "\n",
    "plt.legend(loc='upper right')\n",
    "plt.show()"
   ]
  },
  {
   "cell_type": "code",
   "execution_count": null,
   "id": "a2d8861a",
   "metadata": {},
   "outputs": [],
   "source": []
  }
 ],
 "metadata": {
  "kernelspec": {
   "display_name": "Python 3",
   "language": "python",
   "name": "python3"
  },
  "language_info": {
   "codemirror_mode": {
    "name": "ipython",
    "version": 3
   },
   "file_extension": ".py",
   "mimetype": "text/x-python",
   "name": "python",
   "nbconvert_exporter": "python",
   "pygments_lexer": "ipython3",
   "version": "3.8.8"
  }
 },
 "nbformat": 4,
 "nbformat_minor": 5
}
