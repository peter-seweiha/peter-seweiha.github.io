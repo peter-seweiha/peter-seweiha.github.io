{
 "cells": [
  {
   "cell_type": "markdown",
   "metadata": {},
   "source": [
    "# CHURN PREDICTION\n",
    "## *Using Artificial Neural Network*\n",
    "\n",
    "**Problem Statement:** A bank gathered their's customers' data and labeled them as churned customers if they left the bank within 6 months of the point of data collection. The aim is to develop a model capable of predicting customer churn based on the provided features in the training set."
   ]
  },
  {
   "cell_type": "markdown",
   "metadata": {},
   "source": [
    "<img src=\"ann.jpg\">"
   ]
  },
  {
   "cell_type": "code",
   "execution_count": 1,
   "metadata": {},
   "outputs": [
    {
     "name": "stderr",
     "output_type": "stream",
     "text": [
      "Using TensorFlow backend.\n"
     ]
    }
   ],
   "source": [
    "# Import key liberaries\n",
    "import numpy as np\n",
    "import pandas as pd\n",
    "import matplotlib.pyplot as plt\n",
    "import seaborn as sns\n",
    "\n",
    "# Import liberaries for preprocessing $ model assessment\n",
    "from sklearn.preprocessing import LabelEncoder, OneHotEncoder, StandardScaler\n",
    "from sklearn.model_selection import train_test_split\n",
    "from sklearn.metrics import confusion_matrix, classification_report\n",
    "\n",
    "# Import liberaries to build the Artificial Neural Network\n",
    "import keras\n",
    "from keras.models import Sequential\n",
    "from keras.layers import Dense\n",
    "\n",
    "# do not print warnings\n",
    "import warnings; warnings.simplefilter('ignore')"
   ]
  },
  {
   "cell_type": "code",
   "execution_count": 2,
   "metadata": {},
   "outputs": [],
   "source": [
    "# Import data file\n",
    "data = pd.read_csv('Churn_Modelling.csv')"
   ]
  },
  {
   "cell_type": "code",
   "execution_count": 3,
   "metadata": {},
   "outputs": [
    {
     "data": {
      "text/html": [
       "<div>\n",
       "<style scoped>\n",
       "    .dataframe tbody tr th:only-of-type {\n",
       "        vertical-align: middle;\n",
       "    }\n",
       "\n",
       "    .dataframe tbody tr th {\n",
       "        vertical-align: top;\n",
       "    }\n",
       "\n",
       "    .dataframe thead th {\n",
       "        text-align: right;\n",
       "    }\n",
       "</style>\n",
       "<table border=\"1\" class=\"dataframe\">\n",
       "  <thead>\n",
       "    <tr style=\"text-align: right;\">\n",
       "      <th></th>\n",
       "      <th>RowNumber</th>\n",
       "      <th>CustomerId</th>\n",
       "      <th>Surname</th>\n",
       "      <th>CreditScore</th>\n",
       "      <th>Geography</th>\n",
       "      <th>Gender</th>\n",
       "      <th>Age</th>\n",
       "      <th>Tenure</th>\n",
       "      <th>Balance</th>\n",
       "      <th>NumOfProducts</th>\n",
       "      <th>HasCrCard</th>\n",
       "      <th>IsActiveMember</th>\n",
       "      <th>EstimatedSalary</th>\n",
       "      <th>Exited</th>\n",
       "    </tr>\n",
       "  </thead>\n",
       "  <tbody>\n",
       "    <tr>\n",
       "      <th>0</th>\n",
       "      <td>1</td>\n",
       "      <td>15634602</td>\n",
       "      <td>Hargrave</td>\n",
       "      <td>619</td>\n",
       "      <td>France</td>\n",
       "      <td>Female</td>\n",
       "      <td>42</td>\n",
       "      <td>2</td>\n",
       "      <td>0.00</td>\n",
       "      <td>1</td>\n",
       "      <td>1</td>\n",
       "      <td>1</td>\n",
       "      <td>101348.88</td>\n",
       "      <td>1</td>\n",
       "    </tr>\n",
       "    <tr>\n",
       "      <th>1</th>\n",
       "      <td>2</td>\n",
       "      <td>15647311</td>\n",
       "      <td>Hill</td>\n",
       "      <td>608</td>\n",
       "      <td>Spain</td>\n",
       "      <td>Female</td>\n",
       "      <td>41</td>\n",
       "      <td>1</td>\n",
       "      <td>83807.86</td>\n",
       "      <td>1</td>\n",
       "      <td>0</td>\n",
       "      <td>1</td>\n",
       "      <td>112542.58</td>\n",
       "      <td>0</td>\n",
       "    </tr>\n",
       "    <tr>\n",
       "      <th>2</th>\n",
       "      <td>3</td>\n",
       "      <td>15619304</td>\n",
       "      <td>Onio</td>\n",
       "      <td>502</td>\n",
       "      <td>France</td>\n",
       "      <td>Female</td>\n",
       "      <td>42</td>\n",
       "      <td>8</td>\n",
       "      <td>159660.80</td>\n",
       "      <td>3</td>\n",
       "      <td>1</td>\n",
       "      <td>0</td>\n",
       "      <td>113931.57</td>\n",
       "      <td>1</td>\n",
       "    </tr>\n",
       "    <tr>\n",
       "      <th>3</th>\n",
       "      <td>4</td>\n",
       "      <td>15701354</td>\n",
       "      <td>Boni</td>\n",
       "      <td>699</td>\n",
       "      <td>France</td>\n",
       "      <td>Female</td>\n",
       "      <td>39</td>\n",
       "      <td>1</td>\n",
       "      <td>0.00</td>\n",
       "      <td>2</td>\n",
       "      <td>0</td>\n",
       "      <td>0</td>\n",
       "      <td>93826.63</td>\n",
       "      <td>0</td>\n",
       "    </tr>\n",
       "    <tr>\n",
       "      <th>4</th>\n",
       "      <td>5</td>\n",
       "      <td>15737888</td>\n",
       "      <td>Mitchell</td>\n",
       "      <td>850</td>\n",
       "      <td>Spain</td>\n",
       "      <td>Female</td>\n",
       "      <td>43</td>\n",
       "      <td>2</td>\n",
       "      <td>125510.82</td>\n",
       "      <td>1</td>\n",
       "      <td>1</td>\n",
       "      <td>1</td>\n",
       "      <td>79084.10</td>\n",
       "      <td>0</td>\n",
       "    </tr>\n",
       "  </tbody>\n",
       "</table>\n",
       "</div>"
      ],
      "text/plain": [
       "   RowNumber  CustomerId   Surname  CreditScore Geography  Gender  Age  \\\n",
       "0          1    15634602  Hargrave          619    France  Female   42   \n",
       "1          2    15647311      Hill          608     Spain  Female   41   \n",
       "2          3    15619304      Onio          502    France  Female   42   \n",
       "3          4    15701354      Boni          699    France  Female   39   \n",
       "4          5    15737888  Mitchell          850     Spain  Female   43   \n",
       "\n",
       "   Tenure    Balance  NumOfProducts  HasCrCard  IsActiveMember  \\\n",
       "0       2       0.00              1          1               1   \n",
       "1       1   83807.86              1          0               1   \n",
       "2       8  159660.80              3          1               0   \n",
       "3       1       0.00              2          0               0   \n",
       "4       2  125510.82              1          1               1   \n",
       "\n",
       "   EstimatedSalary  Exited  \n",
       "0        101348.88       1  \n",
       "1        112542.58       0  \n",
       "2        113931.57       1  \n",
       "3         93826.63       0  \n",
       "4         79084.10       0  "
      ]
     },
     "execution_count": 3,
     "metadata": {},
     "output_type": "execute_result"
    }
   ],
   "source": [
    "# Check the first few rows\n",
    "data.head()"
   ]
  },
  {
   "cell_type": "code",
   "execution_count": 4,
   "metadata": {},
   "outputs": [],
   "source": [
    "# Split the features and target\n",
    "X = data.drop(['RowNumber','CustomerId','Surname', 'Exited'], axis=1)\n",
    "y = data['Exited']"
   ]
  },
  {
   "cell_type": "code",
   "execution_count": 5,
   "metadata": {},
   "outputs": [],
   "source": [
    "# Encode categorical features (Geography & Gender)\n",
    "le_1 = LabelEncoder()\n",
    "le_2 = LabelEncoder()\n",
    "\n",
    "X['Geography'] = le_1.fit_transform(X['Geography'])\n",
    "X['Gender'] = le_2.fit_transform(X['Gender'])\n",
    "\n",
    "ohe = OneHotEncoder(categorical_features = [1])\n",
    "X = ohe.fit_transform(X).toarray()\n",
    "X = X[:, 1:]"
   ]
  },
  {
   "cell_type": "code",
   "execution_count": 6,
   "metadata": {},
   "outputs": [],
   "source": [
    "# Split data for model training\n",
    "X_train, X_test, y_train, y_test = train_test_split(X, y, test_size= 0.2, random_state = 0)"
   ]
  },
  {
   "cell_type": "code",
   "execution_count": 7,
   "metadata": {},
   "outputs": [],
   "source": [
    "# Feature Scaling\n",
    "sc = StandardScaler()\n",
    "X_train = sc.fit_transform(X_train)\n",
    "X_test = sc.transform(X_test)"
   ]
  },
  {
   "cell_type": "markdown",
   "metadata": {},
   "source": [
    "### Building the Artificial Neural Network \n",
    "- Two hidden layers, 6 Neurons each , and a ReLU activation\n",
    "- One output node with a segmoid activation function to provide churn propability"
   ]
  },
  {
   "cell_type": "code",
   "execution_count": 8,
   "metadata": {},
   "outputs": [
    {
     "name": "stdout",
     "output_type": "stream",
     "text": [
      "WARNING:tensorflow:From C:\\Users\\peter\\Anaconda3\\lib\\site-packages\\tensorflow\\python\\ops\\resource_variable_ops.py:435: colocate_with (from tensorflow.python.framework.ops) is deprecated and will be removed in a future version.\n",
      "Instructions for updating:\n",
      "Colocations handled automatically by placer.\n"
     ]
    }
   ],
   "source": [
    "clf = Sequential([\n",
    "    # Adding the input layer and the first hidden layer\n",
    "    Dense(units=6, input_dim = 11, activation = 'relu'),\n",
    "    \n",
    "    # Adding the second hidden layer\n",
    "    Dense(units=6, activation = 'relu'),\n",
    "    \n",
    "    # Adding the output layer\n",
    "    Dense(units=1, activation = 'sigmoid')\n",
    "])"
   ]
  },
  {
   "cell_type": "code",
   "execution_count": 9,
   "metadata": {},
   "outputs": [],
   "source": [
    "# Compiling the ANN\n",
    "clf.compile(optimizer = 'adam', loss = 'binary_crossentropy', metrics = ['accuracy'])"
   ]
  },
  {
   "cell_type": "code",
   "execution_count": 10,
   "metadata": {},
   "outputs": [
    {
     "name": "stdout",
     "output_type": "stream",
     "text": [
      "WARNING:tensorflow:From C:\\Users\\peter\\Anaconda3\\lib\\site-packages\\tensorflow\\python\\ops\\math_ops.py:3066: to_int32 (from tensorflow.python.ops.math_ops) is deprecated and will be removed in a future version.\n",
      "Instructions for updating:\n",
      "Use tf.cast instead.\n",
      "Epoch 1/100\n",
      "8000/8000 [==============================] - 1s 148us/step - loss: 0.5547 - accuracy: 0.7470\n",
      "Epoch 2/100\n",
      "8000/8000 [==============================] - 1s 118us/step - loss: 0.4362 - accuracy: 0.8075\n",
      "Epoch 3/100\n",
      "8000/8000 [==============================] - 1s 117us/step - loss: 0.4106 - accuracy: 0.81670s\n",
      "Epoch 4/100\n",
      "8000/8000 [==============================] - 1s 118us/step - loss: 0.3962 - accuracy: 0.8239\n",
      "Epoch 5/100\n",
      "8000/8000 [==============================] - 1s 118us/step - loss: 0.3789 - accuracy: 0.8376\n",
      "Epoch 6/100\n",
      "8000/8000 [==============================] - 1s 116us/step - loss: 0.3664 - accuracy: 0.8470\n",
      "Epoch 7/100\n",
      "8000/8000 [==============================] - 1s 120us/step - loss: 0.3579 - accuracy: 0.8521\n",
      "Epoch 8/100\n",
      "8000/8000 [==============================] - 1s 115us/step - loss: 0.3523 - accuracy: 0.8550\n",
      "Epoch 9/100\n",
      "8000/8000 [==============================] - 1s 104us/step - loss: 0.3484 - accuracy: 0.8579\n",
      "Epoch 10/100\n",
      "8000/8000 [==============================] - 1s 98us/step - loss: 0.3459 - accuracy: 0.8606\n",
      "Epoch 11/100\n",
      "8000/8000 [==============================] - 1s 99us/step - loss: 0.3438 - accuracy: 0.8595\n",
      "Epoch 12/100\n",
      "8000/8000 [==============================] - 1s 103us/step - loss: 0.3423 - accuracy: 0.8601\n",
      "Epoch 13/100\n",
      "8000/8000 [==============================] - 1s 103us/step - loss: 0.3415 - accuracy: 0.8600\n",
      "Epoch 14/100\n",
      "8000/8000 [==============================] - 1s 101us/step - loss: 0.3407 - accuracy: 0.8589\n",
      "Epoch 15/100\n",
      "8000/8000 [==============================] - 1s 101us/step - loss: 0.3400 - accuracy: 0.8616\n",
      "Epoch 16/100\n",
      "8000/8000 [==============================] - 1s 98us/step - loss: 0.3392 - accuracy: 0.8618\n",
      "Epoch 17/100\n",
      "8000/8000 [==============================] - 1s 99us/step - loss: 0.3388 - accuracy: 0.8616\n",
      "Epoch 18/100\n",
      "8000/8000 [==============================] - 1s 98us/step - loss: 0.3382 - accuracy: 0.8629\n",
      "Epoch 19/100\n",
      "8000/8000 [==============================] - 1s 107us/step - loss: 0.3375 - accuracy: 0.8625\n",
      "Epoch 20/100\n",
      "8000/8000 [==============================] - 1s 100us/step - loss: 0.3376 - accuracy: 0.8629\n",
      "Epoch 21/100\n",
      "8000/8000 [==============================] - 1s 97us/step - loss: 0.3370 - accuracy: 0.8616\n",
      "Epoch 22/100\n",
      "8000/8000 [==============================] - 1s 99us/step - loss: 0.3367 - accuracy: 0.8619\n",
      "Epoch 23/100\n",
      "8000/8000 [==============================] - 1s 100us/step - loss: 0.3365 - accuracy: 0.8625\n",
      "Epoch 24/100\n",
      "8000/8000 [==============================] - 1s 103us/step - loss: 0.3353 - accuracy: 0.8602\n",
      "Epoch 25/100\n",
      "8000/8000 [==============================] - 1s 103us/step - loss: 0.3352 - accuracy: 0.8637\n",
      "Epoch 26/100\n",
      "8000/8000 [==============================] - 1s 102us/step - loss: 0.3351 - accuracy: 0.8636\n",
      "Epoch 27/100\n",
      "8000/8000 [==============================] - 1s 97us/step - loss: 0.3354 - accuracy: 0.8620\n",
      "Epoch 28/100\n",
      "8000/8000 [==============================] - 1s 99us/step - loss: 0.3343 - accuracy: 0.8622\n",
      "Epoch 29/100\n",
      "8000/8000 [==============================] - 1s 99us/step - loss: 0.3344 - accuracy: 0.8635\n",
      "Epoch 30/100\n",
      "8000/8000 [==============================] - 1s 99us/step - loss: 0.3344 - accuracy: 0.8630\n",
      "Epoch 31/100\n",
      "8000/8000 [==============================] - 1s 99us/step - loss: 0.3339 - accuracy: 0.8658\n",
      "Epoch 32/100\n",
      "8000/8000 [==============================] - 1s 98us/step - loss: 0.3340 - accuracy: 0.8620\n",
      "Epoch 33/100\n",
      "8000/8000 [==============================] - 1s 99us/step - loss: 0.3338 - accuracy: 0.8643\n",
      "Epoch 34/100\n",
      "8000/8000 [==============================] - 1s 98us/step - loss: 0.3333 - accuracy: 0.8646\n",
      "Epoch 35/100\n",
      "8000/8000 [==============================] - 1s 99us/step - loss: 0.3335 - accuracy: 0.8629\n",
      "Epoch 36/100\n",
      "8000/8000 [==============================] - 1s 98us/step - loss: 0.3331 - accuracy: 0.8641\n",
      "Epoch 37/100\n",
      "8000/8000 [==============================] - 1s 101us/step - loss: 0.3329 - accuracy: 0.8639\n",
      "Epoch 38/100\n",
      "8000/8000 [==============================] - 1s 100us/step - loss: 0.3324 - accuracy: 0.8635\n",
      "Epoch 39/100\n",
      "8000/8000 [==============================] - 1s 98us/step - loss: 0.3330 - accuracy: 0.8627\n",
      "Epoch 40/100\n",
      "8000/8000 [==============================] - 1s 98us/step - loss: 0.3326 - accuracy: 0.8643\n",
      "Epoch 41/100\n",
      "8000/8000 [==============================] - 1s 97us/step - loss: 0.3322 - accuracy: 0.8634\n",
      "Epoch 42/100\n",
      "8000/8000 [==============================] - 1s 98us/step - loss: 0.3316 - accuracy: 0.8656\n",
      "Epoch 43/100\n",
      "8000/8000 [==============================] - 1s 97us/step - loss: 0.3320 - accuracy: 0.8620\n",
      "Epoch 44/100\n",
      "8000/8000 [==============================] - 1s 101us/step - loss: 0.3322 - accuracy: 0.8621\n",
      "Epoch 45/100\n",
      "8000/8000 [==============================] - 1s 102us/step - loss: 0.3320 - accuracy: 0.8631\n",
      "Epoch 46/100\n",
      "8000/8000 [==============================] - 1s 97us/step - loss: 0.3314 - accuracy: 0.8646\n",
      "Epoch 47/100\n",
      "8000/8000 [==============================] - 1s 95us/step - loss: 0.3317 - accuracy: 0.8652\n",
      "Epoch 48/100\n",
      "8000/8000 [==============================] - 1s 94us/step - loss: 0.3308 - accuracy: 0.8641\n",
      "Epoch 49/100\n",
      "8000/8000 [==============================] - 1s 96us/step - loss: 0.3322 - accuracy: 0.8627\n",
      "Epoch 50/100\n",
      "8000/8000 [==============================] - 1s 97us/step - loss: 0.3307 - accuracy: 0.8637\n",
      "Epoch 51/100\n",
      "8000/8000 [==============================] - 1s 93us/step - loss: 0.3315 - accuracy: 0.8627\n",
      "Epoch 52/100\n",
      "8000/8000 [==============================] - 1s 98us/step - loss: 0.3309 - accuracy: 0.8644\n",
      "Epoch 53/100\n",
      "8000/8000 [==============================] - 1s 94us/step - loss: 0.3314 - accuracy: 0.8644\n",
      "Epoch 54/100\n",
      "8000/8000 [==============================] - 1s 99us/step - loss: 0.3308 - accuracy: 0.8648\n",
      "Epoch 55/100\n",
      "8000/8000 [==============================] - 1s 95us/step - loss: 0.3307 - accuracy: 0.8646\n",
      "Epoch 56/100\n",
      "8000/8000 [==============================] - 1s 95us/step - loss: 0.3309 - accuracy: 0.8650\n",
      "Epoch 57/100\n",
      "8000/8000 [==============================] - 1s 95us/step - loss: 0.3306 - accuracy: 0.8631\n",
      "Epoch 58/100\n",
      "8000/8000 [==============================] - 1s 95us/step - loss: 0.3306 - accuracy: 0.8650\n",
      "Epoch 59/100\n",
      "8000/8000 [==============================] - 1s 95us/step - loss: 0.3305 - accuracy: 0.8648\n",
      "Epoch 60/100\n",
      "8000/8000 [==============================] - 1s 94us/step - loss: 0.3308 - accuracy: 0.8662\n",
      "Epoch 61/100\n",
      "8000/8000 [==============================] - 1s 94us/step - loss: 0.3304 - accuracy: 0.8635\n",
      "Epoch 62/100\n",
      "8000/8000 [==============================] - 1s 97us/step - loss: 0.3307 - accuracy: 0.8646\n",
      "Epoch 63/100\n",
      "8000/8000 [==============================] - 1s 97us/step - loss: 0.3305 - accuracy: 0.8635\n",
      "Epoch 64/100\n",
      "8000/8000 [==============================] - 1s 95us/step - loss: 0.3306 - accuracy: 0.8648\n",
      "Epoch 65/100\n",
      "8000/8000 [==============================] - 1s 96us/step - loss: 0.3305 - accuracy: 0.8650\n",
      "Epoch 66/100\n",
      "8000/8000 [==============================] - 1s 103us/step - loss: 0.3295 - accuracy: 0.8649\n",
      "Epoch 67/100\n",
      "8000/8000 [==============================] - 1s 100us/step - loss: 0.3307 - accuracy: 0.8641\n",
      "Epoch 68/100\n",
      "8000/8000 [==============================] - 1s 95us/step - loss: 0.3300 - accuracy: 0.8637\n",
      "Epoch 69/100\n",
      "8000/8000 [==============================] - 1s 95us/step - loss: 0.3300 - accuracy: 0.8640\n",
      "Epoch 70/100\n",
      "8000/8000 [==============================] - 1s 96us/step - loss: 0.3299 - accuracy: 0.8655\n",
      "Epoch 71/100\n",
      "8000/8000 [==============================] - 1s 91us/step - loss: 0.3298 - accuracy: 0.8636\n",
      "Epoch 72/100\n",
      "8000/8000 [==============================] - 1s 96us/step - loss: 0.3299 - accuracy: 0.8635\n",
      "Epoch 73/100\n",
      "8000/8000 [==============================] - 1s 99us/step - loss: 0.3300 - accuracy: 0.8641\n",
      "Epoch 74/100\n",
      "8000/8000 [==============================] - 1s 100us/step - loss: 0.3298 - accuracy: 0.8640\n",
      "Epoch 75/100\n",
      "8000/8000 [==============================] - 1s 95us/step - loss: 0.3296 - accuracy: 0.8649\n",
      "Epoch 76/100\n",
      "8000/8000 [==============================] - 1s 94us/step - loss: 0.3291 - accuracy: 0.8643\n",
      "Epoch 77/100\n",
      "8000/8000 [==============================] - 1s 94us/step - loss: 0.3298 - accuracy: 0.8640\n",
      "Epoch 78/100\n",
      "8000/8000 [==============================] - 1s 93us/step - loss: 0.3293 - accuracy: 0.8640\n",
      "Epoch 79/100\n",
      "8000/8000 [==============================] - 1s 91us/step - loss: 0.3289 - accuracy: 0.8648\n",
      "Epoch 80/100\n",
      "8000/8000 [==============================] - 1s 95us/step - loss: 0.3295 - accuracy: 0.8648\n",
      "Epoch 81/100\n",
      "8000/8000 [==============================] - 1s 97us/step - loss: 0.3294 - accuracy: 0.8656\n",
      "Epoch 82/100\n",
      "8000/8000 [==============================] - 1s 112us/step - loss: 0.3293 - accuracy: 0.8631\n",
      "Epoch 83/100\n",
      "8000/8000 [==============================] - 1s 121us/step - loss: 0.3294 - accuracy: 0.8644\n",
      "Epoch 84/100\n",
      "8000/8000 [==============================] - 1s 111us/step - loss: 0.3290 - accuracy: 0.8658\n",
      "Epoch 85/100\n",
      "8000/8000 [==============================] - 1s 109us/step - loss: 0.3290 - accuracy: 0.8654\n",
      "Epoch 86/100\n",
      "8000/8000 [==============================] - 1s 113us/step - loss: 0.3287 - accuracy: 0.8650\n",
      "Epoch 87/100\n",
      "8000/8000 [==============================] - 1s 109us/step - loss: 0.3283 - accuracy: 0.8673\n",
      "Epoch 88/100\n",
      "8000/8000 [==============================] - 1s 112us/step - loss: 0.3291 - accuracy: 0.8651\n",
      "Epoch 89/100\n",
      "8000/8000 [==============================] - 1s 111us/step - loss: 0.3291 - accuracy: 0.8648\n",
      "Epoch 90/100\n",
      "8000/8000 [==============================] - 1s 107us/step - loss: 0.3286 - accuracy: 0.8641\n",
      "Epoch 91/100\n",
      "8000/8000 [==============================] - 1s 105us/step - loss: 0.3284 - accuracy: 0.8645\n",
      "Epoch 92/100\n",
      "8000/8000 [==============================] - 1s 110us/step - loss: 0.3283 - accuracy: 0.8654\n",
      "Epoch 93/100\n",
      "8000/8000 [==============================] - 1s 107us/step - loss: 0.3283 - accuracy: 0.8664\n",
      "Epoch 94/100\n",
      "8000/8000 [==============================] - 1s 108us/step - loss: 0.3288 - accuracy: 0.8636\n",
      "Epoch 95/100\n",
      "8000/8000 [==============================] - 1s 103us/step - loss: 0.3284 - accuracy: 0.8650\n",
      "Epoch 96/100\n",
      "8000/8000 [==============================] - 1s 99us/step - loss: 0.3283 - accuracy: 0.8639\n",
      "Epoch 97/100\n",
      "8000/8000 [==============================] - 1s 101us/step - loss: 0.3279 - accuracy: 0.8643\n",
      "Epoch 98/100\n",
      "8000/8000 [==============================] - 1s 102us/step - loss: 0.3287 - accuracy: 0.8652\n",
      "Epoch 99/100\n",
      "8000/8000 [==============================] - 1s 101us/step - loss: 0.3282 - accuracy: 0.8622\n",
      "Epoch 100/100\n",
      "8000/8000 [==============================] - 1s 101us/step - loss: 0.3283 - accuracy: 0.8660\n"
     ]
    },
    {
     "data": {
      "text/plain": [
       "<keras.callbacks.callbacks.History at 0x27b3f7d1fd0>"
      ]
     },
     "execution_count": 10,
     "metadata": {},
     "output_type": "execute_result"
    }
   ],
   "source": [
    "# training the model\n",
    "clf.fit(X_train, y_train,  batch_size=10, epochs=100)"
   ]
  },
  {
   "cell_type": "code",
   "execution_count": 11,
   "metadata": {},
   "outputs": [],
   "source": [
    "# Useing the model to generate predictions\n",
    "y_pred = clf.predict(X_test)\n",
    "y_pred = (y_pred> 0.5)"
   ]
  },
  {
   "cell_type": "code",
   "execution_count": 12,
   "metadata": {},
   "outputs": [
    {
     "data": {
      "image/png": "[encoded data removed]",
      "text/plain": [
       "<Figure size 432x288 with 2 Axes>"
      ]
     },
     "metadata": {
      "needs_background": "light"
     },
     "output_type": "display_data"
    },
    {
     "name": "stdout",
     "output_type": "stream",
     "text": [
      "              precision    recall  f1-score   support\n",
      "\n",
      "           0       0.89      0.95      0.92      1595\n",
      "           1       0.72      0.52      0.60       405\n",
      "\n",
      "    accuracy                           0.86      2000\n",
      "   macro avg       0.80      0.73      0.76      2000\n",
      "weighted avg       0.85      0.86      0.85      2000\n",
      "\n"
     ]
    }
   ],
   "source": [
    "# Assess the model performance\n",
    "sns.heatmap(confusion_matrix(y_test, y_pred), annot= True)\n",
    "plt.ylim(0,2)\n",
    "plt.show()\n",
    "\n",
    "print(classification_report(y_test, y_pred))"
   ]
  },
  {
   "cell_type": "markdown",
   "metadata": {},
   "source": [
    "**Comments:** The Naive Bayes model succeeded to classify the reviews with an accuracy of 86%"
   ]
  }
 ],
 "metadata": {
  "kernelspec": {
   "display_name": "Python 3",
   "language": "python",
   "name": "python3"
  },
  "language_info": {
   "codemirror_mode": {
    "name": "ipython",
    "version": 3
   },
   "file_extension": ".py",
   "mimetype": "text/x-python",
   "name": "python",
   "nbconvert_exporter": "python",
   "pygments_lexer": "ipython3",
   "version": "3.7.3"
  },
  "varInspector": {
   "cols": {
    "lenName": 16,
    "lenType": 16,
    "lenVar": 40
   },
   "kernels_config": {
    "python": {
     "delete_cmd_postfix": "",
     "delete_cmd_prefix": "del ",
     "library": "var_list.py",
     "varRefreshCmd": "print(var_dic_list())"
    },
    "r": {
     "delete_cmd_postfix": ") ",
     "delete_cmd_prefix": "rm(",
     "library": "var_list.r",
     "varRefreshCmd": "cat(var_dic_list()) "
    }
   },
   "types_to_exclude": [
    "module",
    "function",
    "builtin_function_or_method",
    "instance",
    "_Feature"
   ],
   "window_display": false
  }
 },
 "nbformat": 4,
 "nbformat_minor": 2
}
