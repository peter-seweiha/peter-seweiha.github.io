{
 "cells": [
  {
   "cell_type": "code",
   "execution_count": null,
   "id": "6d1cb82a",
   "metadata": {},
   "outputs": [],
   "source": [
    "def case_TimeLine (CaseID = '52'):\n",
    "    \"\"\"\n",
    "    this function draws a bar diagram showing a one case timeline and \n",
    "    you can't change the bar colors accroding to any variable available in dataset\n",
    "    \"\"\"\n",
    "    # from matplotlib.cm import get_cmap\n",
    "    # from matplotlib.colors import to_rgba\n",
    "    # import matplotlib.dates as mdates\n",
    "\n",
    "    case_analysis = data[data['CaseID']==CaseID]\n",
    "    case_analysis = case_analysis[['Activity', 'StartTimeStamp', 'EndTimeStamp']]\n",
    "\n",
    "    repeat_activities = pd.DataFrame(case_analysis['Activity'].value_counts())\n",
    "    print('the following Activities are repeated more than once in this case : ')\n",
    "    print (repeat_activities[repeat_activities['Activity']>1])\n",
    "\n",
    "\n",
    "    # This is the key line and needs to be fixed to get the graph in order\n",
    "    grouped_case_analysis = case_analysis.groupby('Activity')\n",
    "    grouped_case_analysis = sorted(grouped_case_analysis, key=lambda x: x[1]['StartTimeStamp'].min())\n",
    "\n",
    "    # Create a figure and axis\n",
    "    fig, ax = plt.subplots(figsize=(18, 6))\n",
    "\n",
    "    # Get a categorical color map\n",
    "    cmap = get_cmap('tab10')\n",
    "\n",
    "    # Plot broken bars for each activity with different colors\n",
    "    for i, (activity, group) in enumerate(grouped_case_analysis):\n",
    "        for index, row in group.iterrows():\n",
    "            start_date = row['StartTimeStamp']\n",
    "            end_date = row['EndTimeStamp']\n",
    "            duration = (end_date - start_date).total_seconds() / (60 * 60 * 24)  # Convert seconds to hours\n",
    "            color = to_rgba(cmap(i), alpha=0.7)  # Adjust alpha for transparency\n",
    "            ax.broken_barh([(start_date, duration)], (i - 0.4, 0.8), facecolors=color, edgecolor='black')\n",
    "\n",
    "    # Customize the plot\n",
    "    ax.set_yticks(range(len(grouped_case_analysis)))\n",
    "    ax.set_yticklabels([activity for activity, _ in grouped_case_analysis])\n",
    "    ax.set_xlabel('Timeline')\n",
    "    ax.set_title('Activity Timeline')\n",
    "\n",
    "    # Step 7: Customize the chart\n",
    "    ax.xaxis_date()\n",
    "    # ax.xaxis.set_major_locator(mdates.WeekdayLocator())\n",
    "    ax.xaxis.set_major_formatter(mdates.DateFormatter('%Y-%m-%d %H:%M'))\n",
    "\n",
    "    plt.grid(True)\n",
    "    # Display the plot\n",
    "    plt.show()"
   ]
  }
 ],
 "metadata": {
  "kernelspec": {
   "display_name": "Python 3",
   "language": "python",
   "name": "python3"
  },
  "language_info": {
   "codemirror_mode": {
    "name": "ipython",
    "version": 3
   },
   "file_extension": ".py",
   "mimetype": "text/x-python",
   "name": "python",
   "nbconvert_exporter": "python",
   "pygments_lexer": "ipython3",
   "version": "3.8.8"
  }
 },
 "nbformat": 4,
 "nbformat_minor": 5
}
