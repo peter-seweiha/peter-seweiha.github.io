{
 "cells": [
  {
   "cell_type": "code",
   "execution_count": 1,
   "id": "fbe61d06",
   "metadata": {},
   "outputs": [],
   "source": [
    "import numpy as np\n",
    "import pandas as pd\n",
    "import matplotlib.pyplot as plt\n",
    "import seaborn as sns"
   ]
  },
  {
   "cell_type": "code",
   "execution_count": 2,
   "id": "056aa23f",
   "metadata": {},
   "outputs": [],
   "source": [
    "# Import eventlog file\n",
    "filename = ('SampleData.csv')\n",
    "data = pd.read_csv(filename)"
   ]
  },
  {
   "cell_type": "code",
   "execution_count": 3,
   "id": "602e5452",
   "metadata": {},
   "outputs": [],
   "source": [
    "class Filter:\n",
    "    def __init__(self, input_log):\n",
    "        if not isinstance(input_log, pd.DataFrame):\n",
    "            raise ValueError(\"EventLog must be a pandas DataFrame.\")\n",
    "        self.data = input_log\n",
    "        \n",
    "    def clean_log(self, CaseID='caseid_column', Activity='activity_column', StartTimeStamp='start_column', EndTimeStamp='end_column'):\n",
    "        \n",
    "        # create a dictionary to map old column names to new column names\n",
    "        rename_dict = {CaseID: 'CaseID', Activity: 'Activity', StartTimeStamp: 'StartTimeStamp', EndTimeStamp: 'EndTimeStamp'}\n",
    "        \n",
    "        # use the rename method to rename the columns in the DataFrame\n",
    "        self.data = self.data.rename(columns=rename_dict)\n",
    "       \n",
    "        # fix columns data types in Python\n",
    "        # Convert CaseID column to string\n",
    "        self.data['CaseID'] = self.data['CaseID'].astype(str)\n",
    "        \n",
    "        # convert datetime column and set the correct format (dd-mm)\n",
    "        self.data['StartTimeStamp'] = pd.to_datetime(self.data['StartTimeStamp'], dayfirst=True)\n",
    "        self.data['EndTimeStamp'] = pd.to_datetime(self.data['EndTimeStamp'], dayfirst=True)\n",
    "        \n",
    "    def generate_case_log(self, case_attributes=[]):\n",
    "    \n",
    "        # Create a table for case Attributes without duplicates\n",
    "        case_attributes_table = self.data[['CaseID'] + case_attributes].drop_duplicates(subset=['CaseID'])\n",
    "\n",
    "        # Create a list of unduplicated Case IDs\n",
    "        case_ids = self.data['CaseID'].drop_duplicates().tolist()\n",
    "\n",
    "        # Initialize list to store case logs\n",
    "        rows = []\n",
    "\n",
    "        # Loop to create a Case Log\n",
    "        for case in case_ids:\n",
    "            case_activities = self.data[self.data['CaseID'] == case]\n",
    "\n",
    "            # Sort events based on start date & time\n",
    "            case_activities = case_activities.sort_values(by='StartTimeStamp', ascending=True)\n",
    "\n",
    "            # Get first timestamp in case\n",
    "            first_start_stamp = case_activities['StartTimeStamp'].iloc[0]\n",
    "\n",
    "            # Get last timestamp in case\n",
    "            last_end_stamp = case_activities['EndTimeStamp'].iloc[-1]\n",
    "\n",
    "            # Get number of activities per case\n",
    "            activity_instances = len(case_activities)\n",
    "\n",
    "            # Write all application journey in one string\n",
    "            variant = case_activities['Activity'].str.cat(sep='->')\n",
    "\n",
    "            rows.append({\n",
    "                'CaseID': case,\n",
    "                'first_start_stamp': first_start_stamp,\n",
    "                'last_end_stamp': last_end_stamp,\n",
    "                'activity_instances': activity_instances,\n",
    "                'variant': variant\n",
    "            })\n",
    "\n",
    "        # Create DataFrame from rows\n",
    "        case_log = pd.DataFrame(rows)\n",
    "\n",
    "        # Add case attributes\n",
    "        self.case_log = pd.merge(case_log, case_attributes_table, on='CaseID', how='left')\n",
    "\n",
    "        # Add case duration column\n",
    "        self.case_log['case_duration_days'] = (self.case_log['last_end_stamp'] - self.case_log['first_start_stamp']).dt.total_seconds() / (60 * 60 * 24)\n",
    "\n",
    "        \n",
    "    def filter_cases_by_activity(self, activities_list=['New Case', 'General Enquiries'], action='retain', matching='any value'):\n",
    "        \n",
    "        if (action == 'retain') and (matching == 'any value'):\n",
    "            print(f'Retain cases that contain any of the following activities ({activities_list})')\n",
    "            relevant_caseids = self.case_log[self.case_log['variant'].str.contains('|'.join(activities_list))][[\"CaseID\"]]\n",
    "        \n",
    "        if (action == 'retain') and (matching == 'all values'):\n",
    "            print(f'Retain cases that contain all the following activities ({activities_list})')\n",
    "            relevant_caseids = self.case_log[self.case_log['variant'].str.contains('&'.join(activities_list))][['CaseID']]\n",
    "        \n",
    "        if (action == 'remove') and (matching == 'any value'):\n",
    "            print(f'Remove cases that contain any of the following activities ({activities_list})')\n",
    "            relevant_caseids = self.case_log[~self.case_log['variant'].str.contains('|'.join(activities_list))][['CaseID']]\n",
    "        \n",
    "        if (action == 'remove') and (matching == 'all values'):\n",
    "            print(f'Remove cases that contain all the following activities ({activities_list})')\n",
    "            relevant_caseids = self.case_log[~self.case_log['variant'].str.contains('&'.join(activities_list))][['CaseID']]\n",
    "\n",
    "        filtered_log = self.data[self.data['CaseID'].isin(relevant_caseids['CaseID'])]\n",
    "        return filtered_log"
   ]
  },
  {
   "cell_type": "code",
   "execution_count": 4,
   "id": "3d9a8e61",
   "metadata": {},
   "outputs": [],
   "source": [
    "log = Filter(data)"
   ]
  },
  {
   "cell_type": "code",
   "execution_count": 5,
   "id": "b3e42826",
   "metadata": {},
   "outputs": [],
   "source": [
    "log.clean_log(CaseID= \"CaseId\", \n",
    "              Activity = 'ActivityName', \n",
    "              StartTimeStamp= 'StartTimestamp',\n",
    "              EndTimeStamp= 'EndTimestamp' )"
   ]
  },
  {
   "cell_type": "code",
   "execution_count": 6,
   "id": "cf328d1b",
   "metadata": {},
   "outputs": [],
   "source": [
    "log.generate_case_log(case_attributes=['Location', 'VendorID'])"
   ]
  },
  {
   "cell_type": "code",
   "execution_count": 7,
   "id": "4a9ae31d",
   "metadata": {},
   "outputs": [
    {
     "data": {
      "text/html": [
       "<div>\n",
       "<style scoped>\n",
       "    .dataframe tbody tr th:only-of-type {\n",
       "        vertical-align: middle;\n",
       "    }\n",
       "\n",
       "    .dataframe tbody tr th {\n",
       "        vertical-align: top;\n",
       "    }\n",
       "\n",
       "    .dataframe thead th {\n",
       "        text-align: right;\n",
       "    }\n",
       "</style>\n",
       "<table border=\"1\" class=\"dataframe\">\n",
       "  <thead>\n",
       "    <tr style=\"text-align: right;\">\n",
       "      <th></th>\n",
       "      <th>CaseID</th>\n",
       "      <th>first_start_stamp</th>\n",
       "      <th>last_end_stamp</th>\n",
       "      <th>activity_instances</th>\n",
       "      <th>variant</th>\n",
       "      <th>Location</th>\n",
       "      <th>VendorID</th>\n",
       "      <th>case_duration_days</th>\n",
       "    </tr>\n",
       "  </thead>\n",
       "  <tbody>\n",
       "    <tr>\n",
       "      <th>0</th>\n",
       "      <td>0</td>\n",
       "      <td>2022-07-28 09:23:00</td>\n",
       "      <td>2022-08-01 18:08:00</td>\n",
       "      <td>5</td>\n",
       "      <td>Invoice Entry-&gt;Check Customer Payment-&gt;Credit ...</td>\n",
       "      <td>San Diego, USA</td>\n",
       "      <td>Vendor2</td>\n",
       "      <td>4.364583</td>\n",
       "    </tr>\n",
       "    <tr>\n",
       "      <th>1</th>\n",
       "      <td>1</td>\n",
       "      <td>2022-07-21 09:43:00</td>\n",
       "      <td>2022-07-21 19:05:00</td>\n",
       "      <td>5</td>\n",
       "      <td>Invoice Entry-&gt;Check Customer Payment-&gt;Credit ...</td>\n",
       "      <td>San Francisco, USA</td>\n",
       "      <td>Vendor2</td>\n",
       "      <td>0.390278</td>\n",
       "    </tr>\n",
       "    <tr>\n",
       "      <th>2</th>\n",
       "      <td>2</td>\n",
       "      <td>2022-07-19 10:03:00</td>\n",
       "      <td>2022-07-25 22:57:00</td>\n",
       "      <td>8</td>\n",
       "      <td>Invoice Entry-&gt;Confirm Payment Received-&gt;Refun...</td>\n",
       "      <td>San Diego, USA</td>\n",
       "      <td>Vendor2</td>\n",
       "      <td>6.537500</td>\n",
       "    </tr>\n",
       "  </tbody>\n",
       "</table>\n",
       "</div>"
      ],
      "text/plain": [
       "  CaseID   first_start_stamp      last_end_stamp  activity_instances  \\\n",
       "0      0 2022-07-28 09:23:00 2022-08-01 18:08:00                   5   \n",
       "1      1 2022-07-21 09:43:00 2022-07-21 19:05:00                   5   \n",
       "2      2 2022-07-19 10:03:00 2022-07-25 22:57:00                   8   \n",
       "\n",
       "                                             variant            Location  \\\n",
       "0  Invoice Entry->Check Customer Payment->Credit ...      San Diego, USA   \n",
       "1  Invoice Entry->Check Customer Payment->Credit ...  San Francisco, USA   \n",
       "2  Invoice Entry->Confirm Payment Received->Refun...      San Diego, USA   \n",
       "\n",
       "  VendorID  case_duration_days  \n",
       "0  Vendor2            4.364583  \n",
       "1  Vendor2            0.390278  \n",
       "2  Vendor2            6.537500  "
      ]
     },
     "execution_count": 7,
     "metadata": {},
     "output_type": "execute_result"
    }
   ],
   "source": [
    "log.case_log.head(3)"
   ]
  },
  {
   "cell_type": "code",
   "execution_count": 8,
   "id": "5d064a68",
   "metadata": {},
   "outputs": [
    {
     "name": "stdout",
     "output_type": "stream",
     "text": [
      "Remove cases that contain any of the following activities (['Check Customer Payment', 'Reject Invoice'])\n"
     ]
    }
   ],
   "source": [
    "filtered_log = log.filter_cases_by_activity(activities_list=['Check Customer Payment', 'Reject Invoice'], \n",
    "                             action = 'remove' , \n",
    "                             matching = 'any value')"
   ]
  },
  {
   "cell_type": "code",
   "execution_count": 9,
   "id": "17a14a45",
   "metadata": {},
   "outputs": [
    {
     "data": {
      "text/plain": [
       "1004"
      ]
     },
     "execution_count": 9,
     "metadata": {},
     "output_type": "execute_result"
    }
   ],
   "source": [
    "len(log.data)"
   ]
  },
  {
   "cell_type": "code",
   "execution_count": 10,
   "id": "f5f5bfbe",
   "metadata": {},
   "outputs": [
    {
     "data": {
      "text/plain": [
       "328"
      ]
     },
     "execution_count": 10,
     "metadata": {},
     "output_type": "execute_result"
    }
   ],
   "source": [
    "len(filtered_log)"
   ]
  },
  {
   "cell_type": "markdown",
   "id": "08a10ac5",
   "metadata": {},
   "source": [
    "## Explore rework filter"
   ]
  },
  {
   "cell_type": "code",
   "execution_count": 11,
   "id": "7c6f9be6",
   "metadata": {},
   "outputs": [
    {
     "data": {
      "text/plain": [
       "0      1\n",
       "1      1\n",
       "2      0\n",
       "3      0\n",
       "4      0\n",
       "      ..\n",
       "128    0\n",
       "129    1\n",
       "130    1\n",
       "131    0\n",
       "132    1\n",
       "Name: variant, Length: 133, dtype: int64"
      ]
     },
     "execution_count": 11,
     "metadata": {},
     "output_type": "execute_result"
    }
   ],
   "source": [
    "log.case_log['variant'].str.count('Check Customer Payment')"
   ]
  },
  {
   "cell_type": "code",
   "execution_count": null,
   "id": "39cf26c0",
   "metadata": {},
   "outputs": [],
   "source": []
  }
 ],
 "metadata": {
  "kernelspec": {
   "display_name": "Python 3",
   "language": "python",
   "name": "python3"
  },
  "language_info": {
   "codemirror_mode": {
    "name": "ipython",
    "version": 3
   },
   "file_extension": ".py",
   "mimetype": "text/x-python",
   "name": "python",
   "nbconvert_exporter": "python",
   "pygments_lexer": "ipython3",
   "version": "3.8.8"
  }
 },
 "nbformat": 4,
 "nbformat_minor": 5
}
