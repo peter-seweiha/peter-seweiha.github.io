{
 "cells": [
  {
   "cell_type": "code",
   "execution_count": 1,
   "id": "7780ed50",
   "metadata": {},
   "outputs": [],
   "source": [
    "import pm4py\n",
    "import pandas as pd"
   ]
  },
  {
   "cell_type": "code",
   "execution_count": 2,
   "id": "01db81ed",
   "metadata": {},
   "outputs": [],
   "source": [
    "filename = ('SampleData.csv')"
   ]
  },
  {
   "cell_type": "code",
   "execution_count": 3,
   "id": "a3b5c5f4",
   "metadata": {},
   "outputs": [],
   "source": [
    "data = pd.read_csv(filename)"
   ]
  },
  {
   "cell_type": "code",
   "execution_count": 4,
   "id": "a686a43e",
   "metadata": {},
   "outputs": [
    {
     "name": "stdout",
     "output_type": "stream",
     "text": [
      "<class 'pandas.core.frame.DataFrame'>\n",
      "RangeIndex: 1004 entries, 0 to 1003\n",
      "Data columns (total 9 columns):\n",
      " #   Column          Non-Null Count  Dtype  \n",
      "---  ------          --------------  -----  \n",
      " 0   Location        1004 non-null   object \n",
      " 1   Role            1004 non-null   object \n",
      " 2   VendorID        1004 non-null   object \n",
      " 3   InvoiceValue    1004 non-null   float64\n",
      " 4   Resource        1004 non-null   object \n",
      " 5   StartTimestamp  1004 non-null   object \n",
      " 6   EndTimestamp    1004 non-null   object \n",
      " 7   CaseId          1004 non-null   int64  \n",
      " 8   ActivityName    1004 non-null   object \n",
      "dtypes: float64(1), int64(1), object(7)\n",
      "memory usage: 70.7+ KB\n"
     ]
    }
   ],
   "source": [
    "data.info()"
   ]
  },
  {
   "cell_type": "code",
   "execution_count": 5,
   "id": "9a072f61",
   "metadata": {},
   "outputs": [
    {
     "data": {
      "text/html": [
       "<div>\n",
       "<style scoped>\n",
       "    .dataframe tbody tr th:only-of-type {\n",
       "        vertical-align: middle;\n",
       "    }\n",
       "\n",
       "    .dataframe tbody tr th {\n",
       "        vertical-align: top;\n",
       "    }\n",
       "\n",
       "    .dataframe thead th {\n",
       "        text-align: right;\n",
       "    }\n",
       "</style>\n",
       "<table border=\"1\" class=\"dataframe\">\n",
       "  <thead>\n",
       "    <tr style=\"text-align: right;\">\n",
       "      <th></th>\n",
       "      <th>Location</th>\n",
       "      <th>Role</th>\n",
       "      <th>VendorID</th>\n",
       "      <th>InvoiceValue</th>\n",
       "      <th>Resource</th>\n",
       "      <th>StartTimestamp</th>\n",
       "      <th>EndTimestamp</th>\n",
       "      <th>CaseId</th>\n",
       "      <th>ActivityName</th>\n",
       "    </tr>\n",
       "  </thead>\n",
       "  <tbody>\n",
       "    <tr>\n",
       "      <th>0</th>\n",
       "      <td>San Diego, USA</td>\n",
       "      <td>Invoice Processor</td>\n",
       "      <td>Vendor2</td>\n",
       "      <td>729.27</td>\n",
       "      <td>Casey</td>\n",
       "      <td>2022-07-28 09:23:50.502475</td>\n",
       "      <td>2022-07-28 17:59:05.502475</td>\n",
       "      <td>0</td>\n",
       "      <td>Invoice Entry</td>\n",
       "    </tr>\n",
       "    <tr>\n",
       "      <th>1</th>\n",
       "      <td>San Diego, USA</td>\n",
       "      <td>Invoice Processor</td>\n",
       "      <td>Vendor2</td>\n",
       "      <td>729.27</td>\n",
       "      <td>Casey</td>\n",
       "      <td>2022-07-28 17:59:05.502475</td>\n",
       "      <td>2022-07-29 00:43:19.302475</td>\n",
       "      <td>0</td>\n",
       "      <td>Check Customer Payment</td>\n",
       "    </tr>\n",
       "    <tr>\n",
       "      <th>2</th>\n",
       "      <td>San Diego, USA</td>\n",
       "      <td>Invoice Processor</td>\n",
       "      <td>Vendor2</td>\n",
       "      <td>729.27</td>\n",
       "      <td>Casey</td>\n",
       "      <td>2022-07-29 09:43:19.302475</td>\n",
       "      <td>2022-07-29 15:04:04.902475</td>\n",
       "      <td>0</td>\n",
       "      <td>Credit Memo Entry</td>\n",
       "    </tr>\n",
       "  </tbody>\n",
       "</table>\n",
       "</div>"
      ],
      "text/plain": [
       "         Location               Role VendorID  InvoiceValue Resource  \\\n",
       "0  San Diego, USA  Invoice Processor  Vendor2        729.27    Casey   \n",
       "1  San Diego, USA  Invoice Processor  Vendor2        729.27    Casey   \n",
       "2  San Diego, USA  Invoice Processor  Vendor2        729.27    Casey   \n",
       "\n",
       "               StartTimestamp                EndTimestamp  CaseId  \\\n",
       "0  2022-07-28 09:23:50.502475  2022-07-28 17:59:05.502475       0   \n",
       "1  2022-07-28 17:59:05.502475  2022-07-29 00:43:19.302475       0   \n",
       "2  2022-07-29 09:43:19.302475  2022-07-29 15:04:04.902475       0   \n",
       "\n",
       "             ActivityName  \n",
       "0           Invoice Entry  \n",
       "1  Check Customer Payment  \n",
       "2       Credit Memo Entry  "
      ]
     },
     "execution_count": 5,
     "metadata": {},
     "output_type": "execute_result"
    }
   ],
   "source": [
    "data.head(3)"
   ]
  },
  {
   "cell_type": "code",
   "execution_count": 6,
   "id": "9f8c13ac",
   "metadata": {},
   "outputs": [],
   "source": [
    "data = pm4py.format_dataframe(data, case_id='CaseId', activity_key='ActivityName', timestamp_key='EndTimestamp', start_timestamp_key='StartTimestamp', timest_format='%Y-%m-%d %H:%M:%S%z')"
   ]
  },
  {
   "cell_type": "code",
   "execution_count": 7,
   "id": "425be147",
   "metadata": {},
   "outputs": [
    {
     "name": "stdout",
     "output_type": "stream",
     "text": [
      "<class 'pandas.core.frame.DataFrame'>\n",
      "RangeIndex: 1004 entries, 0 to 1003\n",
      "Data columns (total 14 columns):\n",
      " #   Column             Non-Null Count  Dtype  \n",
      "---  ------             --------------  -----  \n",
      " 0   Location           1004 non-null   object \n",
      " 1   Role               1004 non-null   object \n",
      " 2   VendorID           1004 non-null   object \n",
      " 3   InvoiceValue       1004 non-null   float64\n",
      " 4   Resource           1004 non-null   object \n",
      " 5   StartTimestamp     1004 non-null   object \n",
      " 6   EndTimestamp       1004 non-null   object \n",
      " 7   CaseId             1004 non-null   int64  \n",
      " 8   ActivityName       1004 non-null   object \n",
      " 9   case:concept:name  1004 non-null   string \n",
      " 10  concept:name       1004 non-null   string \n",
      " 11  time:timestamp     1004 non-null   object \n",
      " 12  @@index            1004 non-null   int64  \n",
      " 13  start_timestamp    1004 non-null   object \n",
      "dtypes: float64(1), int64(2), object(9), string(2)\n",
      "memory usage: 109.9+ KB\n"
     ]
    }
   ],
   "source": [
    "data.info()"
   ]
  },
  {
   "cell_type": "code",
   "execution_count": 8,
   "id": "07a7614f",
   "metadata": {},
   "outputs": [
    {
     "data": {
      "text/html": [
       "<div>\n",
       "<style scoped>\n",
       "    .dataframe tbody tr th:only-of-type {\n",
       "        vertical-align: middle;\n",
       "    }\n",
       "\n",
       "    .dataframe tbody tr th {\n",
       "        vertical-align: top;\n",
       "    }\n",
       "\n",
       "    .dataframe thead th {\n",
       "        text-align: right;\n",
       "    }\n",
       "</style>\n",
       "<table border=\"1\" class=\"dataframe\">\n",
       "  <thead>\n",
       "    <tr style=\"text-align: right;\">\n",
       "      <th></th>\n",
       "      <th>Location</th>\n",
       "      <th>Role</th>\n",
       "      <th>VendorID</th>\n",
       "      <th>InvoiceValue</th>\n",
       "      <th>Resource</th>\n",
       "      <th>StartTimestamp</th>\n",
       "      <th>EndTimestamp</th>\n",
       "      <th>CaseId</th>\n",
       "      <th>ActivityName</th>\n",
       "      <th>case:concept:name</th>\n",
       "      <th>concept:name</th>\n",
       "      <th>time:timestamp</th>\n",
       "      <th>@@index</th>\n",
       "      <th>start_timestamp</th>\n",
       "    </tr>\n",
       "  </thead>\n",
       "  <tbody>\n",
       "    <tr>\n",
       "      <th>0</th>\n",
       "      <td>San Diego, USA</td>\n",
       "      <td>Invoice Processor</td>\n",
       "      <td>Vendor2</td>\n",
       "      <td>729.27</td>\n",
       "      <td>Casey</td>\n",
       "      <td>2022-07-28 09:23:50.502475</td>\n",
       "      <td>2022-07-28 17:59:05.502475</td>\n",
       "      <td>0</td>\n",
       "      <td>Invoice Entry</td>\n",
       "      <td>0</td>\n",
       "      <td>Invoice Entry</td>\n",
       "      <td>2022-07-28 17:59:05.502475</td>\n",
       "      <td>0</td>\n",
       "      <td>2022-07-28 09:23:50.502475</td>\n",
       "    </tr>\n",
       "    <tr>\n",
       "      <th>1</th>\n",
       "      <td>San Diego, USA</td>\n",
       "      <td>Invoice Processor</td>\n",
       "      <td>Vendor2</td>\n",
       "      <td>729.27</td>\n",
       "      <td>Casey</td>\n",
       "      <td>2022-07-28 17:59:05.502475</td>\n",
       "      <td>2022-07-29 00:43:19.302475</td>\n",
       "      <td>0</td>\n",
       "      <td>Check Customer Payment</td>\n",
       "      <td>0</td>\n",
       "      <td>Check Customer Payment</td>\n",
       "      <td>2022-07-29 00:43:19.302475</td>\n",
       "      <td>1</td>\n",
       "      <td>2022-07-28 17:59:05.502475</td>\n",
       "    </tr>\n",
       "    <tr>\n",
       "      <th>2</th>\n",
       "      <td>San Diego, USA</td>\n",
       "      <td>Invoice Processor</td>\n",
       "      <td>Vendor2</td>\n",
       "      <td>729.27</td>\n",
       "      <td>Casey</td>\n",
       "      <td>2022-07-29 09:43:19.302475</td>\n",
       "      <td>2022-07-29 15:04:04.902475</td>\n",
       "      <td>0</td>\n",
       "      <td>Credit Memo Entry</td>\n",
       "      <td>0</td>\n",
       "      <td>Credit Memo Entry</td>\n",
       "      <td>2022-07-29 15:04:04.902475</td>\n",
       "      <td>2</td>\n",
       "      <td>2022-07-29 09:43:19.302475</td>\n",
       "    </tr>\n",
       "  </tbody>\n",
       "</table>\n",
       "</div>"
      ],
      "text/plain": [
       "         Location               Role VendorID  InvoiceValue Resource  \\\n",
       "0  San Diego, USA  Invoice Processor  Vendor2        729.27    Casey   \n",
       "1  San Diego, USA  Invoice Processor  Vendor2        729.27    Casey   \n",
       "2  San Diego, USA  Invoice Processor  Vendor2        729.27    Casey   \n",
       "\n",
       "               StartTimestamp                EndTimestamp  CaseId  \\\n",
       "0  2022-07-28 09:23:50.502475  2022-07-28 17:59:05.502475       0   \n",
       "1  2022-07-28 17:59:05.502475  2022-07-29 00:43:19.302475       0   \n",
       "2  2022-07-29 09:43:19.302475  2022-07-29 15:04:04.902475       0   \n",
       "\n",
       "             ActivityName case:concept:name            concept:name  \\\n",
       "0           Invoice Entry                 0           Invoice Entry   \n",
       "1  Check Customer Payment                 0  Check Customer Payment   \n",
       "2       Credit Memo Entry                 0       Credit Memo Entry   \n",
       "\n",
       "               time:timestamp  @@index             start_timestamp  \n",
       "0  2022-07-28 17:59:05.502475        0  2022-07-28 09:23:50.502475  \n",
       "1  2022-07-29 00:43:19.302475        1  2022-07-28 17:59:05.502475  \n",
       "2  2022-07-29 15:04:04.902475        2  2022-07-29 09:43:19.302475  "
      ]
     },
     "execution_count": 8,
     "metadata": {},
     "output_type": "execute_result"
    }
   ],
   "source": [
    "data.head(3)"
   ]
  },
  {
   "cell_type": "code",
   "execution_count": 9,
   "id": "00813d0c",
   "metadata": {},
   "outputs": [],
   "source": [
    "start_activities = pm4py.get_start_activities(data)"
   ]
  },
  {
   "cell_type": "code",
   "execution_count": 10,
   "id": "82cbddb8",
   "metadata": {},
   "outputs": [
    {
     "data": {
      "text/plain": [
       "{'Invoice Entry': 133}"
      ]
     },
     "execution_count": 10,
     "metadata": {},
     "output_type": "execute_result"
    }
   ],
   "source": [
    "start_activities"
   ]
  },
  {
   "cell_type": "code",
   "execution_count": 11,
   "id": "15429505",
   "metadata": {},
   "outputs": [],
   "source": [
    "end_activities = pm4py.get_end_activities(data)"
   ]
  },
  {
   "cell_type": "code",
   "execution_count": 12,
   "id": "2d23436f",
   "metadata": {},
   "outputs": [
    {
     "data": {
      "text/plain": [
       "{'Re-issuing the invoice': 133}"
      ]
     },
     "execution_count": 12,
     "metadata": {},
     "output_type": "execute_result"
    }
   ],
   "source": [
    "end_activities"
   ]
  },
  {
   "cell_type": "code",
   "execution_count": null,
   "id": "371beef2",
   "metadata": {},
   "outputs": [],
   "source": []
  },
  {
   "cell_type": "code",
   "execution_count": 13,
   "id": "e0cc10b6",
   "metadata": {},
   "outputs": [],
   "source": [
    "## Import the alpha_miner algorithm\n",
    "from pm4py.algo.discovery.alpha import algorithm as alpha_miner\n",
    "\n",
    "net, initial_marking, final_marking = alpha_miner.apply(data)"
   ]
  },
  {
   "cell_type": "code",
   "execution_count": null,
   "id": "a7ac149a",
   "metadata": {},
   "outputs": [],
   "source": []
  },
  {
   "cell_type": "code",
   "execution_count": 15,
   "id": "65c98a85",
   "metadata": {},
   "outputs": [
    {
     "data": {
      "image/png": "[encoded data removed]",
      "text/plain": [
       "<IPython.core.display.Image object>"
      ]
     },
     "metadata": {},
     "output_type": "display_data"
    }
   ],
   "source": [
    "## Import the petrinet visualizer object\n",
    "from pm4py.visualization.petri_net import visualizer as pn_visualizer\n",
    "\n",
    "# Visualise \n",
    "gviz = pn_visualizer.apply(net, initial_marking, final_marking) \n",
    "pn_visualizer.view(gviz)"
   ]
  },
  {
   "cell_type": "code",
   "execution_count": null,
   "id": "161f6aa2",
   "metadata": {},
   "outputs": [],
   "source": []
  },
  {
   "cell_type": "code",
   "execution_count": 15,
   "id": "00854273",
   "metadata": {},
   "outputs": [],
   "source": []
  },
  {
   "cell_type": "code",
   "execution_count": null,
   "id": "0d316454",
   "metadata": {},
   "outputs": [],
   "source": []
  },
  {
   "cell_type": "code",
   "execution_count": null,
   "id": "f07ba18c",
   "metadata": {},
   "outputs": [],
   "source": []
  },
  {
   "cell_type": "code",
   "execution_count": null,
   "id": "e6769c75",
   "metadata": {},
   "outputs": [],
   "source": [
    "3 # a log in the XES format is imported\n",
    "4 log = pm4py.read_xes(’tests/input_data/receipt.xes’)\n",
    "5\n",
    "6 # the log is filtered on the top 5 variants\n",
    "7 filtered_log = pm4py.filter_variants_top_k(log, 5)\n",
    "8\n",
    "9 # a directly -follows graph (DFG) is discovered from the log\n",
    "10 dfg, start_activities , end_activities = pm4py.discover_dfg(filtered_log)\n",
    "11\n",
    "12 # a process tree is discovered using the inductive miner\n",
    "13 process_tree = pm4py.discover_process_tree_inductive(filtered_log)\n",
    "14 # the process tree is converted to an accepting Petri net\n",
    "15 petri_net , initial_marking , final_marking = pm4py.convert_to_petri_net(process_tree)\n",
    "process_tree = pm4py.discover_process_tree_inductive(filtered_log)\n",
    "16 # the accepting Petri net is converted to a BPMN diagram\n",
    "17 bpmn_diagram = pm4py.convert_to_bpmn(petri_net , initial_marking , final_marking)\n",
    "18\n",
    "19 # the discovered process models are shown on the screen as .svg images\n",
    "20 pm4py.view_dfg(dfg, start_activities , end_activities , format=’svg’)\n",
    "21 pm4py.view_process_tree(process_tree , format=’svg’)\n",
    "22 pm4py.view_petri_net(petri_net , initial_marking , final_marking , format=’svg’)\n",
    "23 pm4py.view_bpmn(bpmn_diagram , format=’svg’)\n",
    "24\n",
    "25 # we compare the original log versus the discovered model\n",
    "26 fitness = pm4py.fitness_token_based_replay(log, petri_net , initial_marking , final_marking)\n",
    "27 precision = pm4py.precision_token_based_replay(log, petri_net , initial_marking , final_marking)\n",
    "28\n",
    "29 print(fitness) # 0.984\n",
    "30 print(precision) # 0.758\n",
    "31\n",
    "32 # we check if the discovered model is a sound workflow net\n",
    "33 is_sound_wfnet = pm4py.check_soundness(petri_net , initial_marking , final_marking)[0]\n",
    "34 print(is_sound_wfnet) # True"
   ]
  },
  {
   "cell_type": "code",
   "execution_count": null,
   "id": "d847ee5e",
   "metadata": {},
   "outputs": [],
   "source": []
  },
  {
   "cell_type": "code",
   "execution_count": null,
   "id": "858804cb",
   "metadata": {},
   "outputs": [],
   "source": []
  }
 ],
 "metadata": {
  "kernelspec": {
   "display_name": "Python 3",
   "language": "python",
   "name": "python3"
  },
  "language_info": {
   "codemirror_mode": {
    "name": "ipython",
    "version": 3
   },
   "file_extension": ".py",
   "mimetype": "text/x-python",
   "name": "python",
   "nbconvert_exporter": "python",
   "pygments_lexer": "ipython3",
   "version": "3.8.8"
  }
 },
 "nbformat": 4,
 "nbformat_minor": 5
}
