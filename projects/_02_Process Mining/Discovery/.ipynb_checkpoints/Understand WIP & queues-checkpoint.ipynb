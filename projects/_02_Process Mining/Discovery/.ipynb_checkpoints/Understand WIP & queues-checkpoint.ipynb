{
 "cells": [
  {
   "cell_type": "code",
   "execution_count": 1,
   "id": "44000ba0",
   "metadata": {},
   "outputs": [],
   "source": [
    "import numpy as np\n",
    "import pandas as pd\n",
    "import matplotlib.pyplot as plt"
   ]
  },
  {
   "cell_type": "code",
   "execution_count": 2,
   "id": "ea7ccf84",
   "metadata": {},
   "outputs": [
    {
     "data": {
      "text/html": [
       "<div>\n",
       "<style scoped>\n",
       "    .dataframe tbody tr th:only-of-type {\n",
       "        vertical-align: middle;\n",
       "    }\n",
       "\n",
       "    .dataframe tbody tr th {\n",
       "        vertical-align: top;\n",
       "    }\n",
       "\n",
       "    .dataframe thead th {\n",
       "        text-align: right;\n",
       "    }\n",
       "</style>\n",
       "<table border=\"1\" class=\"dataframe\">\n",
       "  <thead>\n",
       "    <tr style=\"text-align: right;\">\n",
       "      <th></th>\n",
       "      <th>Location</th>\n",
       "      <th>Role</th>\n",
       "      <th>VendorID</th>\n",
       "      <th>InvoiceValue</th>\n",
       "      <th>Resource</th>\n",
       "      <th>StartTimestamp</th>\n",
       "      <th>EndTimestamp</th>\n",
       "      <th>CaseId</th>\n",
       "      <th>ActivityName</th>\n",
       "    </tr>\n",
       "  </thead>\n",
       "  <tbody>\n",
       "    <tr>\n",
       "      <th>0</th>\n",
       "      <td>San Diego, USA</td>\n",
       "      <td>Invoice Processor</td>\n",
       "      <td>Vendor2</td>\n",
       "      <td>729.27</td>\n",
       "      <td>Casey</td>\n",
       "      <td>28/07/2022 9:23</td>\n",
       "      <td>28/07/2022 17:59</td>\n",
       "      <td>0</td>\n",
       "      <td>Invoice Entry</td>\n",
       "    </tr>\n",
       "    <tr>\n",
       "      <th>1</th>\n",
       "      <td>San Diego, USA</td>\n",
       "      <td>Invoice Processor</td>\n",
       "      <td>Vendor2</td>\n",
       "      <td>729.27</td>\n",
       "      <td>Casey</td>\n",
       "      <td>28/07/2022 17:59</td>\n",
       "      <td>29/07/2022 0:43</td>\n",
       "      <td>0</td>\n",
       "      <td>Check Customer Payment</td>\n",
       "    </tr>\n",
       "    <tr>\n",
       "      <th>2</th>\n",
       "      <td>San Diego, USA</td>\n",
       "      <td>Invoice Processor</td>\n",
       "      <td>Vendor2</td>\n",
       "      <td>729.27</td>\n",
       "      <td>Casey</td>\n",
       "      <td>29/07/2022 9:43</td>\n",
       "      <td>29/07/2022 15:04</td>\n",
       "      <td>0</td>\n",
       "      <td>Credit Memo Entry</td>\n",
       "    </tr>\n",
       "  </tbody>\n",
       "</table>\n",
       "</div>"
      ],
      "text/plain": [
       "         Location               Role VendorID  InvoiceValue Resource  \\\n",
       "0  San Diego, USA  Invoice Processor  Vendor2        729.27    Casey   \n",
       "1  San Diego, USA  Invoice Processor  Vendor2        729.27    Casey   \n",
       "2  San Diego, USA  Invoice Processor  Vendor2        729.27    Casey   \n",
       "\n",
       "     StartTimestamp      EndTimestamp  CaseId            ActivityName  \n",
       "0   28/07/2022 9:23  28/07/2022 17:59       0           Invoice Entry  \n",
       "1  28/07/2022 17:59   29/07/2022 0:43       0  Check Customer Payment  \n",
       "2   29/07/2022 9:43  29/07/2022 15:04       0       Credit Memo Entry  "
      ]
     },
     "execution_count": 2,
     "metadata": {},
     "output_type": "execute_result"
    }
   ],
   "source": [
    "data = pd.read_csv('SampleData.csv')\n",
    "data.head(3)"
   ]
  },
  {
   "cell_type": "markdown",
   "id": "0a233cbe",
   "metadata": {},
   "source": [
    "### Clean Log"
   ]
  },
  {
   "cell_type": "code",
   "execution_count": 3,
   "id": "55383b1f",
   "metadata": {},
   "outputs": [],
   "source": [
    "def clean_dataset (data, CaseID= 'caseid_column', Activity= 'activity_column' , StartTimeStamp= 'start_column' , EndTimeStamp= 'end_column'):\n",
    "    # this function is to change the type of each log column to the right python format\n",
    "    \n",
    "    # Create a dictionary to map old column names to new column names\n",
    "    rename_dict = {CaseID: 'CaseID', Activity: 'Activity', StartTimeStamp: 'StartTimeStamp', EndTimeStamp: 'EndTimeStamp' }\n",
    "    \n",
    "    # Use the rename method to rename the columns in the DataFrame\n",
    "    data = data.rename(columns=rename_dict)\n",
    "    \n",
    "    # fix columns data types in python\n",
    "    # Convert CaseId column to string\n",
    "    data['CaseID'] = data['CaseID'].astype('str')\n",
    "    \n",
    "    # convert datetime column and get the dd-mm right\n",
    "    data['StartTimeStamp'] = pd.to_datetime(data['StartTimeStamp'], dayfirst=True)\n",
    "    data['EndTimeStamp'] = pd.to_datetime(data['EndTimeStamp'], dayfirst=True)\n",
    "    \n",
    "    \n",
    "    return data\n",
    "\n",
    "# link key log columns to organise dataset\n",
    "data = clean_dataset(data, \n",
    "                     CaseID= \"CaseId\", \n",
    "                     Activity = 'ActivityName', \n",
    "                     StartTimeStamp= 'StartTimestamp',\n",
    "                     EndTimeStamp= 'EndTimestamp' \n",
    "                    )"
   ]
  },
  {
   "cell_type": "code",
   "execution_count": 4,
   "id": "12c8cfc6",
   "metadata": {},
   "outputs": [],
   "source": [
    "# Define the desired time to count the wip at\n",
    "desired_time = '15:00:00'"
   ]
  },
  {
   "cell_type": "code",
   "execution_count": 5,
   "id": "6f3ff6d3",
   "metadata": {},
   "outputs": [],
   "source": [
    "# Create unduplicated list of all days at the desired count time\n",
    "all_days = pd.to_datetime(data['StartTimeStamp'].dt.date.astype(str) + ' ' + desired_time).drop_duplicates()\n",
    "all_days = all_days.sort_values()"
   ]
  },
  {
   "cell_type": "code",
   "execution_count": 6,
   "id": "74cafc25",
   "metadata": {},
   "outputs": [],
   "source": [
    "# Count wip for all eventlog days at the \n",
    "rows = []\n",
    "for day in all_days:\n",
    "    count_wip = ((data['StartTimeStamp'] < day) & (data['EndTimeStamp'] > day)  ).sum()\n",
    "    \n",
    "    rows.append({'day': day, 'total_wip':count_wip })\n",
    "    \n",
    "wip_output = pd.DataFrame(rows)"
   ]
  },
  {
   "cell_type": "code",
   "execution_count": 7,
   "id": "ea818cd3",
   "metadata": {},
   "outputs": [
    {
     "data": {
      "text/html": [
       "<div>\n",
       "<style scoped>\n",
       "    .dataframe tbody tr th:only-of-type {\n",
       "        vertical-align: middle;\n",
       "    }\n",
       "\n",
       "    .dataframe tbody tr th {\n",
       "        vertical-align: top;\n",
       "    }\n",
       "\n",
       "    .dataframe thead th {\n",
       "        text-align: right;\n",
       "    }\n",
       "</style>\n",
       "<table border=\"1\" class=\"dataframe\">\n",
       "  <thead>\n",
       "    <tr style=\"text-align: right;\">\n",
       "      <th></th>\n",
       "      <th>day</th>\n",
       "      <th>total_wip</th>\n",
       "    </tr>\n",
       "  </thead>\n",
       "  <tbody>\n",
       "    <tr>\n",
       "      <th>0</th>\n",
       "      <td>2022-07-14 15:00:00</td>\n",
       "      <td>5</td>\n",
       "    </tr>\n",
       "    <tr>\n",
       "      <th>1</th>\n",
       "      <td>2022-07-15 15:00:00</td>\n",
       "      <td>11</td>\n",
       "    </tr>\n",
       "    <tr>\n",
       "      <th>2</th>\n",
       "      <td>2022-07-18 15:00:00</td>\n",
       "      <td>11</td>\n",
       "    </tr>\n",
       "  </tbody>\n",
       "</table>\n",
       "</div>"
      ],
      "text/plain": [
       "                  day  total_wip\n",
       "0 2022-07-14 15:00:00          5\n",
       "1 2022-07-15 15:00:00         11\n",
       "2 2022-07-18 15:00:00         11"
      ]
     },
     "execution_count": 7,
     "metadata": {},
     "output_type": "execute_result"
    }
   ],
   "source": [
    "wip_output.head(3)"
   ]
  },
  {
   "cell_type": "code",
   "execution_count": 8,
   "id": "2db7e256",
   "metadata": {},
   "outputs": [
    {
     "data": {
      "image/png": "[encoded data removed]",
      "text/plain": [
       "<Figure size 576x360 with 1 Axes>"
      ]
     },
     "metadata": {
      "needs_background": "light"
     },
     "output_type": "display_data"
    }
   ],
   "source": [
    "# plot the outcome\n",
    "plt.figure(figsize=(8, 5))\n",
    "plt.bar(wip_output['day'], wip_output['total_wip'], color='skyblue')\n",
    "plt.xlabel('Day')\n",
    "plt.ylabel('Total WIP')\n",
    "plt.title('Total WIP per Day')\n",
    "plt.xticks(rotation=45)  # Rotate x-axis labels for better readability\n",
    "plt.tight_layout()\n",
    "\n",
    "# Show plot\n",
    "plt.show()"
   ]
  },
  {
   "cell_type": "markdown",
   "id": "21dfb722",
   "metadata": {},
   "source": [
    "## Take wip per activity"
   ]
  },
  {
   "cell_type": "code",
   "execution_count": 9,
   "id": "84a52ec9",
   "metadata": {},
   "outputs": [],
   "source": [
    "all_activities = data['Activity'].drop_duplicates()"
   ]
  },
  {
   "cell_type": "code",
   "execution_count": 10,
   "id": "0547600a",
   "metadata": {},
   "outputs": [],
   "source": [
    "# Count wip for every activity in all eventlog days at the desired time \n",
    "rows = []\n",
    "\n",
    "for day in all_days:\n",
    "    for activity in all_activities:\n",
    "        count_wip = ((data['Activity']==activity ) & (data['StartTimeStamp'] < day) & (data['EndTimeStamp'] > day)  ).sum()\n",
    "    \n",
    "        rows.append({'day': day, 'Activity': activity  ,'total_wip':count_wip })\n",
    "\n",
    "wip_output_perActivity = pd.DataFrame(rows)"
   ]
  },
  {
   "cell_type": "code",
   "execution_count": 11,
   "id": "73093893",
   "metadata": {},
   "outputs": [
    {
     "data": {
      "text/html": [
       "<div>\n",
       "<style scoped>\n",
       "    .dataframe tbody tr th:only-of-type {\n",
       "        vertical-align: middle;\n",
       "    }\n",
       "\n",
       "    .dataframe tbody tr th {\n",
       "        vertical-align: top;\n",
       "    }\n",
       "\n",
       "    .dataframe thead th {\n",
       "        text-align: right;\n",
       "    }\n",
       "</style>\n",
       "<table border=\"1\" class=\"dataframe\">\n",
       "  <thead>\n",
       "    <tr style=\"text-align: right;\">\n",
       "      <th></th>\n",
       "      <th>day</th>\n",
       "      <th>Activity</th>\n",
       "      <th>total_wip</th>\n",
       "    </tr>\n",
       "  </thead>\n",
       "  <tbody>\n",
       "    <tr>\n",
       "      <th>0</th>\n",
       "      <td>2022-07-14 15:00:00</td>\n",
       "      <td>Invoice Entry</td>\n",
       "      <td>1</td>\n",
       "    </tr>\n",
       "    <tr>\n",
       "      <th>1</th>\n",
       "      <td>2022-07-14 15:00:00</td>\n",
       "      <td>Check Customer Payment</td>\n",
       "      <td>0</td>\n",
       "    </tr>\n",
       "    <tr>\n",
       "      <th>2</th>\n",
       "      <td>2022-07-14 15:00:00</td>\n",
       "      <td>Credit Memo Entry</td>\n",
       "      <td>1</td>\n",
       "    </tr>\n",
       "  </tbody>\n",
       "</table>\n",
       "</div>"
      ],
      "text/plain": [
       "                  day                Activity  total_wip\n",
       "0 2022-07-14 15:00:00           Invoice Entry          1\n",
       "1 2022-07-14 15:00:00  Check Customer Payment          0\n",
       "2 2022-07-14 15:00:00       Credit Memo Entry          1"
      ]
     },
     "execution_count": 11,
     "metadata": {},
     "output_type": "execute_result"
    }
   ],
   "source": [
    "wip_output_perActivity.head(3)"
   ]
  },
  {
   "cell_type": "code",
   "execution_count": 12,
   "id": "7d2ce298",
   "metadata": {},
   "outputs": [],
   "source": [
    "# wip_output[wip_output['Activity'] == 'Invoice Entry' ]"
   ]
  },
  {
   "cell_type": "code",
   "execution_count": 13,
   "id": "8df6c3c4",
   "metadata": {},
   "outputs": [
    {
     "data": {
      "image/png": "[encoded data removed]",
      "text/plain": [
       "<Figure size 864x432 with 1 Axes>"
      ]
     },
     "metadata": {
      "needs_background": "light"
     },
     "output_type": "display_data"
    }
   ],
   "source": [
    "# Group by day and activity, summing the total_wip\n",
    "grouped = wip_output_perActivity.groupby(['day', 'Activity'])['total_wip'].sum().reset_index()\n",
    "\n",
    "# Pivot the table to have activities as columns and days as rows\n",
    "pivot_table = grouped.pivot(index='day', columns='Activity', values='total_wip').fillna(0)\n",
    "\n",
    "# Plotting the data\n",
    "pivot_table.plot(kind='bar', stacked=True, figsize=(12, 6))\n",
    "plt.title('Daily Work-in-Progress per Activity')\n",
    "plt.xlabel('Day')\n",
    "plt.ylabel('Total WIP')\n",
    "plt.legend(title='Activity', bbox_to_anchor=(1.05, 1), loc='upper left')\n",
    "plt.xticks(rotation=45)\n",
    "plt.tight_layout()\n",
    "plt.show()"
   ]
  },
  {
   "cell_type": "code",
   "execution_count": null,
   "id": "5ec750ac",
   "metadata": {},
   "outputs": [],
   "source": []
  }
 ],
 "metadata": {
  "kernelspec": {
   "display_name": "Python 3",
   "language": "python",
   "name": "python3"
  },
  "language_info": {
   "codemirror_mode": {
    "name": "ipython",
    "version": 3
   },
   "file_extension": ".py",
   "mimetype": "text/x-python",
   "name": "python",
   "nbconvert_exporter": "python",
   "pygments_lexer": "ipython3",
   "version": "3.8.8"
  }
 },
 "nbformat": 4,
 "nbformat_minor": 5
}
