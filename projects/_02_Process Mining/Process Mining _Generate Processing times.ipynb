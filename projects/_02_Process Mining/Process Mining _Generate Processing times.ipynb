{
 "cells": [
  {
   "cell_type": "code",
   "execution_count": 1,
   "id": "4e99658d",
   "metadata": {},
   "outputs": [],
   "source": [
    "import numpy as np\n",
    "import pandas as pd\n",
    "import matplotlib as plt\n",
    "import seaborn as sns"
   ]
  },
  {
   "cell_type": "markdown",
   "id": "3465d866",
   "metadata": {},
   "source": [
    "## Key inputs"
   ]
  },
  {
   "cell_type": "code",
   "execution_count": 2,
   "id": "fb77cbbd",
   "metadata": {},
   "outputs": [],
   "source": [
    "filename = ('SampleData.csv')\n",
    "role_lookup = ('') "
   ]
  },
  {
   "cell_type": "code",
   "execution_count": 3,
   "id": "8e3721ca",
   "metadata": {},
   "outputs": [],
   "source": [
    "data = pd.read_csv(filename)"
   ]
  },
  {
   "cell_type": "markdown",
   "id": "25879b83",
   "metadata": {},
   "source": [
    "# Basic cleanup"
   ]
  },
  {
   "cell_type": "code",
   "execution_count": 4,
   "id": "e7f97aa1",
   "metadata": {},
   "outputs": [],
   "source": [
    "# fix columns data types in python\n",
    "data['CaseId'] = data['CaseId'].astype('str')\n",
    "\n",
    "# convert datetime column and get the dd-mm right\n",
    "data['StartTimestamp'] = pd.to_datetime(data['StartTimestamp'], dayfirst=True)\n",
    "data['EndTimestamp'] = pd.to_datetime(data['EndTimestamp'], dayfirst=True)\n",
    "\n",
    "# Create a list of unique CaseIds\n",
    "app_numbers = data['CaseId'].drop_duplicates().tolist()"
   ]
  },
  {
   "cell_type": "markdown",
   "id": "dca367a8",
   "metadata": {},
   "source": [
    "## 1. Create a new raw for a starting activity\n",
    "Not needed if the data don't have \"Start Time Stamp\""
   ]
  },
  {
   "cell_type": "code",
   "execution_count": 5,
   "id": "de09a2e2",
   "metadata": {},
   "outputs": [],
   "source": [
    "# 1. Add an extra raw for each application as a start activity\n",
    "for app in app_numbers:\n",
    "    app_events = data[data['CaseId']==app]\n",
    "    \n",
    "    #Sort events based on StartTimestamp\n",
    "    app_events = app_events.sort_values (by='StartTimestamp', ascending = True)\n",
    "    \n",
    "    # Duplicate first raw to dataset\n",
    "    row_to_duplicate = app_events.iloc[0]\n",
    "    data = data.append(row_to_duplicate, ignore_index=True)\n",
    "    \n",
    "    # Get and sort app events again\n",
    "    app_events = data[data['CaseId']==app]\n",
    "    \n",
    "    #Sort events based on StartTimestamp\n",
    "    app_events = app_events.sort_values (by='StartTimestamp', ascending = True)    \n",
    "    \n",
    "    # Replace values in the newly created row\n",
    "    new_index = app_events.index[0]\n",
    "    new_activity_name = 'start'\n",
    "    new_role_name = 'start'\n",
    "    new_end_timestamp = app_events ['StartTimestamp'].iloc[0]\n",
    "    \n",
    "    data.at[data.index[new_index],'ActivityName'] = new_activity_name\n",
    "    data.at[data.index[new_index],'EndTimestamp'] = new_end_timestamp\n",
    "    data.at[data.index[new_index],'Role'] = new_role_name"
   ]
  },
  {
   "cell_type": "code",
   "execution_count": 6,
   "id": "e897ba29",
   "metadata": {},
   "outputs": [
    {
     "data": {
      "text/html": [
       "<div>\n",
       "<style scoped>\n",
       "    .dataframe tbody tr th:only-of-type {\n",
       "        vertical-align: middle;\n",
       "    }\n",
       "\n",
       "    .dataframe tbody tr th {\n",
       "        vertical-align: top;\n",
       "    }\n",
       "\n",
       "    .dataframe thead th {\n",
       "        text-align: right;\n",
       "    }\n",
       "</style>\n",
       "<table border=\"1\" class=\"dataframe\">\n",
       "  <thead>\n",
       "    <tr style=\"text-align: right;\">\n",
       "      <th></th>\n",
       "      <th>Location</th>\n",
       "      <th>Role</th>\n",
       "      <th>VendorID</th>\n",
       "      <th>InvoiceValue</th>\n",
       "      <th>Resource</th>\n",
       "      <th>StartTimestamp</th>\n",
       "      <th>EndTimestamp</th>\n",
       "      <th>CaseId</th>\n",
       "      <th>ActivityName</th>\n",
       "    </tr>\n",
       "  </thead>\n",
       "  <tbody>\n",
       "    <tr>\n",
       "      <th>5</th>\n",
       "      <td>San Francisco, USA</td>\n",
       "      <td>start</td>\n",
       "      <td>Vendor2</td>\n",
       "      <td>2499.1</td>\n",
       "      <td>Aiden</td>\n",
       "      <td>2022-07-21 09:43:01.043627</td>\n",
       "      <td>2022-07-21 09:43:01.043627</td>\n",
       "      <td>1</td>\n",
       "      <td>start</td>\n",
       "    </tr>\n",
       "    <tr>\n",
       "      <th>1005</th>\n",
       "      <td>San Francisco, USA</td>\n",
       "      <td>Invoice Processor</td>\n",
       "      <td>Vendor2</td>\n",
       "      <td>2499.1</td>\n",
       "      <td>Aiden</td>\n",
       "      <td>2022-07-21 09:43:01.043627</td>\n",
       "      <td>2022-07-21 12:05:24.443627</td>\n",
       "      <td>1</td>\n",
       "      <td>Invoice Entry</td>\n",
       "    </tr>\n",
       "    <tr>\n",
       "      <th>6</th>\n",
       "      <td>San Francisco, USA</td>\n",
       "      <td>Invoice Processor</td>\n",
       "      <td>Vendor2</td>\n",
       "      <td>2499.1</td>\n",
       "      <td>Aiden</td>\n",
       "      <td>2022-07-21 12:05:24.443627</td>\n",
       "      <td>2022-07-21 13:54:26.243627</td>\n",
       "      <td>1</td>\n",
       "      <td>Check Customer Payment</td>\n",
       "    </tr>\n",
       "    <tr>\n",
       "      <th>7</th>\n",
       "      <td>San Francisco, USA</td>\n",
       "      <td>Invoice Processor</td>\n",
       "      <td>Vendor2</td>\n",
       "      <td>2499.1</td>\n",
       "      <td>Aiden</td>\n",
       "      <td>2022-07-21 13:54:26.243627</td>\n",
       "      <td>2022-07-21 15:44:38.843627</td>\n",
       "      <td>1</td>\n",
       "      <td>Credit Memo Entry</td>\n",
       "    </tr>\n",
       "    <tr>\n",
       "      <th>8</th>\n",
       "      <td>San Francisco, USA</td>\n",
       "      <td>Invoice Processor</td>\n",
       "      <td>Vendor2</td>\n",
       "      <td>2499.1</td>\n",
       "      <td>Aiden</td>\n",
       "      <td>2022-07-21 15:44:38.843627</td>\n",
       "      <td>2022-07-21 17:51:44.243627</td>\n",
       "      <td>1</td>\n",
       "      <td>Refund Customer</td>\n",
       "    </tr>\n",
       "    <tr>\n",
       "      <th>9</th>\n",
       "      <td>San Francisco, USA</td>\n",
       "      <td>Invoice Processor</td>\n",
       "      <td>Vendor2</td>\n",
       "      <td>2499.1</td>\n",
       "      <td>Aiden</td>\n",
       "      <td>2022-07-21 17:51:44.243627</td>\n",
       "      <td>2022-07-21 19:05:53.843627</td>\n",
       "      <td>1</td>\n",
       "      <td>Re-issuing the invoice</td>\n",
       "    </tr>\n",
       "  </tbody>\n",
       "</table>\n",
       "</div>"
      ],
      "text/plain": [
       "                Location               Role VendorID  InvoiceValue Resource  \\\n",
       "5     San Francisco, USA              start  Vendor2        2499.1    Aiden   \n",
       "1005  San Francisco, USA  Invoice Processor  Vendor2        2499.1    Aiden   \n",
       "6     San Francisco, USA  Invoice Processor  Vendor2        2499.1    Aiden   \n",
       "7     San Francisco, USA  Invoice Processor  Vendor2        2499.1    Aiden   \n",
       "8     San Francisco, USA  Invoice Processor  Vendor2        2499.1    Aiden   \n",
       "9     San Francisco, USA  Invoice Processor  Vendor2        2499.1    Aiden   \n",
       "\n",
       "                 StartTimestamp               EndTimestamp CaseId  \\\n",
       "5    2022-07-21 09:43:01.043627 2022-07-21 09:43:01.043627      1   \n",
       "1005 2022-07-21 09:43:01.043627 2022-07-21 12:05:24.443627      1   \n",
       "6    2022-07-21 12:05:24.443627 2022-07-21 13:54:26.243627      1   \n",
       "7    2022-07-21 13:54:26.243627 2022-07-21 15:44:38.843627      1   \n",
       "8    2022-07-21 15:44:38.843627 2022-07-21 17:51:44.243627      1   \n",
       "9    2022-07-21 17:51:44.243627 2022-07-21 19:05:53.843627      1   \n",
       "\n",
       "                ActivityName  \n",
       "5                      start  \n",
       "1005           Invoice Entry  \n",
       "6     Check Customer Payment  \n",
       "7          Credit Memo Entry  \n",
       "8            Refund Customer  \n",
       "9     Re-issuing the invoice  "
      ]
     },
     "execution_count": 6,
     "metadata": {},
     "output_type": "execute_result"
    }
   ],
   "source": [
    "# Test previous code\n",
    "data[data['CaseId']=='1'].sort_values(by='StartTimestamp', ascending = True)"
   ]
  },
  {
   "cell_type": "code",
   "execution_count": 7,
   "id": "a70b47be",
   "metadata": {},
   "outputs": [],
   "source": [
    "# Add \"total step time (minutes)\" calculated column\n",
    "data ['TotalStepTime'] = data['EndTimestamp'] - data['StartTimestamp']\n",
    "\n",
    "# Convert timedelta to minutes\n",
    "data['TotalStepTime(minutes)'] = data ['TotalStepTime'].dt.total_seconds() / 60\n",
    "\n",
    "data = data.drop('TotalStepTime', axis=1)"
   ]
  },
  {
   "cell_type": "markdown",
   "id": "784e8d29",
   "metadata": {},
   "source": [
    "## 2. Create a lookup table of AHT estimates\n",
    "\n",
    "these should be a way to simplify this or create the table in a separate spreadsheet"
   ]
  },
  {
   "cell_type": "code",
   "execution_count": 8,
   "id": "afde0038",
   "metadata": {},
   "outputs": [
    {
     "data": {
      "text/plain": [
       "0                 start\n",
       "1     Invoice Processor\n",
       "13     Invoice Approver\n",
       "Name: Role, dtype: object"
      ]
     },
     "execution_count": 8,
     "metadata": {},
     "output_type": "execute_result"
    }
   ],
   "source": [
    "data['Role'].drop_duplicates()"
   ]
  },
  {
   "cell_type": "code",
   "execution_count": 9,
   "id": "37ca8689",
   "metadata": {},
   "outputs": [],
   "source": [
    "# Please input Average Handeling time in minutes (for every touch) - and the max processing time as multiple of the AHT\n",
    "\n",
    "InvoiceProcessor_aht = 60\n",
    "InvoiceApprover_aht = 30\n",
    "\n",
    "max_multiply = 5"
   ]
  },
  {
   "cell_type": "code",
   "execution_count": 10,
   "id": "300f4470",
   "metadata": {},
   "outputs": [],
   "source": [
    "# Calculate the average TotalStepTime in dataset\n",
    "InvoiceProcessor_atst = data[data['Role']=='Invoice Processor']['TotalStepTime(minutes)'].mean()\n",
    "InvoiceApprover_atst = data[data['Role']=='Invoice Approver']['TotalStepTime(minutes)'].mean()\n",
    "\n",
    "# Calculte the maximum processing time in minutes as a multiplyer of AHT\n",
    "InvoiceProcessor_max = max_multiply * InvoiceProcessor_aht\n",
    "InvoiceApprover_max = max_multiply * InvoiceApprover_aht\n",
    "\n",
    "#Calculate te conversion rate and build a lookup table\n",
    "lookup = [['Invoice Processor', InvoiceProcessor_atst/InvoiceProcessor_aht , InvoiceProcessor_max ],\n",
    "         ['Invoice Approver', InvoiceApprover_atst/InvoiceApprover_aht , InvoiceApprover_max ]]\n",
    "\n",
    "lookup = pd.DataFrame(lookup, columns=['Role' , 'ConversionConstant' , 'MaxValue'])"
   ]
  },
  {
   "cell_type": "markdown",
   "id": "4f410354",
   "metadata": {},
   "source": []
  },
  {
   "cell_type": "code",
   "execution_count": 11,
   "id": "93404e44",
   "metadata": {},
   "outputs": [],
   "source": [
    "# Add lookup tablel to data\n",
    "data = pd.merge(data, lookup, on='Role', how='left')"
   ]
  },
  {
   "cell_type": "code",
   "execution_count": 12,
   "id": "a035d852",
   "metadata": {},
   "outputs": [],
   "source": [
    "# Calculate the estimated processing time & round the outcome\n",
    "data['EstimatedProcessingTime(minutes)'] = data['TotalStepTime(minutes)'] / data['ConversionConstant']\n",
    "data['EstimatedProcessingTime(minutes)'] = data['EstimatedProcessingTime(minutes)'].round(2)\n",
    "\n",
    "# Cap processing time at the threshould above\n",
    "data['EstimatedProcessingTime(minutes)'] = data.apply(lambda row: min(row['MaxValue'], \n",
    "                                                                      row['EstimatedProcessingTime(minutes)']),axis=1)\n",
    "# Drop extra columns\n",
    "data = data.drop('ConversionConstant', axis=1)\n",
    "data = data.drop('MaxValue', axis=1)\n",
    "\n",
    "# Sort the dataset\n",
    "data = data.sort_values(by='StartTimestamp', ascending=True)\n",
    "data = data.sort_values(by='CaseId', ascending=True)\n",
    "\n",
    "# Fill empty cells with 0\n",
    "data['EstimatedProcessingTime(minutes)'] = data['EstimatedProcessingTime(minutes)'].fillna(0)"
   ]
  },
  {
   "cell_type": "markdown",
   "id": "bef908fe",
   "metadata": {},
   "source": [
    "## 3. Create new Start Time Stamps"
   ]
  },
  {
   "cell_type": "code",
   "execution_count": 13,
   "id": "65efbc31",
   "metadata": {},
   "outputs": [],
   "source": [
    "# Create a new process start timestamp considering the estimated processing times\n",
    "data['ProcessingTimedelta'] = pd.to_timedelta(data['EstimatedProcessingTime(minutes)'], unit='m')\n",
    "data['new_StartTimestamp'] = data['EndTimestamp'] - data['ProcessingTimedelta']\n",
    "\n",
    "data=data.drop('ProcessingTimedelta', axis=1)"
   ]
  },
  {
   "cell_type": "code",
   "execution_count": 15,
   "id": "7e1ebc00",
   "metadata": {},
   "outputs": [],
   "source": [
    "# Export output data\n",
    "data.to_csv ('OutputDataset.csv', index=False)"
   ]
  },
  {
   "cell_type": "code",
   "execution_count": null,
   "id": "41900fca",
   "metadata": {},
   "outputs": [],
   "source": []
  },
  {
   "cell_type": "code",
   "execution_count": null,
   "id": "c9fc3cc4",
   "metadata": {},
   "outputs": [],
   "source": []
  },
  {
   "cell_type": "code",
   "execution_count": null,
   "id": "057e9629",
   "metadata": {},
   "outputs": [],
   "source": []
  },
  {
   "cell_type": "code",
   "execution_count": null,
   "id": "6b30cd7b",
   "metadata": {},
   "outputs": [],
   "source": []
  },
  {
   "cell_type": "code",
   "execution_count": null,
   "id": "a0209eb5",
   "metadata": {},
   "outputs": [],
   "source": []
  },
  {
   "cell_type": "code",
   "execution_count": null,
   "id": "6ce8be8a",
   "metadata": {},
   "outputs": [],
   "source": []
  },
  {
   "cell_type": "code",
   "execution_count": null,
   "id": "ded44bda",
   "metadata": {},
   "outputs": [],
   "source": []
  },
  {
   "cell_type": "code",
   "execution_count": null,
   "id": "3422b810",
   "metadata": {},
   "outputs": [],
   "source": []
  },
  {
   "cell_type": "code",
   "execution_count": null,
   "id": "b1e9e561",
   "metadata": {},
   "outputs": [],
   "source": []
  },
  {
   "cell_type": "code",
   "execution_count": null,
   "id": "67924d61",
   "metadata": {},
   "outputs": [],
   "source": []
  }
 ],
 "metadata": {
  "kernelspec": {
   "display_name": "Python 3",
   "language": "python",
   "name": "python3"
  },
  "language_info": {
   "codemirror_mode": {
    "name": "ipython",
    "version": 3
   },
   "file_extension": ".py",
   "mimetype": "text/x-python",
   "name": "python",
   "nbconvert_exporter": "python",
   "pygments_lexer": "ipython3",
   "version": "3.8.8"
  }
 },
 "nbformat": 4,
 "nbformat_minor": 5
}
