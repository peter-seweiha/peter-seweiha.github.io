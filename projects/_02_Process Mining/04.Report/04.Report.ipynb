{
 "cells": [
  {
   "cell_type": "code",
   "execution_count": 1,
   "id": "fbe61d06",
   "metadata": {},
   "outputs": [],
   "source": [
    "import numpy as np\n",
    "import pandas as pd\n",
    "import matplotlib.pyplot as plt\n",
    "import seaborn as sns"
   ]
  },
  {
   "cell_type": "code",
   "execution_count": 2,
   "id": "056aa23f",
   "metadata": {},
   "outputs": [],
   "source": [
    "# Import eventlog file\n",
    "filename = ('SampleData.csv')\n",
    "data = pd.read_csv(filename)"
   ]
  },
  {
   "cell_type": "code",
   "execution_count": 3,
   "id": "602e5452",
   "metadata": {},
   "outputs": [],
   "source": [
    "class Report:\n",
    "    def __init__(self, input_log):\n",
    "        if not isinstance(input_log, pd.DataFrame):\n",
    "            raise ValueError(\"EventLog must be a pandas DataFrame.\")\n",
    "        self.data = input_log\n",
    "        \n",
    "    def clean_log(self, CaseID='caseid_column', Activity='activity_column', StartTimeStamp='start_column', EndTimeStamp='end_column'):\n",
    "        \n",
    "        # create a dictionary to map old column names to new column names\n",
    "        rename_dict = {CaseID: 'CaseID', Activity: 'Activity', StartTimeStamp: 'StartTimeStamp', EndTimeStamp: 'EndTimeStamp'}\n",
    "        \n",
    "        # use the rename method to rename the columns in the DataFrame\n",
    "        self.data = self.data.rename(columns=rename_dict)\n",
    "       \n",
    "        # fix columns data types in Python\n",
    "        # Convert CaseID column to string\n",
    "        self.data['CaseID'] = self.data['CaseID'].astype(str)\n",
    "        \n",
    "        # convert datetime column and set the correct format (dd-mm)\n",
    "        self.data['StartTimeStamp'] = pd.to_datetime(self.data['StartTimeStamp'], dayfirst=True)\n",
    "        self.data['EndTimeStamp'] = pd.to_datetime(self.data['EndTimeStamp'], dayfirst=True)\n",
    "        \n",
    "    def plot_daily_wip(self, wip_time='15:00:00'):\n",
    "        data = self.data\n",
    "        \n",
    "        # Create unduplicated list of all days at the desired count time\n",
    "        all_days = pd.to_datetime(data['StartTimeStamp'].dt.date.astype(str) + ' ' + wip_time).drop_duplicates()\n",
    "        all_days = all_days.sort_values()\n",
    "\n",
    "        # Count WIP for all eventlog days at the set WIP time - ideally end-of-day\n",
    "        rows = []\n",
    "        for day in all_days:\n",
    "            count_wip = ((data['StartTimeStamp'] < day) & (data['EndTimeStamp'] > day)).sum()\n",
    "            rows.append({'day': day, 'total_wip': count_wip})\n",
    "\n",
    "        wip_output = pd.DataFrame(rows)\n",
    "\n",
    "        # Plot the outcome\n",
    "        plt.figure(figsize=(8, 5))\n",
    "        plt.bar(wip_output['day'], wip_output['total_wip'], color='skyblue')\n",
    "        plt.xlabel(\"Day\")\n",
    "        plt.ylabel('Total WIP')\n",
    "        plt.title('Total WIP per Day')\n",
    "        plt.xticks(rotation=45)  # Rotate x-axis labels for better readability\n",
    "        plt.tight_layout()\n",
    "\n",
    "        # Show plot\n",
    "        plt.show()"
   ]
  },
  {
   "cell_type": "code",
   "execution_count": 4,
   "id": "3d9a8e61",
   "metadata": {},
   "outputs": [],
   "source": [
    "log = Report(data)"
   ]
  },
  {
   "cell_type": "code",
   "execution_count": 5,
   "id": "b3e42826",
   "metadata": {},
   "outputs": [],
   "source": [
    "log.clean_log(CaseID= \"CaseId\", \n",
    "              Activity = 'ActivityName', \n",
    "              StartTimeStamp= 'StartTimestamp',\n",
    "              EndTimeStamp= 'EndTimestamp' )"
   ]
  },
  {
   "cell_type": "code",
   "execution_count": 6,
   "id": "67380e8d",
   "metadata": {},
   "outputs": [
    {
     "data": {
      "image/png": "[encoded data removed]",
      "text/plain": [
       "<Figure size 576x360 with 1 Axes>"
      ]
     },
     "metadata": {
      "needs_background": "light"
     },
     "output_type": "display_data"
    }
   ],
   "source": [
    "log.plot_daily_wip(wip_time = '15:00:00')"
   ]
  },
  {
   "cell_type": "markdown",
   "id": "7c76c836",
   "metadata": {},
   "source": [
    "## Next\n",
    "- Measure wip for every activity\n",
    "- plot productivity\n",
    "- plot cost"
   ]
  },
  {
   "cell_type": "code",
   "execution_count": null,
   "id": "fc929e41",
   "metadata": {},
   "outputs": [],
   "source": [
    "# measure wip for every activity\n",
    "\n",
    "for i in range (len(data)):\n",
    "    \n",
    "    activity_name = data.at[i, 'Activity']\n",
    "    activity_start = data.at[i, 'StartTimeStamp']\n",
    "    \n",
    "    count_occurrrances = "
   ]
  }
 ],
 "metadata": {
  "kernelspec": {
   "display_name": "Python 3",
   "language": "python",
   "name": "python3"
  },
  "language_info": {
   "codemirror_mode": {
    "name": "ipython",
    "version": 3
   },
   "file_extension": ".py",
   "mimetype": "text/x-python",
   "name": "python",
   "nbconvert_exporter": "python",
   "pygments_lexer": "ipython3",
   "version": "3.8.8"
  }
 },
 "nbformat": 4,
 "nbformat_minor": 5
}
