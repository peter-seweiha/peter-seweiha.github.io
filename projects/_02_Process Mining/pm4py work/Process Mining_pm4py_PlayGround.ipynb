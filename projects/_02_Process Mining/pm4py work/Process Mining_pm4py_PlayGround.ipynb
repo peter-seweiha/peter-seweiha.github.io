{
 "cells": [
  {
   "cell_type": "code",
   "execution_count": null,
   "id": "1bc6be9b",
   "metadata": {},
   "outputs": [],
   "source": [
    "import pm4py\n",
    "import pandas as pd"
   ]
  },
  {
   "cell_type": "markdown",
   "id": "768aaeb1",
   "metadata": {},
   "source": [
    "### pm4py key links\n",
    "\n",
    "https://pm4py.fit.fraunhofer.de/static/assets/api/2.7.8/index.html\n",
    "\n",
    "https://pm4py-source.readthedocs.io/en/latest/_modules/index.html\n",
    "\n",
    "https://pm4py-source.readthedocs.io/en/latest/py-modindex.html\n",
    "\n"
   ]
  },
  {
   "cell_type": "code",
   "execution_count": 2,
   "id": "01db81ed",
   "metadata": {},
   "outputs": [],
   "source": [
    "filename = ('SampleData_AP_Refunds_Financial_EventLog .csv')"
   ]
  },
  {
   "cell_type": "code",
   "execution_count": 3,
   "id": "a3b5c5f4",
   "metadata": {},
   "outputs": [],
   "source": [
    "data = pd.read_csv(filename)"
   ]
  },
  {
   "cell_type": "code",
   "execution_count": 4,
   "id": "87d9b2b7",
   "metadata": {},
   "outputs": [
    {
     "data": {
      "text/html": [
       "<div>\n",
       "<style scoped>\n",
       "    .dataframe tbody tr th:only-of-type {\n",
       "        vertical-align: middle;\n",
       "    }\n",
       "\n",
       "    .dataframe tbody tr th {\n",
       "        vertical-align: top;\n",
       "    }\n",
       "\n",
       "    .dataframe thead th {\n",
       "        text-align: right;\n",
       "    }\n",
       "</style>\n",
       "<table border=\"1\" class=\"dataframe\">\n",
       "  <thead>\n",
       "    <tr style=\"text-align: right;\">\n",
       "      <th></th>\n",
       "      <th>Location</th>\n",
       "      <th>Role</th>\n",
       "      <th>VendorID</th>\n",
       "      <th>InvoiceValue</th>\n",
       "      <th>Resource</th>\n",
       "      <th>StartTimestamp</th>\n",
       "      <th>EndTimestamp</th>\n",
       "      <th>CaseId</th>\n",
       "      <th>ActivityName</th>\n",
       "    </tr>\n",
       "  </thead>\n",
       "  <tbody>\n",
       "    <tr>\n",
       "      <th>0</th>\n",
       "      <td>San Diego, USA</td>\n",
       "      <td>Invoice Processor</td>\n",
       "      <td>Vendor2</td>\n",
       "      <td>729.27</td>\n",
       "      <td>Casey</td>\n",
       "      <td>2022-07-28 09:23:50.502475</td>\n",
       "      <td>2022-07-28 17:59:05.502475</td>\n",
       "      <td>0</td>\n",
       "      <td>Invoice Entry</td>\n",
       "    </tr>\n",
       "    <tr>\n",
       "      <th>1</th>\n",
       "      <td>San Diego, USA</td>\n",
       "      <td>Invoice Processor</td>\n",
       "      <td>Vendor2</td>\n",
       "      <td>729.27</td>\n",
       "      <td>Casey</td>\n",
       "      <td>2022-07-28 17:59:05.502475</td>\n",
       "      <td>2022-07-29 00:43:19.302475</td>\n",
       "      <td>0</td>\n",
       "      <td>Check Customer Payment</td>\n",
       "    </tr>\n",
       "    <tr>\n",
       "      <th>2</th>\n",
       "      <td>San Diego, USA</td>\n",
       "      <td>Invoice Processor</td>\n",
       "      <td>Vendor2</td>\n",
       "      <td>729.27</td>\n",
       "      <td>Casey</td>\n",
       "      <td>2022-07-29 09:43:19.302475</td>\n",
       "      <td>2022-07-29 15:04:04.902475</td>\n",
       "      <td>0</td>\n",
       "      <td>Credit Memo Entry</td>\n",
       "    </tr>\n",
       "  </tbody>\n",
       "</table>\n",
       "</div>"
      ],
      "text/plain": [
       "         Location               Role VendorID  InvoiceValue Resource  \\\n",
       "0  San Diego, USA  Invoice Processor  Vendor2        729.27    Casey   \n",
       "1  San Diego, USA  Invoice Processor  Vendor2        729.27    Casey   \n",
       "2  San Diego, USA  Invoice Processor  Vendor2        729.27    Casey   \n",
       "\n",
       "               StartTimestamp                EndTimestamp  CaseId  \\\n",
       "0  2022-07-28 09:23:50.502475  2022-07-28 17:59:05.502475       0   \n",
       "1  2022-07-28 17:59:05.502475  2022-07-29 00:43:19.302475       0   \n",
       "2  2022-07-29 09:43:19.302475  2022-07-29 15:04:04.902475       0   \n",
       "\n",
       "             ActivityName  \n",
       "0           Invoice Entry  \n",
       "1  Check Customer Payment  \n",
       "2       Credit Memo Entry  "
      ]
     },
     "execution_count": 4,
     "metadata": {},
     "output_type": "execute_result"
    }
   ],
   "source": [
    "data.head(3)"
   ]
  },
  {
   "cell_type": "markdown",
   "id": "8431ea02",
   "metadata": {},
   "source": [
    "## Read Dataset in pm4py\n",
    "\n",
    "In pm4py the dataset is called \"log\""
   ]
  },
  {
   "cell_type": "code",
   "execution_count": 20,
   "id": "9f8c13ac",
   "metadata": {},
   "outputs": [],
   "source": [
    "log = pm4py.format_dataframe(data, \n",
    "                              case_id='CaseId', \n",
    "                              activity_key='ActivityName', \n",
    "                              timestamp_key='EndTimestamp', \n",
    "                              start_timestamp_key='StartTimestamp', \n",
    "                              timest_format='%Y-%m-%d %H:%M:%S%z')"
   ]
  },
  {
   "cell_type": "code",
   "execution_count": 6,
   "id": "00813d0c",
   "metadata": {},
   "outputs": [],
   "source": [
    "# Discover starting and ending activities\n",
    "start_activities = pm4py.get_start_activities(log)\n",
    "end_activities = pm4py.get_end_activities(log)"
   ]
  },
  {
   "cell_type": "code",
   "execution_count": 7,
   "id": "82cbddb8",
   "metadata": {},
   "outputs": [
    {
     "data": {
      "text/plain": [
       "{'Invoice Entry': 133}"
      ]
     },
     "execution_count": 7,
     "metadata": {},
     "output_type": "execute_result"
    }
   ],
   "source": [
    "start_activities"
   ]
  },
  {
   "cell_type": "code",
   "execution_count": 8,
   "id": "2d23436f",
   "metadata": {},
   "outputs": [
    {
     "data": {
      "text/plain": [
       "{'Re-issuing the invoice': 133}"
      ]
     },
     "execution_count": 8,
     "metadata": {},
     "output_type": "execute_result"
    }
   ],
   "source": [
    "end_activities"
   ]
  },
  {
   "cell_type": "code",
   "execution_count": null,
   "id": "7778e956",
   "metadata": {},
   "outputs": [],
   "source": [
    "# # the log is filtered on the top 5 variants - it keeps only data for top x variants\n",
    "# filtered_log = pm4py.filter_variants_top_k(data, 5)"
   ]
  },
  {
   "cell_type": "markdown",
   "id": "c79b7a29",
   "metadata": {},
   "source": [
    "# Visualise the process\n",
    "### Comparing process discovery algorithms\n",
    "#### Alpha Miner\n",
    "Alpha Miner was perhaps the first process discovery algorithm. Most of the algorithms subsequently developed were refinements and embellishments on it (Van der Aalst, 2016). Its main limitation is that it does not take into account event frequencies and does not guarantee soundness (see above). It also only really works for event logs without noise, which is rarely the case in real world data.\n",
    "\n",
    "#### Heuristic Miner\n",
    "Heuristics Miner (Weijters; Bogarin et al., 2016) takes into account event frequencies and ignores exceptional behaviour (low frequency events and event sequences), single events, and short loops (which you can see as self-contained events at a higher level). However, like alpha miner, it does not guarantee soundness.\n",
    "\n",
    "Heuristics miner is most suitable when the number of event types is small (can fit in a human brain). By ignoring exceptional low frequency events and event sequences, it allows you to infer a parsimonious model from noisy real-world data.\n",
    "\n",
    "#### Inductive Miner\n",
    "Like heuristics miner, inductive miner takes into account event frequencies and ignores low-frequency events and isolated events/event loops. As an improvement to both alpha miner and heuristics miner, it also, guarantees soundness."
   ]
  },
  {
   "cell_type": "markdown",
   "id": "14366910",
   "metadata": {},
   "source": [
    "# Inductive Miner -  Process Tree  & BPMN visualisation"
   ]
  },
  {
   "cell_type": "code",
   "execution_count": 9,
   "id": "df5baf48",
   "metadata": {},
   "outputs": [],
   "source": [
    "# Discover process tree using inductive miner\n",
    "from pm4py.algo.discovery.inductive import algorithm as inductive_miner\n",
    "# Discover process tree using inductive miner\n",
    "tree = inductive_miner.apply_tree(log)\n",
    "\n",
    "from pm4py.visualization.process_tree import visualizer as pt_visualizer\n",
    "\n",
    "# # Visualise the tree\n",
    "# gviz = pt_visualizer.apply(tree)\n",
    "# pt_visualizer.view(gviz)"
   ]
  },
  {
   "cell_type": "code",
   "execution_count": 10,
   "id": "fe8dcb4f",
   "metadata": {},
   "outputs": [],
   "source": [
    "# Generate process Tree using inductive miner\n",
    "tree = pm4py.discover_process_tree_inductive(log)"
   ]
  },
  {
   "cell_type": "code",
   "execution_count": 11,
   "id": "e24550fe",
   "metadata": {},
   "outputs": [],
   "source": [
    "# Convert Tree to BPMN diagram\n",
    "bpmn_graph = pm4py.convert_to_bpmn(tree)"
   ]
  },
  {
   "cell_type": "code",
   "execution_count": 12,
   "id": "792d8465",
   "metadata": {},
   "outputs": [],
   "source": [
    "from pm4py.objects.bpmn.layout import layouter\n",
    "# Organising the layout of BPMN diagram -\n",
    "\"\"\"A layouting operation tries to give a good position to the nodes and the edges of the BPMN diagram. \n",
    "For our purposes, we chose an octilinear edges layout.\n",
    "\"\"\"\n",
    "bpmn_graph = layouter.apply(bpmn_graph)"
   ]
  },
  {
   "cell_type": "code",
   "execution_count": 13,
   "id": "4e003407",
   "metadata": {},
   "outputs": [
    {
     "data": {
      "image/svg+xml": [
       "<?xml version=\"1.0\" encoding=\"UTF-8\" standalone=\"no\"?>\n",
       "<!DOCTYPE svg PUBLIC \"-//W3C//DTD SVG 1.1//EN\"\n",
       " \"http://www.w3.org/Graphics/SVG/1.1/DTD/svg11.dtd\">\n",
       "<!-- Generated by graphviz version 9.0.0 (20230911.1827)\n",
       " -->\n",
       "<!-- Pages: 1 -->\n",
       "<svg width=\"1988pt\" height=\"190pt\"\n",
       " viewBox=\"0.00 0.00 1987.50 190.00\" xmlns=\"http://www.w3.org/2000/svg\" xmlns:xlink=\"http://www.w3.org/1999/xlink\">\n",
       "<g id=\"graph0\" class=\"graph\" transform=\"scale(1 1) rotate(0) translate(4 186)\">\n",
       "<!-- 2352539582672 -->\n",
       "<g id=\"node1\" class=\"node\">\n",
       "<title>2352539582672</title>\n",
       "<ellipse fill=\"green\" stroke=\"black\" cx=\"18\" cy=\"-45\" rx=\"18\" ry=\"18\"/>\n",
       "</g>\n",
       "<!-- 2352534022176 -->\n",
       "<g id=\"node2\" class=\"node\">\n",
       "<title>2352534022176</title>\n",
       "<polygon fill=\"none\" stroke=\"black\" points=\"148,-63 72,-63 72,-27 148,-27 148,-63\"/>\n",
       "<text text-anchor=\"middle\" x=\"110\" y=\"-40.73\" font-family=\"Times New Roman,serif\" font-size=\"12.00\">Invoice Entry</text>\n",
       "</g>\n",
       "<!-- 2352539582672&#45;&gt;2352534022176 -->\n",
       "<g id=\"edge1\" class=\"edge\">\n",
       "<title>2352539582672&#45;&gt;2352534022176</title>\n",
       "<path fill=\"none\" stroke=\"black\" d=\"M36.35,-45C43.31,-45 51.72,-45 60.3,-45\"/>\n",
       "<polygon fill=\"black\" stroke=\"black\" points=\"60.07,-48.5 70.07,-45 60.07,-41.5 60.07,-48.5\"/>\n",
       "</g>\n",
       "<!-- 2352539623632 -->\n",
       "<g id=\"node3\" class=\"node\">\n",
       "<title>2352539623632</title>\n",
       "<polygon fill=\"none\" stroke=\"black\" points=\"211,-63 184,-45 211,-27 238,-45 211,-63\"/>\n",
       "<text text-anchor=\"middle\" x=\"211\" y=\"-40.73\" font-family=\"Times New Roman,serif\" font-size=\"12.00\">X</text>\n",
       "</g>\n",
       "<!-- 2352534022176&#45;&gt;2352539623632 -->\n",
       "<g id=\"edge2\" class=\"edge\">\n",
       "<title>2352534022176&#45;&gt;2352539623632</title>\n",
       "<path fill=\"none\" stroke=\"black\" d=\"M148.43,-45C156.14,-45 164.26,-45 171.99,-45\"/>\n",
       "<polygon fill=\"black\" stroke=\"black\" points=\"171.8,-48.5 181.8,-45 171.8,-41.5 171.8,-48.5\"/>\n",
       "</g>\n",
       "<!-- 2352539625648 -->\n",
       "<g id=\"node4\" class=\"node\">\n",
       "<title>2352539625648</title>\n",
       "<polygon fill=\"none\" stroke=\"black\" points=\"413.75,-90 274,-90 274,-54 413.75,-54 413.75,-90\"/>\n",
       "<text text-anchor=\"middle\" x=\"343.88\" y=\"-67.72\" font-family=\"Times New Roman,serif\" font-size=\"12.00\">Confirm Payment Received</text>\n",
       "</g>\n",
       "<!-- 2352539623632&#45;&gt;2352539625648 -->\n",
       "<g id=\"edge4\" class=\"edge\">\n",
       "<title>2352539623632&#45;&gt;2352539625648</title>\n",
       "<path fill=\"none\" stroke=\"black\" d=\"M232.45,-49.22C240.91,-50.97 251.33,-53.11 262.34,-55.39\"/>\n",
       "<polygon fill=\"black\" stroke=\"black\" points=\"261.53,-58.79 272.03,-57.38 262.94,-51.94 261.53,-58.79\"/>\n",
       "</g>\n",
       "<!-- 2352539627424 -->\n",
       "<g id=\"node5\" class=\"node\">\n",
       "<title>2352539627424</title>\n",
       "<polygon fill=\"none\" stroke=\"black\" points=\"411.5,-36 276.25,-36 276.25,0 411.5,0 411.5,-36\"/>\n",
       "<text text-anchor=\"middle\" x=\"343.88\" y=\"-13.72\" font-family=\"Times New Roman,serif\" font-size=\"12.00\">Check Customer Payment</text>\n",
       "</g>\n",
       "<!-- 2352539623632&#45;&gt;2352539627424 -->\n",
       "<g id=\"edge3\" class=\"edge\">\n",
       "<title>2352539623632&#45;&gt;2352539627424</title>\n",
       "<path fill=\"none\" stroke=\"black\" d=\"M232.45,-40.78C241.53,-38.91 252.85,-36.57 264.76,-34.12\"/>\n",
       "<polygon fill=\"black\" stroke=\"black\" points=\"265.24,-37.59 274.33,-32.14 263.82,-30.73 265.24,-37.59\"/>\n",
       "</g>\n",
       "<!-- 2352539627136 -->\n",
       "<g id=\"node6\" class=\"node\">\n",
       "<title>2352539627136</title>\n",
       "<polygon fill=\"none\" stroke=\"black\" points=\"502,-90 475,-72 502,-54 529,-72 502,-90\"/>\n",
       "<text text-anchor=\"middle\" x=\"502\" y=\"-67.72\" font-family=\"Times New Roman,serif\" font-size=\"12.00\">X</text>\n",
       "</g>\n",
       "<!-- 2352539625648&#45;&gt;2352539627136 -->\n",
       "<g id=\"edge6\" class=\"edge\">\n",
       "<title>2352539625648&#45;&gt;2352539627136</title>\n",
       "<path fill=\"none\" stroke=\"black\" d=\"M413.81,-72C430.7,-72 448.16,-72 462.98,-72\"/>\n",
       "<polygon fill=\"black\" stroke=\"black\" points=\"462.73,-75.5 472.73,-72 462.73,-68.5 462.73,-75.5\"/>\n",
       "</g>\n",
       "<!-- 2352539626032 -->\n",
       "<g id=\"node7\" class=\"node\">\n",
       "<title>2352539626032</title>\n",
       "<polygon fill=\"none\" stroke=\"black\" points=\"554.25,-36 449.75,-36 449.75,0 554.25,0 554.25,-36\"/>\n",
       "<text text-anchor=\"middle\" x=\"502\" y=\"-13.72\" font-family=\"Times New Roman,serif\" font-size=\"12.00\">Credit Memo Entry</text>\n",
       "</g>\n",
       "<!-- 2352539627424&#45;&gt;2352539626032 -->\n",
       "<g id=\"edge5\" class=\"edge\">\n",
       "<title>2352539627424&#45;&gt;2352539626032</title>\n",
       "<path fill=\"none\" stroke=\"black\" d=\"M411.99,-18C420.63,-18 429.45,-18 438.01,-18\"/>\n",
       "<polygon fill=\"black\" stroke=\"black\" points=\"437.99,-21.5 447.99,-18 437.99,-14.5 437.99,-21.5\"/>\n",
       "</g>\n",
       "<!-- 2352539625168 -->\n",
       "<g id=\"node8\" class=\"node\">\n",
       "<title>2352539625168</title>\n",
       "<polygon fill=\"none\" stroke=\"black\" points=\"617.25,-128 590.25,-110 617.25,-92 644.25,-110 617.25,-128\"/>\n",
       "<text text-anchor=\"middle\" x=\"617.25\" y=\"-105.72\" font-family=\"Times New Roman,serif\" font-size=\"12.00\">X</text>\n",
       "</g>\n",
       "<!-- 2352539627136&#45;&gt;2352539625168 -->\n",
       "<g id=\"edge8\" class=\"edge\">\n",
       "<title>2352539627136&#45;&gt;2352539625168</title>\n",
       "<path fill=\"none\" stroke=\"black\" d=\"M520.7,-77.94C538.65,-83.96 566.72,-93.38 587.8,-100.45\"/>\n",
       "<polygon fill=\"black\" stroke=\"black\" points=\"586.65,-103.76 597.24,-103.62 588.88,-97.12 586.65,-103.76\"/>\n",
       "</g>\n",
       "<!-- 2352539626560 -->\n",
       "<g id=\"node9\" class=\"node\">\n",
       "<title>2352539626560</title>\n",
       "<polygon fill=\"none\" stroke=\"black\" points=\"971,-36 875.5,-36 875.5,0 971,0 971,-36\"/>\n",
       "<text text-anchor=\"middle\" x=\"923.25\" y=\"-13.72\" font-family=\"Times New Roman,serif\" font-size=\"12.00\">Refund Customer</text>\n",
       "</g>\n",
       "<!-- 2352539626032&#45;&gt;2352539626560 -->\n",
       "<g id=\"edge7\" class=\"edge\">\n",
       "<title>2352539626032&#45;&gt;2352539626560</title>\n",
       "<path fill=\"none\" stroke=\"black\" d=\"M554.41,-18C632.75,-18 781.56,-18 863.86,-18\"/>\n",
       "<polygon fill=\"black\" stroke=\"black\" points=\"863.75,-21.5 873.75,-18 863.75,-14.5 863.75,-21.5\"/>\n",
       "</g>\n",
       "<!-- 2352539613888 -->\n",
       "<g id=\"node11\" class=\"node\">\n",
       "<title>2352539613888</title>\n",
       "<polygon fill=\"none\" stroke=\"black\" points=\"839.5,-182 680.25,-182 680.25,-146 839.5,-146 839.5,-182\"/>\n",
       "<text text-anchor=\"middle\" x=\"759.88\" y=\"-159.72\" font-family=\"Times New Roman,serif\" font-size=\"12.00\">Refund With Standard Voucher</text>\n",
       "</g>\n",
       "<!-- 2352539625168&#45;&gt;2352539613888 -->\n",
       "<g id=\"edge11\" class=\"edge\">\n",
       "<title>2352539625168&#45;&gt;2352539613888</title>\n",
       "<path fill=\"none\" stroke=\"black\" d=\"M633.9,-117.23C646.35,-122.88 664.27,-130.79 680.25,-137 684.3,-138.57 688.48,-140.15 692.7,-141.71\"/>\n",
       "<polygon fill=\"black\" stroke=\"black\" points=\"691.24,-144.9 701.84,-145.01 693.62,-138.32 691.24,-144.9\"/>\n",
       "</g>\n",
       "<!-- 2352539613696 -->\n",
       "<g id=\"node12\" class=\"node\">\n",
       "<title>2352539613696</title>\n",
       "<polygon fill=\"none\" stroke=\"black\" points=\"835.38,-128 684.38,-128 684.38,-92 835.38,-92 835.38,-128\"/>\n",
       "<text text-anchor=\"middle\" x=\"759.88\" y=\"-105.72\" font-family=\"Times New Roman,serif\" font-size=\"12.00\">Refund With Special Voucher</text>\n",
       "</g>\n",
       "<!-- 2352539625168&#45;&gt;2352539613696 -->\n",
       "<g id=\"edge10\" class=\"edge\">\n",
       "<title>2352539625168&#45;&gt;2352539613696</title>\n",
       "<path fill=\"none\" stroke=\"black\" d=\"M645.03,-110C653.2,-110 662.65,-110 672.55,-110\"/>\n",
       "<polygon fill=\"black\" stroke=\"black\" points=\"672.36,-113.5 682.36,-110 672.36,-106.5 672.36,-113.5\"/>\n",
       "</g>\n",
       "<!-- 2352539623728 -->\n",
       "<g id=\"node10\" class=\"node\">\n",
       "<title>2352539623728</title>\n",
       "<polygon fill=\"none\" stroke=\"black\" points=\"1731,-59 1704,-41 1731,-23 1758,-41 1731,-59\"/>\n",
       "<text text-anchor=\"middle\" x=\"1731\" y=\"-36.73\" font-family=\"Times New Roman,serif\" font-size=\"12.00\">X</text>\n",
       "</g>\n",
       "<!-- 2352539626560&#45;&gt;2352539623728 -->\n",
       "<g id=\"edge9\" class=\"edge\">\n",
       "<title>2352539626560&#45;&gt;2352539623728</title>\n",
       "<path fill=\"none\" stroke=\"black\" d=\"M971.29,-18C1030.65,-18 1135.89,-18 1226,-18 1226,-18 1226,-18 1479.25,-18 1557.63,-18 1649.23,-29.28 1697.07,-36.04\"/>\n",
       "<polygon fill=\"black\" stroke=\"black\" points=\"1696.37,-39.48 1706.76,-37.44 1697.36,-32.55 1696.37,-39.48\"/>\n",
       "</g>\n",
       "<!-- 2352539612064 -->\n",
       "<g id=\"node14\" class=\"node\">\n",
       "<title>2352539612064</title>\n",
       "<polygon fill=\"none\" stroke=\"black\" points=\"1907.5,-59 1794,-59 1794,-23 1907.5,-23 1907.5,-59\"/>\n",
       "<text text-anchor=\"middle\" x=\"1850.75\" y=\"-36.73\" font-family=\"Times New Roman,serif\" font-size=\"12.00\">Re&#45;issuing the invoice</text>\n",
       "</g>\n",
       "<!-- 2352539623728&#45;&gt;2352539612064 -->\n",
       "<g id=\"edge12\" class=\"edge\">\n",
       "<title>2352539623728&#45;&gt;2352539612064</title>\n",
       "<path fill=\"none\" stroke=\"black\" d=\"M1758.72,-41C1765.9,-41 1774.01,-41 1782.35,-41\"/>\n",
       "<polygon fill=\"black\" stroke=\"black\" points=\"1782.28,-44.5 1792.28,-41 1782.28,-37.5 1782.28,-44.5\"/>\n",
       "</g>\n",
       "<!-- 2352539613552 -->\n",
       "<g id=\"node13\" class=\"node\">\n",
       "<title>2352539613552</title>\n",
       "<polygon fill=\"none\" stroke=\"black\" points=\"923.25,-132 896.25,-114 923.25,-96 950.25,-114 923.25,-132\"/>\n",
       "<text text-anchor=\"middle\" x=\"923.25\" y=\"-109.72\" font-family=\"Times New Roman,serif\" font-size=\"12.00\">X</text>\n",
       "</g>\n",
       "<!-- 2352539613888&#45;&gt;2352539613552 -->\n",
       "<g id=\"edge14\" class=\"edge\">\n",
       "<title>2352539613888&#45;&gt;2352539613552</title>\n",
       "<path fill=\"none\" stroke=\"black\" d=\"M820.51,-145.52C845.27,-137.85 872.89,-129.29 893.09,-123.03\"/>\n",
       "<polygon fill=\"black\" stroke=\"black\" points=\"894.09,-126.39 902.61,-120.09 892.02,-119.7 894.09,-126.39\"/>\n",
       "</g>\n",
       "<!-- 2352539613696&#45;&gt;2352539613552 -->\n",
       "<g id=\"edge13\" class=\"edge\">\n",
       "<title>2352539613696&#45;&gt;2352539613552</title>\n",
       "<path fill=\"none\" stroke=\"black\" d=\"M835.42,-111.85C852.76,-112.28 870.47,-112.72 885.34,-113.09\"/>\n",
       "<polygon fill=\"black\" stroke=\"black\" points=\"885,-116.58 895.08,-113.33 885.17,-109.58 885,-116.58\"/>\n",
       "</g>\n",
       "<!-- 2352539614272 -->\n",
       "<g id=\"node15\" class=\"node\">\n",
       "<title>2352539614272</title>\n",
       "<polygon fill=\"none\" stroke=\"black\" points=\"1164,-132 1007,-132 1007,-96 1164,-96 1164,-132\"/>\n",
       "<text text-anchor=\"middle\" x=\"1085.5\" y=\"-109.72\" font-family=\"Times New Roman,serif\" font-size=\"12.00\">Complete the Customer Memo</text>\n",
       "</g>\n",
       "<!-- 2352539613552&#45;&gt;2352539614272 -->\n",
       "<g id=\"edge15\" class=\"edge\">\n",
       "<title>2352539613552&#45;&gt;2352539614272</title>\n",
       "<path fill=\"none\" stroke=\"black\" d=\"M951.07,-114C963.6,-114 979.3,-114 995.49,-114\"/>\n",
       "<polygon fill=\"black\" stroke=\"black\" points=\"995.24,-117.5 1005.24,-114 995.24,-110.5 995.24,-117.5\"/>\n",
       "</g>\n",
       "<!-- 2352539582960 -->\n",
       "<g id=\"node21\" class=\"node\">\n",
       "<title>2352539582960</title>\n",
       "<ellipse fill=\"orange\" stroke=\"black\" cx=\"1961.5\" cy=\"-41\" rx=\"18\" ry=\"18\"/>\n",
       "</g>\n",
       "<!-- 2352539612064&#45;&gt;2352539582960 -->\n",
       "<g id=\"edge16\" class=\"edge\">\n",
       "<title>2352539612064&#45;&gt;2352539582960</title>\n",
       "<path fill=\"none\" stroke=\"black\" d=\"M1907.72,-41C1916.09,-41 1924.41,-41 1931.88,-41\"/>\n",
       "<polygon fill=\"black\" stroke=\"black\" points=\"1931.65,-44.5 1941.65,-41 1931.65,-37.5 1931.65,-44.5\"/>\n",
       "</g>\n",
       "<!-- 2352539627088 -->\n",
       "<g id=\"node16\" class=\"node\">\n",
       "<title>2352539627088</title>\n",
       "<polygon fill=\"none\" stroke=\"black\" points=\"1227,-132 1200,-114 1227,-96 1254,-114 1227,-132\"/>\n",
       "<text text-anchor=\"middle\" x=\"1227\" y=\"-109.72\" font-family=\"Times New Roman,serif\" font-size=\"12.00\">X</text>\n",
       "</g>\n",
       "<!-- 2352539614272&#45;&gt;2352539627088 -->\n",
       "<g id=\"edge17\" class=\"edge\">\n",
       "<title>2352539614272&#45;&gt;2352539627088</title>\n",
       "<path fill=\"none\" stroke=\"black\" d=\"M1164.41,-114C1172.5,-114 1180.45,-114 1187.8,-114\"/>\n",
       "<polygon fill=\"black\" stroke=\"black\" points=\"1187.65,-117.5 1197.65,-114 1187.65,-110.5 1187.65,-117.5\"/>\n",
       "</g>\n",
       "<!-- 2352539614656 -->\n",
       "<g id=\"node17\" class=\"node\">\n",
       "<title>2352539614656</title>\n",
       "<polygon fill=\"none\" stroke=\"black\" points=\"1376.88,-82 1295.62,-82 1295.62,-46 1376.88,-46 1376.88,-82\"/>\n",
       "<text text-anchor=\"middle\" x=\"1336.25\" y=\"-59.73\" font-family=\"Times New Roman,serif\" font-size=\"12.00\">Reject Invoice</text>\n",
       "</g>\n",
       "<!-- 2352539627088&#45;&gt;2352539614656 -->\n",
       "<g id=\"edge18\" class=\"edge\">\n",
       "<title>2352539627088&#45;&gt;2352539614656</title>\n",
       "<path fill=\"none\" stroke=\"black\" d=\"M1243.83,-106.62C1254.9,-101.46 1270.36,-94.25 1285.42,-87.23\"/>\n",
       "<polygon fill=\"black\" stroke=\"black\" points=\"1286.76,-90.47 1294.35,-83.07 1283.8,-84.12 1286.76,-90.47\"/>\n",
       "</g>\n",
       "<!-- 2352539615136 -->\n",
       "<g id=\"node18\" class=\"node\">\n",
       "<title>2352539615136</title>\n",
       "<polygon fill=\"none\" stroke=\"black\" points=\"1382.5,-136 1290,-136 1290,-100 1382.5,-100 1382.5,-136\"/>\n",
       "<text text-anchor=\"middle\" x=\"1336.25\" y=\"-113.72\" font-family=\"Times New Roman,serif\" font-size=\"12.00\">Approve Invoice</text>\n",
       "</g>\n",
       "<!-- 2352539627088&#45;&gt;2352539615136 -->\n",
       "<g id=\"edge19\" class=\"edge\">\n",
       "<title>2352539627088&#45;&gt;2352539615136</title>\n",
       "<path fill=\"none\" stroke=\"black\" d=\"M1253.42,-114.95C1261,-115.23 1269.63,-115.55 1278.38,-115.88\"/>\n",
       "<polygon fill=\"black\" stroke=\"black\" points=\"1278.23,-119.38 1288.35,-116.25 1278.49,-112.38 1278.23,-119.38\"/>\n",
       "</g>\n",
       "<!-- 2352539614656&#45;&gt;2352539627136 -->\n",
       "<g id=\"edge20\" class=\"edge\">\n",
       "<title>2352539614656&#45;&gt;2352539627136</title>\n",
       "<path fill=\"none\" stroke=\"black\" d=\"M1295.18,-64C1246.02,-64 1160.13,-64 1086.5,-64 758.88,-64 758.88,-64 758.88,-64 680.45,-64 588.58,-67.8 539.05,-70.16\"/>\n",
       "<polygon fill=\"black\" stroke=\"black\" points=\"539.02,-66.66 529.2,-70.64 539.36,-73.65 539.02,-66.66\"/>\n",
       "</g>\n",
       "<!-- 2352539611392 -->\n",
       "<g id=\"node19\" class=\"node\">\n",
       "<title>2352539611392</title>\n",
       "<polygon fill=\"none\" stroke=\"black\" points=\"1538,-122 1418.5,-122 1418.5,-86 1538,-86 1538,-122\"/>\n",
       "<text text-anchor=\"middle\" x=\"1478.25\" y=\"-99.72\" font-family=\"Times New Roman,serif\" font-size=\"12.00\">Credit Memo Creation</text>\n",
       "</g>\n",
       "<!-- 2352539615136&#45;&gt;2352539611392 -->\n",
       "<g id=\"edge21\" class=\"edge\">\n",
       "<title>2352539615136&#45;&gt;2352539611392</title>\n",
       "<path fill=\"none\" stroke=\"black\" d=\"M1382.7,-113.45C1390.5,-112.68 1398.76,-111.85 1407.02,-111.02\"/>\n",
       "<polygon fill=\"black\" stroke=\"black\" points=\"1407.14,-114.53 1416.74,-110.05 1406.45,-107.56 1407.14,-114.53\"/>\n",
       "</g>\n",
       "<!-- 2352539611728 -->\n",
       "<g id=\"node20\" class=\"node\">\n",
       "<title>2352539611728</title>\n",
       "<polygon fill=\"none\" stroke=\"black\" points=\"1668,-109 1574,-109 1574,-73 1668,-73 1668,-109\"/>\n",
       "<text text-anchor=\"middle\" x=\"1621\" y=\"-86.72\" font-family=\"Times New Roman,serif\" font-size=\"12.00\">Fill Credit Memo</text>\n",
       "</g>\n",
       "<!-- 2352539611392&#45;&gt;2352539611728 -->\n",
       "<g id=\"edge22\" class=\"edge\">\n",
       "<title>2352539611392&#45;&gt;2352539611728</title>\n",
       "<path fill=\"none\" stroke=\"black\" d=\"M1538.13,-98.56C1546.21,-97.81 1554.51,-97.05 1562.58,-96.3\"/>\n",
       "<polygon fill=\"black\" stroke=\"black\" points=\"1562.63,-99.81 1572.27,-95.41 1561.99,-92.84 1562.63,-99.81\"/>\n",
       "</g>\n",
       "<!-- 2352539611728&#45;&gt;2352539623728 -->\n",
       "<g id=\"edge23\" class=\"edge\">\n",
       "<title>2352539611728&#45;&gt;2352539623728</title>\n",
       "<path fill=\"none\" stroke=\"black\" d=\"M1661.91,-72.52C1675.94,-66.03 1691.34,-58.9 1703.94,-53.06\"/>\n",
       "<polygon fill=\"black\" stroke=\"black\" points=\"1705.21,-56.33 1712.82,-48.96 1702.27,-49.98 1705.21,-56.33\"/>\n",
       "</g>\n",
       "</g>\n",
       "</svg>\n"
      ],
      "text/plain": [
       "<graphviz.graphs.Digraph at 0x223be4942b0>"
      ]
     },
     "execution_count": 13,
     "metadata": {},
     "output_type": "execute_result"
    }
   ],
   "source": [
    "# Visualise BPMN\n",
    "pm4py.visualization.bpmn.visualizer.apply(bpmn_graph)"
   ]
  },
  {
   "cell_type": "code",
   "execution_count": null,
   "id": "e78bf18f",
   "metadata": {},
   "outputs": [],
   "source": []
  },
  {
   "cell_type": "code",
   "execution_count": 21,
   "id": "44969729",
   "metadata": {},
   "outputs": [
    {
     "data": {
      "image/png": "[encoded data removed]",
      "text/plain": [
       "<IPython.core.display.Image object>"
      ]
     },
     "metadata": {},
     "output_type": "display_data"
    }
   ],
   "source": [
    "process_model = pm4py.discover_bpmn_inductive(log)\n",
    "pm4py.view_bpmn(process_model)"
   ]
  },
  {
   "cell_type": "code",
   "execution_count": null,
   "id": "77a26072",
   "metadata": {},
   "outputs": [],
   "source": []
  },
  {
   "cell_type": "code",
   "execution_count": null,
   "id": "a9425966",
   "metadata": {},
   "outputs": [],
   "source": []
  },
  {
   "cell_type": "code",
   "execution_count": null,
   "id": "439b0c82",
   "metadata": {},
   "outputs": [],
   "source": [
    "# Exporting BPMN\n",
    "pm4py.write_bpmn(bpmn_graph, \"BPMN_pm4py.bpmn\")"
   ]
  },
  {
   "cell_type": "markdown",
   "id": "6b79d98a",
   "metadata": {},
   "source": [
    "## Directly Follow Diagram (dfg) discovery algorithm (Preferred)"
   ]
  },
  {
   "cell_type": "code",
   "execution_count": 14,
   "id": "0bc800c6",
   "metadata": {},
   "outputs": [
    {
     "data": {
      "image/png": "[encoded data removed]",
      "text/plain": [
       "<IPython.core.display.Image object>"
      ]
     },
     "metadata": {},
     "output_type": "display_data"
    }
   ],
   "source": [
    "## Import the dfg_discovery algorithm\n",
    "from pm4py.algo.discovery.dfg import algorithm as dfg_discovery\n",
    "\n",
    "## Import the dfg visualization object\n",
    "from pm4py.visualization.dfg import visualizer as dfg_visualization\n",
    "\n",
    "# ability to filter based on activity & path percentages\n",
    "from pm4py.algo.filtering.dfg import dfg_filtering\n",
    "\n",
    "#Create graph from log\n",
    "dfg = dfg_discovery.apply(log)\n",
    "\n",
    "# Visualise\n",
    "gviz = dfg_visualization.apply(dfg, log=log, variant=dfg_visualization.Variants.FREQUENCY)\n",
    "dfg_visualization.view(gviz)"
   ]
  },
  {
   "cell_type": "code",
   "execution_count": null,
   "id": "a46da149",
   "metadata": {},
   "outputs": [],
   "source": []
  },
  {
   "cell_type": "code",
   "execution_count": null,
   "id": "c60dd905",
   "metadata": {},
   "outputs": [],
   "source": []
  },
  {
   "cell_type": "code",
   "execution_count": null,
   "id": "8722305f",
   "metadata": {},
   "outputs": [],
   "source": []
  },
  {
   "cell_type": "code",
   "execution_count": null,
   "id": "d9208f20",
   "metadata": {},
   "outputs": [],
   "source": []
  },
  {
   "cell_type": "markdown",
   "id": "da609a1e",
   "metadata": {},
   "source": [
    "## Simplify using Activity & Paths percentages"
   ]
  },
  {
   "cell_type": "code",
   "execution_count": 16,
   "id": "4ca1ef82",
   "metadata": {},
   "outputs": [
    {
     "data": {
      "image/png": "[encoded data removed]",
      "text/plain": [
       "<IPython.core.display.Image object>"
      ]
     },
     "metadata": {},
     "output_type": "display_data"
    }
   ],
   "source": [
    "\n",
    "ACTIVITY_PERCENT = 0.5\n",
    "PATH_PERCENT = 0.5\n",
    "\n",
    "#Create graph from log\n",
    "dfg, sa, ea = pm4py.discover_directly_follows_graph(log)\n",
    "\n",
    "#Count the number of activity occurances; concept:name is the attribute reporting the activity\n",
    "activities_count = pm4py.get_event_attribute_values(log, \"concept:name\")\n",
    "\n",
    "\n",
    "# Filter on Activity Percentage\n",
    "dfg, sa, ea, activities_count = dfg_filtering.filter_dfg_on_activities_percentage(dfg, sa, ea, activities_count, ACTIVITY_PERCENT)\n",
    "\n",
    "# Filter on Path Percentage\n",
    "dfg, sa, ea, activities_count = dfg_filtering.filter_dfg_on_paths_percentage(dfg, sa, ea, activities_count, PATH_PERCENT)\n",
    "\n",
    "# Visualise\n",
    "gviz = dfg_visualization.apply(dfg, log=log, variant=dfg_visualization.Variants.FREQUENCY)\n",
    "dfg_visualization.view(gviz)"
   ]
  },
  {
   "cell_type": "code",
   "execution_count": null,
   "id": "743a97a6",
   "metadata": {},
   "outputs": [],
   "source": []
  },
  {
   "cell_type": "code",
   "execution_count": null,
   "id": "8ebd9bf3",
   "metadata": {},
   "outputs": [],
   "source": []
  },
  {
   "cell_type": "code",
   "execution_count": null,
   "id": "3d5b7513",
   "metadata": {},
   "outputs": [],
   "source": []
  },
  {
   "cell_type": "code",
   "execution_count": null,
   "id": "67c00fb0",
   "metadata": {},
   "outputs": [],
   "source": []
  },
  {
   "cell_type": "code",
   "execution_count": null,
   "id": "d5c76429",
   "metadata": {},
   "outputs": [],
   "source": []
  },
  {
   "cell_type": "markdown",
   "id": "a81d6f50",
   "metadata": {},
   "source": [
    "## Different view using resources\n",
    "\n",
    "### I'll replace the acitivities for Roles to get a different view"
   ]
  },
  {
   "cell_type": "code",
   "execution_count": 17,
   "id": "63066fff",
   "metadata": {},
   "outputs": [],
   "source": [
    "log = pm4py.format_dataframe(data, \n",
    "                              case_id='CaseId', \n",
    "                              activity_key='Role', \n",
    "                              timestamp_key='EndTimestamp', \n",
    "                              start_timestamp_key='StartTimestamp', \n",
    "                              timest_format='%Y-%m-%d %H:%M:%S%z')"
   ]
  },
  {
   "cell_type": "code",
   "execution_count": 18,
   "id": "cff69a08",
   "metadata": {},
   "outputs": [
    {
     "data": {
      "image/png": "[encoded data removed]",
      "text/plain": [
       "<IPython.core.display.Image object>"
      ]
     },
     "metadata": {},
     "output_type": "display_data"
    }
   ],
   "source": [
    "## Import the dfg_discovery algorithm\n",
    "from pm4py.algo.discovery.dfg import algorithm as dfg_discovery\n",
    "\n",
    "## Import the dfg visualization object\n",
    "from pm4py.visualization.dfg import visualizer as dfg_visualization\n",
    "\n",
    "#Create graph from log\n",
    "dfg = dfg_discovery.apply(log)\n",
    "\n",
    "# Visualise\n",
    "gviz = dfg_visualization.apply(dfg, log=log, variant=dfg_visualization.Variants.FREQUENCY)\n",
    "dfg_visualization.view(gviz)"
   ]
  },
  {
   "cell_type": "code",
   "execution_count": null,
   "id": "58e3e919",
   "metadata": {},
   "outputs": [],
   "source": []
  },
  {
   "cell_type": "code",
   "execution_count": null,
   "id": "1d6f66aa",
   "metadata": {},
   "outputs": [],
   "source": []
  },
  {
   "cell_type": "code",
   "execution_count": null,
   "id": "7f401e79",
   "metadata": {},
   "outputs": [],
   "source": []
  },
  {
   "cell_type": "code",
   "execution_count": null,
   "id": "42ee0db5",
   "metadata": {},
   "outputs": [],
   "source": []
  },
  {
   "cell_type": "code",
   "execution_count": null,
   "id": "3b6f42af",
   "metadata": {},
   "outputs": [],
   "source": []
  },
  {
   "cell_type": "code",
   "execution_count": null,
   "id": "77c3acb4",
   "metadata": {},
   "outputs": [],
   "source": []
  },
  {
   "cell_type": "code",
   "execution_count": null,
   "id": "bf5f7f72",
   "metadata": {},
   "outputs": [],
   "source": []
  },
  {
   "cell_type": "code",
   "execution_count": null,
   "id": "7f5ae7db",
   "metadata": {},
   "outputs": [],
   "source": []
  },
  {
   "cell_type": "code",
   "execution_count": null,
   "id": "03e2973b",
   "metadata": {},
   "outputs": [],
   "source": []
  },
  {
   "cell_type": "code",
   "execution_count": null,
   "id": "acee4279",
   "metadata": {},
   "outputs": [],
   "source": []
  },
  {
   "cell_type": "code",
   "execution_count": null,
   "id": "65c98a85",
   "metadata": {},
   "outputs": [],
   "source": []
  },
  {
   "cell_type": "code",
   "execution_count": null,
   "id": "a68a79d1",
   "metadata": {},
   "outputs": [],
   "source": []
  },
  {
   "cell_type": "code",
   "execution_count": null,
   "id": "b22f9f11",
   "metadata": {},
   "outputs": [],
   "source": []
  },
  {
   "cell_type": "code",
   "execution_count": null,
   "id": "7b459d78",
   "metadata": {},
   "outputs": [],
   "source": []
  },
  {
   "cell_type": "code",
   "execution_count": null,
   "id": "c854356f",
   "metadata": {},
   "outputs": [],
   "source": []
  },
  {
   "cell_type": "code",
   "execution_count": null,
   "id": "41a753a2",
   "metadata": {},
   "outputs": [],
   "source": []
  },
  {
   "cell_type": "code",
   "execution_count": null,
   "id": "e6769c75",
   "metadata": {},
   "outputs": [],
   "source": []
  },
  {
   "cell_type": "code",
   "execution_count": null,
   "id": "d847ee5e",
   "metadata": {},
   "outputs": [],
   "source": []
  },
  {
   "cell_type": "code",
   "execution_count": null,
   "id": "858804cb",
   "metadata": {},
   "outputs": [],
   "source": []
  }
 ],
 "metadata": {
  "kernelspec": {
   "display_name": "Python 3",
   "language": "python",
   "name": "python3"
  },
  "language_info": {
   "codemirror_mode": {
    "name": "ipython",
    "version": 3
   },
   "file_extension": ".py",
   "mimetype": "text/x-python",
   "name": "python",
   "nbconvert_exporter": "python",
   "pygments_lexer": "ipython3",
   "version": "3.8.8"
  }
 },
 "nbformat": 4,
 "nbformat_minor": 5
}
