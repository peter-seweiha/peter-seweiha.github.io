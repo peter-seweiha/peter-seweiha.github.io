{
 "cells": [
  {
   "cell_type": "code",
   "execution_count": 1,
   "metadata": {},
   "outputs": [],
   "source": [
    "import numpy as np\n",
    "import pandas as pd\n",
    "import matplotlib.pyplot as plt\n",
    "import seaborn as sns\n",
    "\n",
    "from sklearn.model_selection import train_test_split\n",
    "\n",
    "from sklearn.ensemble import RandomForestClassifier\n",
    "from sklearn.metrics import confusion_matrix, classification_report\n",
    "from sklearn.model_selection import cross_val_score\n",
    "\n",
    "from sklearn.model_selection import GridSearchCV\n",
    "\n",
    "\n",
    "import warnings\n",
    "warnings.filterwarnings('ignore')"
   ]
  },
  {
   "cell_type": "code",
   "execution_count": 2,
   "metadata": {},
   "outputs": [
    {
     "data": {
      "text/html": [
       "<div>\n",
       "<style scoped>\n",
       "    .dataframe tbody tr th:only-of-type {\n",
       "        vertical-align: middle;\n",
       "    }\n",
       "\n",
       "    .dataframe tbody tr th {\n",
       "        vertical-align: top;\n",
       "    }\n",
       "\n",
       "    .dataframe thead th {\n",
       "        text-align: right;\n",
       "    }\n",
       "</style>\n",
       "<table border=\"1\" class=\"dataframe\">\n",
       "  <thead>\n",
       "    <tr style=\"text-align: right;\">\n",
       "      <th></th>\n",
       "      <th>pair</th>\n",
       "      <th>mins</th>\n",
       "      <th>price</th>\n",
       "      <th>entry</th>\n",
       "      <th>exit value</th>\n",
       "    </tr>\n",
       "  </thead>\n",
       "  <tbody>\n",
       "    <tr>\n",
       "      <th>0</th>\n",
       "      <td>A</td>\n",
       "      <td>5</td>\n",
       "      <td>100</td>\n",
       "      <td>0</td>\n",
       "      <td>0</td>\n",
       "    </tr>\n",
       "    <tr>\n",
       "      <th>1</th>\n",
       "      <td>A</td>\n",
       "      <td>10</td>\n",
       "      <td>200</td>\n",
       "      <td>1</td>\n",
       "      <td>NaN</td>\n",
       "    </tr>\n",
       "    <tr>\n",
       "      <th>2</th>\n",
       "      <td>A</td>\n",
       "      <td>15</td>\n",
       "      <td>300</td>\n",
       "      <td>0</td>\n",
       "      <td>0</td>\n",
       "    </tr>\n",
       "  </tbody>\n",
       "</table>\n",
       "</div>"
      ],
      "text/plain": [
       "  pair  mins  price  entry exit value\n",
       "0    A     5    100      0          0\n",
       "1    A    10    200      1        NaN\n",
       "2    A    15    300      0          0"
      ]
     },
     "execution_count": 2,
     "metadata": {},
     "output_type": "execute_result"
    }
   ],
   "source": [
    "# Read the dataset\n",
    "data = pd.read_csv('ex1.csv')\n",
    "data.head(3)"
   ]
  },
  {
   "cell_type": "markdown",
   "metadata": {},
   "source": [
    "# Data Split"
   ]
  },
  {
   "cell_type": "code",
   "execution_count": 3,
   "metadata": {},
   "outputs": [
    {
     "data": {
      "text/plain": [
       "'\\n# run non-random split (test set is the last few rows of data)\\nX_train, X_test, y_train, y_test = train_test_split (X, y, test_size=0.2 , shuffle = False)\\n\\n'"
      ]
     },
     "execution_count": 3,
     "metadata": {},
     "output_type": "execute_result"
    }
   ],
   "source": [
    "# Split the data\n",
    "X = data.drop(['entry','pair', 'exit value'], axis=1)\n",
    "y= data['entry']\n",
    "\n",
    "# run stratified split (random by default)\n",
    "X_train, X_test, y_train, y_test = train_test_split (X, y, test_size=0.5 , stratify= data['pair'] )\n",
    "\n",
    "\"\"\"\n",
    "# run non-random split (test set is the last few rows of data)\n",
    "X_train, X_test, y_train, y_test = train_test_split (X, y, test_size=0.2 , shuffle = False)\n",
    "\n",
    "\"\"\""
   ]
  },
  {
   "cell_type": "markdown",
   "metadata": {},
   "source": [
    "### 1. Fit the model"
   ]
  },
  {
   "cell_type": "code",
   "execution_count": 5,
   "metadata": {},
   "outputs": [
    {
     "data": {
      "text/plain": [
       "RandomForestClassifier(bootstrap=True, class_weight=None, criterion='entropy',\n",
       "                       max_depth=None, max_features='auto', max_leaf_nodes=None,\n",
       "                       min_impurity_decrease=0.0, min_impurity_split=None,\n",
       "                       min_samples_leaf=1, min_samples_split=2,\n",
       "                       min_weight_fraction_leaf=0.0, n_estimators=100,\n",
       "                       n_jobs=-1, oob_score=False, random_state=25, verbose=0,\n",
       "                       warm_start=False)"
      ]
     },
     "execution_count": 5,
     "metadata": {},
     "output_type": "execute_result"
    }
   ],
   "source": [
    "# fit the model\n",
    "clas = RandomForestClassifier(n_estimators = 100, criterion = 'entropy',random_state= 25, n_jobs=-1)\n",
    "clas.fit(X_train, y_train)"
   ]
  },
  {
   "cell_type": "markdown",
   "metadata": {},
   "source": [
    "### 2. Assess model performance"
   ]
  },
  {
   "cell_type": "code",
   "execution_count": 6,
   "metadata": {},
   "outputs": [
    {
     "name": "stdout",
     "output_type": "stream",
     "text": [
      "Accuracy: 0.907\n",
      "Null Accuracy: 0    0.697674\n",
      "Name: entry, dtype: float64\n",
      "k-fold Accuracies mean: 0.917\n",
      "k-fold Accuracies std: 0.074\n",
      "_______________________________________________\n"
     ]
    },
    {
     "data": {
      "image/png": "[encoded data removed]",
      "text/plain": [
       "<Figure size 432x288 with 2 Axes>"
      ]
     },
     "metadata": {
      "needs_background": "light"
     },
     "output_type": "display_data"
    },
    {
     "name": "stdout",
     "output_type": "stream",
     "text": [
      "              precision    recall  f1-score   support\n",
      "\n",
      "           0       0.88      1.00      0.94        60\n",
      "           1       1.00      0.69      0.82        26\n",
      "\n",
      "    accuracy                           0.91        86\n",
      "   macro avg       0.94      0.85      0.88        86\n",
      "weighted avg       0.92      0.91      0.90        86\n",
      "\n",
      "__________________________\n",
      "Feature Importance\n",
      "\n",
      "       importance\n",
      "mins     0.561084\n",
      "price    0.438916\n",
      "__________________________\n"
     ]
    }
   ],
   "source": [
    "# get model predictions\n",
    "y_pred = clas.predict(X_test)\n",
    "\n",
    "# 1. Accuracy Score \n",
    "print(f'Accuracy: {round(clas.score(X_test, y_test), 3)}')\n",
    "print(f'Null Accuracy: { y_test.value_counts().head(1)/ len(y_test)}')\n",
    "\n",
    "# 2. K-Fold cross validation\n",
    "accuracies = cross_val_score(estimator = clas, X = X_train, y = y_train, cv = 10, n_jobs= -1 )\n",
    "print(f'k-fold Accuracies mean: {round(accuracies.mean(), 3)}')\n",
    "print(f'k-fold Accuracies std: {round(accuracies.std(), 3)}')\n",
    "print('_______________________________________________')\n",
    "\n",
    "# 3. Confusion matrix\n",
    "cm = confusion_matrix(y_test, y_pred)\n",
    "sns.heatmap(cm, annot=True)\n",
    "plt.ylim(2,0)\n",
    "plt.show()\n",
    "\n",
    "# 4. Summary report\n",
    "print(classification_report(y_test, y_pred))\n",
    "\n",
    "\n",
    "# 5. Feature Importance\n",
    "print('__________________________')\n",
    "print('Feature Importance')\n",
    "print()\n",
    "print(pd.DataFrame(clas.feature_importances_,\n",
    "                                   index = X_train.columns,\n",
    "                                    columns=['importance']).sort_values('importance',ascending=False) )\n",
    "print('__________________________')\n"
   ]
  },
  {
   "cell_type": "markdown",
   "metadata": {},
   "source": [
    "### 3. Apply GridSearchCV to fine-tune hyperparameters"
   ]
  },
  {
   "cell_type": "code",
   "execution_count": 7,
   "metadata": {},
   "outputs": [
    {
     "name": "stdout",
     "output_type": "stream",
     "text": [
      "Best Accuracy: 0.91765\n",
      "Best Parameters: {'criterion': 'entropy', 'n_estimators': 30}\n"
     ]
    },
    {
     "data": {
      "text/html": [
       "<div>\n",
       "<style scoped>\n",
       "    .dataframe tbody tr th:only-of-type {\n",
       "        vertical-align: middle;\n",
       "    }\n",
       "\n",
       "    .dataframe tbody tr th {\n",
       "        vertical-align: top;\n",
       "    }\n",
       "\n",
       "    .dataframe thead th {\n",
       "        text-align: right;\n",
       "    }\n",
       "</style>\n",
       "<table border=\"1\" class=\"dataframe\">\n",
       "  <thead>\n",
       "    <tr style=\"text-align: right;\">\n",
       "      <th></th>\n",
       "      <th>params</th>\n",
       "      <th>mean_test_score</th>\n",
       "      <th>std_test_score</th>\n",
       "      <th>rank_test_score</th>\n",
       "      <th>min_pred_mean</th>\n",
       "    </tr>\n",
       "  </thead>\n",
       "  <tbody>\n",
       "    <tr>\n",
       "      <th>0</th>\n",
       "      <td>{'criterion': 'entropy', 'n_estimators': 30}</td>\n",
       "      <td>0.917647</td>\n",
       "      <td>0.075075</td>\n",
       "      <td>1</td>\n",
       "      <td>0.692421</td>\n",
       "    </tr>\n",
       "    <tr>\n",
       "      <th>1</th>\n",
       "      <td>{'criterion': 'entropy', 'n_estimators': 50}</td>\n",
       "      <td>0.917647</td>\n",
       "      <td>0.075075</td>\n",
       "      <td>1</td>\n",
       "      <td>0.692421</td>\n",
       "    </tr>\n",
       "    <tr>\n",
       "      <th>2</th>\n",
       "      <td>{'criterion': 'entropy', 'n_estimators': 100}</td>\n",
       "      <td>0.917647</td>\n",
       "      <td>0.075075</td>\n",
       "      <td>1</td>\n",
       "      <td>0.692421</td>\n",
       "    </tr>\n",
       "    <tr>\n",
       "      <th>3</th>\n",
       "      <td>{'criterion': 'gini', 'n_estimators': 30}</td>\n",
       "      <td>0.917647</td>\n",
       "      <td>0.075075</td>\n",
       "      <td>1</td>\n",
       "      <td>0.692421</td>\n",
       "    </tr>\n",
       "    <tr>\n",
       "      <th>4</th>\n",
       "      <td>{'criterion': 'gini', 'n_estimators': 50}</td>\n",
       "      <td>0.917647</td>\n",
       "      <td>0.075075</td>\n",
       "      <td>1</td>\n",
       "      <td>0.692421</td>\n",
       "    </tr>\n",
       "  </tbody>\n",
       "</table>\n",
       "</div>"
      ],
      "text/plain": [
       "                                          params  mean_test_score  \\\n",
       "0   {'criterion': 'entropy', 'n_estimators': 30}         0.917647   \n",
       "1   {'criterion': 'entropy', 'n_estimators': 50}         0.917647   \n",
       "2  {'criterion': 'entropy', 'n_estimators': 100}         0.917647   \n",
       "3      {'criterion': 'gini', 'n_estimators': 30}         0.917647   \n",
       "4      {'criterion': 'gini', 'n_estimators': 50}         0.917647   \n",
       "\n",
       "   std_test_score  rank_test_score  min_pred_mean  \n",
       "0        0.075075                1       0.692421  \n",
       "1        0.075075                1       0.692421  \n",
       "2        0.075075                1       0.692421  \n",
       "3        0.075075                1       0.692421  \n",
       "4        0.075075                1       0.692421  "
      ]
     },
     "execution_count": 7,
     "metadata": {},
     "output_type": "execute_result"
    }
   ],
   "source": [
    "# set the parameters to test\n",
    "parameters = [{'n_estimators' : [30, 50, 100], 'criterion': ['entropy']},\n",
    "              {'n_estimators' : [30, 50, 100], 'criterion': ['gini']}\n",
    "             ]\n",
    "\n",
    "# set GridSearchCV\n",
    "grid_search = GridSearchCV(estimator = clas,\n",
    "                          param_grid = parameters,\n",
    "                          scoring = 'accuracy',\n",
    "                          cv = 10,\n",
    "                          n_jobs = -1)\n",
    "\n",
    "# fit \n",
    "grid_search = grid_search.fit(X_train, y_train)\n",
    "\n",
    "# get best accuracy and parameters\n",
    "print(f'Best Accuracy: {round(grid_search.best_score_, 5)}')\n",
    "print(f'Best Parameters: {grid_search.best_params_}')\n",
    "\n",
    "cv_results = (pd.DataFrame( grid_search.cv_results_ ))\n",
    "pd.options.display.max_colwidth = 100\n",
    "cv_results['min_pred_mean']= cv_results['mean_test_score']- (3 * cv_results['std_test_score'])\n",
    "cv_results[['params', 'mean_test_score', 'std_test_score',\n",
    "            'rank_test_score','min_pred_mean']].sort_values(by ='min_pred_mean',ascending=False).head(5)"
   ]
  },
  {
   "cell_type": "code",
   "execution_count": null,
   "metadata": {},
   "outputs": [],
   "source": []
  }
 ],
 "metadata": {
  "kernelspec": {
   "display_name": "Python 3",
   "language": "python",
   "name": "python3"
  },
  "language_info": {
   "codemirror_mode": {
    "name": "ipython",
    "version": 3
   },
   "file_extension": ".py",
   "mimetype": "text/x-python",
   "name": "python",
   "nbconvert_exporter": "python",
   "pygments_lexer": "ipython3",
   "version": "3.7.3"
  },
  "varInspector": {
   "cols": {
    "lenName": 16,
    "lenType": 16,
    "lenVar": 40
   },
   "kernels_config": {
    "python": {
     "delete_cmd_postfix": "",
     "delete_cmd_prefix": "del ",
     "library": "var_list.py",
     "varRefreshCmd": "print(var_dic_list())"
    },
    "r": {
     "delete_cmd_postfix": ") ",
     "delete_cmd_prefix": "rm(",
     "library": "var_list.r",
     "varRefreshCmd": "cat(var_dic_list()) "
    }
   },
   "types_to_exclude": [
    "module",
    "function",
    "builtin_function_or_method",
    "instance",
    "_Feature"
   ],
   "window_display": false
  }
 },
 "nbformat": 4,
 "nbformat_minor": 4
}
