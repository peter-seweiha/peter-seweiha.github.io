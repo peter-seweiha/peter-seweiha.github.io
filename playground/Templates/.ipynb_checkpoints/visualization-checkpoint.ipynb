{
 "cells": [
  {
   "cell_type": "code",
   "execution_count": null,
   "metadata": {},
   "outputs": [],
   "source": []
  },
  {
   "cell_type": "code",
   "execution_count": null,
   "metadata": {},
   "outputs": [],
   "source": []
  },
  {
   "cell_type": "code",
   "execution_count": null,
   "metadata": {},
   "outputs": [],
   "source": [
    "# kernel density estimation (KDE) is a non-parametric way to estimate the probability density function of a random variable.\n",
    "\n",
    "fraud = data[data['Class'] ==1]\n",
    "non_fraud = data[data['Class'] ==0]\n",
    "column_headers = data.columns.values\n",
    "\n",
    "i = 1\n",
    "\n",
    "fig, ax = plt.subplots(8,4,figsize=(18,30))\n",
    "for column_header in column_headers:    \n",
    "    plt.subplot(8,4,i)\n",
    "    sns.kdeplot(fraud[column_header], bw = 0.4, label = \"Fraud\", shade=True, color=\"r\", linestyle=\"--\")\n",
    "    sns.kdeplot(non_fraud[column_header], bw = 0.4, label = \"Non Fraud\", shade=True, color= \"y\", linestyle=\":\")\n",
    "    plt.title(column_header, fontsize=12)\n",
    "    i = i + 1\n",
    "plt.show();"
   ]
  },
  {
   "cell_type": "markdown",
   "metadata": {},
   "source": [
    "<img src=\"images/Capture.PNG\">\n"
   ]
  },
  {
   "cell_type": "code",
   "execution_count": null,
   "metadata": {},
   "outputs": [],
   "source": []
  }
 ],
 "metadata": {
  "kernelspec": {
   "display_name": "Python 3",
   "language": "python",
   "name": "python3"
  },
  "language_info": {
   "codemirror_mode": {
    "name": "ipython",
    "version": 3
   },
   "file_extension": ".py",
   "mimetype": "text/x-python",
   "name": "python",
   "nbconvert_exporter": "python",
   "pygments_lexer": "ipython3",
   "version": "3.7.3"
  }
 },
 "nbformat": 4,
 "nbformat_minor": 4
}
